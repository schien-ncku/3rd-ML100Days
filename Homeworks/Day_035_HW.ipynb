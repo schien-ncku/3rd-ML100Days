{
 "cells": [
  {
   "cell_type": "markdown",
   "metadata": {},
   "source": [
    "## 練習時間\n",
    "相信大家對回歸問題及分類問題都有初步的了解。今天的作業希望大家搜尋有關 multi-label 的案例問題。下圖是電影 \"奇異博士\" 的分類。可以看到同時有 \"Action\", \"Adventure\", \"Fantasy\" 的類別存在，代表這是個多標籤的問題。 "
   ]
  },
  {
   "cell_type": "markdown",
   "metadata": {},
   "source": [
    "![image](https://cdn-images-1.medium.com/max/1000/1*r0gYXMSQf5VhdMyl2bRDyg.png)"
   ]
  },
  {
   "cell_type": "markdown",
   "metadata": {},
   "source": [
    "## 請搜尋目標為多標籤問題 (Multi-label) 的機器學習案例，了解其資料來源、目標以及評估指標為何\n",
    "## Hint: 服飾"
   ]
  },
  {
   "cell_type": "markdown",
   "metadata": {},
   "source": [
    "參考資料：https://www.aiuai.cn/aifarm662.html\n",
    "\n",
    "以服裝分類為例\n",
    "服裝可以依功能、顏色、材質/質感...方式分類\n",
    "每一件服裝就可以有功能、顏色、材質/質感...多個標籤\n",
    "\n",
    "Clothing type: Shirts, Dresses, Pants, Shoes, etc.\n",
    "Color: Red, Blue, Green, Black, etc.\n",
    "Texture/appearance: Cotton, Wool, silk, Tweed, etc\n",
    "\n",
    "資料準備需要有依不同標籤的分類資料\n",
    "![image](https://www.aiuai.cn/uploads/sina/5ce8e01cbf279.jpg)\n",
    "\n",
    "根據每一個標籤，設定成二元分類問題\n",
    "然後再組合成整體成果"
   ]
  },
  {
   "cell_type": "code",
   "execution_count": null,
   "metadata": {},
   "outputs": [],
   "source": []
  }
 ],
 "metadata": {
  "kernelspec": {
   "display_name": "Python 3",
   "language": "python",
   "name": "python3"
  },
  "language_info": {
   "codemirror_mode": {
    "name": "ipython",
    "version": 3
   },
   "file_extension": ".py",
   "mimetype": "text/x-python",
   "name": "python",
   "nbconvert_exporter": "python",
   "pygments_lexer": "ipython3",
   "version": "3.7.3"
  }
 },
 "nbformat": 4,
 "nbformat_minor": 2
}
