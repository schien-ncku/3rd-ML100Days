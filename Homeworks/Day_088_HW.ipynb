{
 "cells": [
  {
   "cell_type": "markdown",
   "metadata": {},
   "source": [
    "## Work\n",
    "1. 請嘗試寫一個 callback 用來記錄各類別在訓練過程中，對驗證集的 True Positive 與 True Negative"
   ]
  },
  {
   "cell_type": "code",
   "execution_count": 1,
   "metadata": {},
   "outputs": [
    {
     "name": "stderr",
     "output_type": "stream",
     "text": [
      "Using TensorFlow backend.\n"
     ]
    }
   ],
   "source": [
    "import os\n",
    "import keras\n",
    "\n",
    "# Disable GPU\n",
    "os.environ[\"CUDA_VISIBLE_DEVICES\"] = \"\""
   ]
  },
  {
   "cell_type": "code",
   "execution_count": 2,
   "metadata": {},
   "outputs": [],
   "source": [
    "train, test = keras.datasets.cifar10.load_data()"
   ]
  },
  {
   "cell_type": "code",
   "execution_count": 3,
   "metadata": {},
   "outputs": [],
   "source": [
    "## 資料前處理\n",
    "def preproc_x(x, flatten=True):\n",
    "    x = x / 255.\n",
    "    if flatten:\n",
    "        x = x.reshape((len(x), -1))\n",
    "    return x\n",
    "\n",
    "def preproc_y(y, num_classes=10):\n",
    "    if y.shape[-1] == 1:\n",
    "        y = keras.utils.to_categorical(y, num_classes)\n",
    "    return y    "
   ]
  },
  {
   "cell_type": "code",
   "execution_count": 4,
   "metadata": {},
   "outputs": [],
   "source": [
    "x_train, y_train = train\n",
    "x_test, y_test = test\n",
    "\n",
    "# Preproc the inputs\n",
    "x_train = preproc_x(x_train)\n",
    "x_test = preproc_x(x_test)\n",
    "\n",
    "# Preprc the outputs\n",
    "y_train = preproc_y(y_train)\n",
    "y_test = preproc_y(y_test)"
   ]
  },
  {
   "cell_type": "code",
   "execution_count": 5,
   "metadata": {},
   "outputs": [],
   "source": [
    "from keras.layers import BatchNormalization\n",
    "def build_mlp(input_shape, output_units=10, num_neurons=[256, 256, 256]):\n",
    "    input_layer = keras.layers.Input(input_shape)\n",
    "    \n",
    "    for i, n_units in enumerate(num_neurons):\n",
    "        if i == 0:\n",
    "            x = keras.layers.Dense(units=n_units, \n",
    "                                   activation=\"relu\", \n",
    "                                   name=\"hidden_layer\"+str(i+1))(input_layer)\n",
    "            x = BatchNormalization()(x)\n",
    "        else:\n",
    "            x = keras.layers.Dense(units=n_units, \n",
    "                                   activation=\"relu\", \n",
    "                                   name=\"hidden_layer\"+str(i+1))(x)\n",
    "            x = BatchNormalization()(x)\n",
    "    \n",
    "    out = keras.layers.Dense(units=output_units, activation=\"softmax\", name=\"output\")(x)\n",
    "    \n",
    "    model = keras.models.Model(inputs=[input_layer], outputs=[out])\n",
    "    return model"
   ]
  },
  {
   "cell_type": "code",
   "execution_count": 6,
   "metadata": {},
   "outputs": [],
   "source": [
    "## 超參數設定\n",
    "LEARNING_RATE = 1e-3\n",
    "EPOCHS = 25\n",
    "BATCH_SIZE = 1024\n",
    "MOMENTUM = 0.95"
   ]
  },
  {
   "cell_type": "code",
   "execution_count": 7,
   "metadata": {},
   "outputs": [],
   "source": [
    "# 載入 Callbacks\n",
    "from keras.callbacks import Callback\n",
    "from keras import backend as K\n",
    "import numpy\n",
    "\n",
    "# Record_fp_tp\n",
    "class Record_tp_tn(Callback):\n",
    "    \"\"\"Code Here\n",
    "    撰寫一個紀錄 ture positive 與 true negative 數量的 callbacks    \n",
    "    \"\"\"\n",
    "    def on_train_begin(self, epoch, logs = {}):\n",
    "        logs = logs or {}\n",
    "        record_items = [\"val_auc\", \"val_f1sc\", \"val_fp\", \"val_fn\", \"val_tp\", \"val_tn\"]\n",
    "        for i in record_items:\n",
    "            if i not in self.params['metrics']:\n",
    "                self.params['metrics'].append(i)\n",
    "    \n",
    "    def on_epoch_end(self, epoch, logs = {}, thres=0.5):\n",
    "        logs = logs or {}\n",
    "        y_true = self.validation_data[1].argmax(axis = 1)\n",
    "        y_pred = self.model.predict(self.validation_data[0])\n",
    "        y_pred = (y_pred[:, 1] >= thres) * 1\n",
    "        \n",
    "        # added code from https://stackoverflow.com/questions/49007163/keras-get-true-negative-from-y-true-and-y-pred\n",
    "        y_pred_pos = K.round(K.clip(y_pred, 0, 1))\n",
    "        y_pred_neg = 1 - y_pred_pos\n",
    "        y_pos = K.round(K.clip(y_true, 0, 1))\n",
    "        y_neg = 1 - y_pos\n",
    "        tp = K.sum(y_pos * y_pred_pos) / K.sum(y_pos)\n",
    "        tn = K.sum(y_neg * y_pred_neg) / K.sum(y_neg)\n",
    "        \n",
    "        logs[\"val_tp\"] = tp\n",
    "        logs[\"val_tn\"] = tn\n",
    "\n",
    "        \n",
    "rec_tptn = Record_tp_tn()"
   ]
  },
  {
   "cell_type": "code",
   "execution_count": 8,
   "metadata": {
    "scrolled": true
   },
   "outputs": [
    {
     "name": "stdout",
     "output_type": "stream",
     "text": [
      "Model: \"model_1\"\n",
      "_________________________________________________________________\n",
      "Layer (type)                 Output Shape              Param #   \n",
      "=================================================================\n",
      "input_1 (InputLayer)         (None, 3072)              0         \n",
      "_________________________________________________________________\n",
      "hidden_layer1 (Dense)        (None, 256)               786688    \n",
      "_________________________________________________________________\n",
      "batch_normalization_1 (Batch (None, 256)               1024      \n",
      "_________________________________________________________________\n",
      "hidden_layer2 (Dense)        (None, 256)               65792     \n",
      "_________________________________________________________________\n",
      "batch_normalization_2 (Batch (None, 256)               1024      \n",
      "_________________________________________________________________\n",
      "hidden_layer3 (Dense)        (None, 256)               65792     \n",
      "_________________________________________________________________\n",
      "batch_normalization_3 (Batch (None, 256)               1024      \n",
      "_________________________________________________________________\n",
      "output (Dense)               (None, 10)                2570      \n",
      "=================================================================\n",
      "Total params: 923,914\n",
      "Trainable params: 922,378\n",
      "Non-trainable params: 1,536\n",
      "_________________________________________________________________\n",
      "Train on 50000 samples, validate on 10000 samples\n",
      "Epoch 1/25\n",
      "50000/50000 [==============================] - 9s 171us/step - loss: 2.2342 - accuracy: 0.2671 - val_loss: 2.1526 - val_accuracy: 0.2106\n",
      "Epoch 2/25\n",
      "50000/50000 [==============================] - 11s 213us/step - loss: 1.7649 - accuracy: 0.3851 - val_loss: 2.0227 - val_accuracy: 0.2813\n",
      "Epoch 3/25\n",
      "50000/50000 [==============================] - 8s 153us/step - loss: 1.6378 - accuracy: 0.4254 - val_loss: 1.8720 - val_accuracy: 0.3468\n",
      "Epoch 4/25\n",
      "50000/50000 [==============================] - 8s 155us/step - loss: 1.5653 - accuracy: 0.4521 - val_loss: 1.7211 - val_accuracy: 0.4032\n",
      "Epoch 5/25\n",
      "50000/50000 [==============================] - 8s 151us/step - loss: 1.5102 - accuracy: 0.4720 - val_loss: 1.6448 - val_accuracy: 0.4276\n",
      "Epoch 6/25\n",
      "50000/50000 [==============================] - 8s 151us/step - loss: 1.4658 - accuracy: 0.4868 - val_loss: 1.5761 - val_accuracy: 0.4456\n",
      "Epoch 7/25\n",
      "50000/50000 [==============================] - 8s 150us/step - loss: 1.4286 - accuracy: 0.5023 - val_loss: 1.5472 - val_accuracy: 0.4500\n",
      "Epoch 8/25\n",
      "50000/50000 [==============================] - 7s 146us/step - loss: 1.3955 - accuracy: 0.5113 - val_loss: 1.5500 - val_accuracy: 0.4520\n",
      "Epoch 9/25\n",
      "50000/50000 [==============================] - 7s 144us/step - loss: 1.3670 - accuracy: 0.5222 - val_loss: 1.5124 - val_accuracy: 0.4668\n",
      "Epoch 10/25\n",
      "50000/50000 [==============================] - 7s 144us/step - loss: 1.3410 - accuracy: 0.5319 - val_loss: 1.5085 - val_accuracy: 0.4673\n",
      "Epoch 11/25\n",
      "50000/50000 [==============================] - 8s 152us/step - loss: 1.3161 - accuracy: 0.5405 - val_loss: 1.4927 - val_accuracy: 0.4665\n",
      "Epoch 12/25\n",
      "50000/50000 [==============================] - 7s 148us/step - loss: 1.2911 - accuracy: 0.5505 - val_loss: 1.4895 - val_accuracy: 0.4743\n",
      "Epoch 13/25\n",
      "50000/50000 [==============================] - 7s 146us/step - loss: 1.2682 - accuracy: 0.5595 - val_loss: 1.4818 - val_accuracy: 0.4748\n",
      "Epoch 14/25\n",
      "50000/50000 [==============================] - 7s 144us/step - loss: 1.2467 - accuracy: 0.5669 - val_loss: 1.4730 - val_accuracy: 0.4791\n",
      "Epoch 15/25\n",
      "50000/50000 [==============================] - 7s 144us/step - loss: 1.2265 - accuracy: 0.5752 - val_loss: 1.4860 - val_accuracy: 0.4767\n",
      "Epoch 16/25\n",
      "50000/50000 [==============================] - 7s 144us/step - loss: 1.2060 - accuracy: 0.5817 - val_loss: 1.4644 - val_accuracy: 0.4826\n",
      "Epoch 17/25\n",
      "50000/50000 [==============================] - 7s 144us/step - loss: 1.1859 - accuracy: 0.5887 - val_loss: 1.4632 - val_accuracy: 0.4809\n",
      "Epoch 18/25\n",
      "50000/50000 [==============================] - 7s 145us/step - loss: 1.1686 - accuracy: 0.5964 - val_loss: 1.4893 - val_accuracy: 0.4800\n",
      "Epoch 19/25\n",
      "50000/50000 [==============================] - 7s 144us/step - loss: 1.1489 - accuracy: 0.6021 - val_loss: 1.4577 - val_accuracy: 0.4879\n",
      "Epoch 20/25\n",
      "50000/50000 [==============================] - 7s 145us/step - loss: 1.1299 - accuracy: 0.6114 - val_loss: 1.4642 - val_accuracy: 0.4873\n",
      "Epoch 21/25\n",
      "50000/50000 [==============================] - 7s 150us/step - loss: 1.1128 - accuracy: 0.6158 - val_loss: 1.4543 - val_accuracy: 0.4907\n",
      "Epoch 22/25\n",
      "50000/50000 [==============================] - 7s 148us/step - loss: 1.0954 - accuracy: 0.6228 - val_loss: 1.4537 - val_accuracy: 0.4834\n",
      "Epoch 23/25\n",
      "50000/50000 [==============================] - 8s 153us/step - loss: 1.0786 - accuracy: 0.6289 - val_loss: 1.4443 - val_accuracy: 0.4931\n",
      "Epoch 24/25\n",
      "50000/50000 [==============================] - 7s 148us/step - loss: 1.0635 - accuracy: 0.6357 - val_loss: 1.4516 - val_accuracy: 0.4958\n",
      "Epoch 25/25\n",
      "50000/50000 [==============================] - 7s 149us/step - loss: 1.0470 - accuracy: 0.6414 - val_loss: 1.4468 - val_accuracy: 0.4922\n"
     ]
    }
   ],
   "source": [
    "model = build_mlp(input_shape=x_train.shape[1:])\n",
    "model.summary()\n",
    "optimizer = keras.optimizers.SGD(lr=LEARNING_RATE, nesterov=True, momentum=MOMENTUM)\n",
    "model.compile(loss=\"categorical_crossentropy\", metrics=[\"accuracy\"], optimizer=optimizer)\n",
    "\n",
    "\"\"\"Code Here\n",
    "將 callbacks 放入模型訓練流程中\n",
    "\"\"\"\n",
    "model.fit(x_train, y_train, \n",
    "          epochs=EPOCHS, \n",
    "          batch_size=BATCH_SIZE, \n",
    "          validation_data=(x_test, y_test), \n",
    "          shuffle=True,\n",
    "          callbacks=[rec_tptn]\n",
    "         )\n",
    "\n",
    "# Collect results\n",
    "train_loss = model.history.history[\"loss\"]\n",
    "valid_loss = model.history.history[\"val_loss\"]\n",
    "train_acc = model.history.history[\"accuracy\"]\n",
    "valid_acc = model.history.history[\"val_accuracy\"]\n",
    "\n",
    "\"\"\"Code Here\n",
    "將 tp/tn 從訓練完的模型中取出\n",
    "\"\"\"\n",
    "valid_tp = model.history.history['val_tp']\n",
    "valid_tn = model.history.history['val_tn']"
   ]
  },
  {
   "cell_type": "code",
   "execution_count": 9,
   "metadata": {},
   "outputs": [
    {
     "data": {
      "image/png": "[encoded data removed]",
      "text/plain": [
       "<Figure size 432x288 with 1 Axes>"
      ]
     },
     "metadata": {
      "needs_background": "light"
     },
     "output_type": "display_data"
    },
    {
     "data": {
      "image/png": "[encoded data removed]",
      "text/plain": [
       "<Figure size 432x288 with 1 Axes>"
      ]
     },
     "metadata": {
      "needs_background": "light"
     },
     "output_type": "display_data"
    },
    {
     "data": {
      "image/png": "[encoded data removed]",
      "text/plain": [
       "<Figure size 432x288 with 1 Axes>"
      ]
     },
     "metadata": {
      "needs_background": "light"
     },
     "output_type": "display_data"
    }
   ],
   "source": [
    "import matplotlib.pyplot as plt\n",
    "%matplotlib inline\n",
    "\n",
    "plt.plot(range(len(train_loss)), train_loss, label=\"train loss\")\n",
    "plt.plot(range(len(valid_loss)), valid_loss, label=\"valid loss\")\n",
    "plt.legend()\n",
    "plt.title(\"Loss\")\n",
    "plt.show()\n",
    "\n",
    "plt.plot(range(len(train_acc)), train_acc, label=\"train accuracy\")\n",
    "plt.plot(range(len(valid_acc)), valid_acc, label=\"valid accuracy\")\n",
    "plt.legend()\n",
    "plt.title(\"Accuracy\")\n",
    "plt.show()\n",
    "\n",
    "plt.plot(range(len(valid_tp)), valid_tp, label=\"valid tp\", color=\"navy\")\n",
    "plt.plot(range(len(valid_tn)), valid_tn, label=\"valid tn\", color=\"red\")\n",
    "plt.legend()\n",
    "plt.title(\"True positives and True Negatives\")\n",
    "plt.show()\n"
   ]
  }
 ],
 "metadata": {
  "kernelspec": {
   "display_name": "Python 3",
   "language": "python",
   "name": "python3"
  },
  "language_info": {
   "codemirror_mode": {
    "name": "ipython",
    "version": 3
   },
   "file_extension": ".py",
   "mimetype": "text/x-python",
   "name": "python",
   "nbconvert_exporter": "python",
   "pygments_lexer": "ipython3",
   "version": "3.7.3"
  }
 },
 "nbformat": 4,
 "nbformat_minor": 2
}
