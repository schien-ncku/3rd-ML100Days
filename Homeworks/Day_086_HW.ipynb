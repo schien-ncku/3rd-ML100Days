{
 "cells": [
  {
   "cell_type": "markdown",
   "metadata": {},
   "source": [
    "## Work\n",
    "1. 試比較 save_best_only 與否的差異\n",
    "2. 請僅存入將 save_weights_only 設定為 True, 並嘗試 reset ipynb 並將模型與權重重新建回並預測 x_test"
   ]
  },
  {
   "cell_type": "code",
   "execution_count": 1,
   "metadata": {},
   "outputs": [
    {
     "name": "stderr",
     "output_type": "stream",
     "text": [
      "Using TensorFlow backend.\n"
     ]
    }
   ],
   "source": [
    "import os\n",
    "import keras\n",
    "\n",
    "# Disable GPU\n",
    "os.environ[\"CUDA_VISIBLE_DEVICES\"] = \"\""
   ]
  },
  {
   "cell_type": "code",
   "execution_count": 2,
   "metadata": {},
   "outputs": [],
   "source": [
    "train, test = keras.datasets.cifar10.load_data()"
   ]
  },
  {
   "cell_type": "code",
   "execution_count": 3,
   "metadata": {},
   "outputs": [],
   "source": [
    "## 資料前處理\n",
    "def preproc_x(x, flatten=True):\n",
    "    x = x / 255.\n",
    "    if flatten:\n",
    "        x = x.reshape((len(x), -1))\n",
    "    return x\n",
    "\n",
    "def preproc_y(y, num_classes=10):\n",
    "    if y.shape[-1] == 1:\n",
    "        y = keras.utils.to_categorical(y, num_classes)\n",
    "    return y    "
   ]
  },
  {
   "cell_type": "code",
   "execution_count": 4,
   "metadata": {},
   "outputs": [],
   "source": [
    "x_train, y_train = train\n",
    "x_test, y_test = test\n",
    "\n",
    "# Preproc the inputs\n",
    "x_train = preproc_x(x_train)\n",
    "x_test = preproc_x(x_test)\n",
    "\n",
    "# Preprc the outputs\n",
    "y_train = preproc_y(y_train)\n",
    "y_test = preproc_y(y_test)"
   ]
  },
  {
   "cell_type": "code",
   "execution_count": 5,
   "metadata": {},
   "outputs": [],
   "source": [
    "from keras.layers import BatchNormalization\n",
    "\n",
    "\"\"\"\n",
    "建立神經網路，並加入 BN layer\n",
    "\"\"\"\n",
    "def build_mlp(input_shape, output_units=10, num_neurons=[512, 256, 128]):\n",
    "    input_layer = keras.layers.Input(input_shape)\n",
    "    \n",
    "    for i, n_units in enumerate(num_neurons):\n",
    "        if i == 0:\n",
    "            x = keras.layers.Dense(units=n_units, \n",
    "                                   activation=\"relu\", \n",
    "                                   name=\"hidden_layer\"+str(i+1))(input_layer)\n",
    "            x = BatchNormalization()(x)\n",
    "        else:\n",
    "            x = keras.layers.Dense(units=n_units, \n",
    "                                   activation=\"relu\", \n",
    "                                   name=\"hidden_layer\"+str(i+1))(x)\n",
    "            x = BatchNormalization()(x)\n",
    "    \n",
    "    out = keras.layers.Dense(units=output_units, activation=\"softmax\", name=\"output\")(x)\n",
    "    \n",
    "    model = keras.models.Model(inputs=[input_layer], outputs=[out])\n",
    "    return model"
   ]
  },
  {
   "cell_type": "code",
   "execution_count": 6,
   "metadata": {},
   "outputs": [],
   "source": [
    "## 超參數設定\n",
    "LEARNING_RATE = 1e-3\n",
    "EPOCHS = 20\n",
    "BATCH_SIZE = 1024\n",
    "MOMENTUM = 0.95\n",
    "SAVE_BEST = True\n",
    "SAVE_WEIGHTS = True"
   ]
  },
  {
   "cell_type": "code",
   "execution_count": 7,
   "metadata": {},
   "outputs": [
    {
     "name": "stdout",
     "output_type": "stream",
     "text": [
      "Model: \"model_1\"\n",
      "_________________________________________________________________\n",
      "Layer (type)                 Output Shape              Param #   \n",
      "=================================================================\n",
      "input_1 (InputLayer)         (None, 3072)              0         \n",
      "_________________________________________________________________\n",
      "hidden_layer1 (Dense)        (None, 512)               1573376   \n",
      "_________________________________________________________________\n",
      "batch_normalization_1 (Batch (None, 512)               2048      \n",
      "_________________________________________________________________\n",
      "hidden_layer2 (Dense)        (None, 256)               131328    \n",
      "_________________________________________________________________\n",
      "batch_normalization_2 (Batch (None, 256)               1024      \n",
      "_________________________________________________________________\n",
      "hidden_layer3 (Dense)        (None, 128)               32896     \n",
      "_________________________________________________________________\n",
      "batch_normalization_3 (Batch (None, 128)               512       \n",
      "_________________________________________________________________\n",
      "output (Dense)               (None, 10)                1290      \n",
      "=================================================================\n",
      "Total params: 1,742,474\n",
      "Trainable params: 1,740,682\n",
      "Non-trainable params: 1,792\n",
      "_________________________________________________________________\n",
      "Train on 50000 samples, validate on 10000 samples\n",
      "Epoch 1/20\n",
      "50000/50000 [==============================] - 15s 291us/step - loss: 2.2118 - accuracy: 0.2702 - val_loss: 2.1303 - val_accuracy: 0.2001\n",
      "Epoch 2/20\n",
      "50000/50000 [==============================] - 14s 281us/step - loss: 1.7477 - accuracy: 0.3892 - val_loss: 1.9912 - val_accuracy: 0.2632\n",
      "Epoch 3/20\n",
      "50000/50000 [==============================] - 12s 244us/step - loss: 1.6206 - accuracy: 0.4322 - val_loss: 1.8580 - val_accuracy: 0.3331\n",
      "Epoch 4/20\n",
      "50000/50000 [==============================] - 12s 238us/step - loss: 1.5461 - accuracy: 0.4584 - val_loss: 1.7119 - val_accuracy: 0.4063\n",
      "Epoch 5/20\n",
      "50000/50000 [==============================] - 12s 238us/step - loss: 1.4912 - accuracy: 0.4808 - val_loss: 1.6417 - val_accuracy: 0.4279\n",
      "Epoch 6/20\n",
      "50000/50000 [==============================] - 12s 238us/step - loss: 1.4435 - accuracy: 0.4965 - val_loss: 1.5795 - val_accuracy: 0.4481\n",
      "Epoch 7/20\n",
      "50000/50000 [==============================] - 12s 237us/step - loss: 1.4043 - accuracy: 0.5119 - val_loss: 1.5365 - val_accuracy: 0.4631\n",
      "Epoch 8/20\n",
      "50000/50000 [==============================] - 12s 236us/step - loss: 1.3659 - accuracy: 0.5268 - val_loss: 1.5196 - val_accuracy: 0.4626\n",
      "Epoch 9/20\n",
      "50000/50000 [==============================] - 12s 236us/step - loss: 1.3331 - accuracy: 0.5395 - val_loss: 1.5087 - val_accuracy: 0.4648\n",
      "Epoch 10/20\n",
      "50000/50000 [==============================] - 12s 238us/step - loss: 1.3033 - accuracy: 0.5485 - val_loss: 1.4947 - val_accuracy: 0.4723\n",
      "Epoch 11/20\n",
      "50000/50000 [==============================] - 14s 275us/step - loss: 1.2736 - accuracy: 0.5610 - val_loss: 1.4890 - val_accuracy: 0.4765\n",
      "Epoch 12/20\n",
      "50000/50000 [==============================] - 13s 259us/step - loss: 1.2472 - accuracy: 0.5692 - val_loss: 1.4782 - val_accuracy: 0.4795\n",
      "Epoch 13/20\n",
      "50000/50000 [==============================] - 13s 259us/step - loss: 1.2188 - accuracy: 0.5804 - val_loss: 1.4644 - val_accuracy: 0.4839\n",
      "Epoch 14/20\n",
      "50000/50000 [==============================] - 14s 272us/step - loss: 1.1942 - accuracy: 0.5900 - val_loss: 1.4600 - val_accuracy: 0.4854\n",
      "Epoch 15/20\n",
      "50000/50000 [==============================] - 12s 241us/step - loss: 1.1691 - accuracy: 0.5992 - val_loss: 1.4540 - val_accuracy: 0.4881\n",
      "Epoch 16/20\n",
      "50000/50000 [==============================] - 12s 243us/step - loss: 1.1452 - accuracy: 0.6077 - val_loss: 1.4746 - val_accuracy: 0.4813\n",
      "Epoch 17/20\n",
      "50000/50000 [==============================] - 12s 246us/step - loss: 1.1219 - accuracy: 0.6159 - val_loss: 1.4518 - val_accuracy: 0.4911\n",
      "Epoch 18/20\n",
      "50000/50000 [==============================] - 13s 257us/step - loss: 1.0981 - accuracy: 0.6251 - val_loss: 1.4532 - val_accuracy: 0.4951\n",
      "Epoch 19/20\n",
      "50000/50000 [==============================] - 14s 271us/step - loss: 1.0754 - accuracy: 0.6333 - val_loss: 1.4512 - val_accuracy: 0.4924\n",
      "Epoch 20/20\n",
      "50000/50000 [==============================] - 14s 273us/step - loss: 1.0523 - accuracy: 0.6419 - val_loss: 1.4540 - val_accuracy: 0.4967\n"
     ]
    }
   ],
   "source": [
    "# 載入 Callbacks\n",
    "from keras.callbacks import ModelCheckpoint\n",
    "\n",
    "model_ckpt = ModelCheckpoint(filepath=\"./tmp.h5\", \n",
    "                             monitor=\"val_loss\", \n",
    "                             save_best_only=SAVE_BEST,\n",
    "                             save_weights_only=SAVE_WEIGHTS\n",
    "                            )\n",
    "\n",
    "results = {}\n",
    "\"\"\"Code Here\n",
    "撰寫你的訓練流程並將結果用 dictionary 紀錄\n",
    "\"\"\"\n",
    "\n",
    "model = build_mlp(input_shape=x_train.shape[1:])\n",
    "model.summary()\n",
    "optimizer = keras.optimizers.SGD(lr=LEARNING_RATE, nesterov=True, momentum=MOMENTUM)\n",
    "model.compile(loss=\"categorical_crossentropy\", metrics=[\"accuracy\"], optimizer=optimizer)\n",
    "\n",
    "model.fit(x_train, y_train, \n",
    "          epochs=EPOCHS, \n",
    "          batch_size=BATCH_SIZE, \n",
    "          validation_data=(x_test, y_test), \n",
    "          shuffle=True,\n",
    "          callbacks=[model_ckpt]\n",
    "         )\n",
    "\n",
    "# Collect results\n",
    "train_loss = model.history.history[\"loss\"]\n",
    "valid_loss = model.history.history[\"val_loss\"]\n",
    "train_acc = model.history.history[\"accuracy\"]\n",
    "valid_acc = model.history.history[\"val_accuracy\"]\n",
    "\n",
    "# Load back\n",
    "#model = keras.models.load_model(\"./tmp.h5\")\n",
    "#loss_loadback, acc_loadback = new_model.evaluate(x_test, y_test)"
   ]
  },
  {
   "cell_type": "code",
   "execution_count": 8,
   "metadata": {},
   "outputs": [
    {
     "name": "stdout",
     "output_type": "stream",
     "text": [
      "10000/10000 [==============================] - 2s 194us/step\n"
     ]
    }
   ],
   "source": [
    "# load weights\n",
    "new_model = build_mlp(input_shape=x_train.shape[1:])\n",
    "new_model.compile(loss=\"categorical_crossentropy\", metrics=[\"accuracy\"], optimizer=optimizer)\n",
    "new_model.load_weights(\"./tmp.h5\")\n",
    "loss_loadback, acc_loadback = new_model.evaluate(x_test, y_test)"
   ]
  },
  {
   "cell_type": "code",
   "execution_count": 9,
   "metadata": {
    "scrolled": true
   },
   "outputs": [
    {
     "data": {
      "image/png": "[encoded data removed]",
      "text/plain": [
       "<Figure size 432x288 with 1 Axes>"
      ]
     },
     "metadata": {
      "needs_background": "light"
     },
     "output_type": "display_data"
    },
    {
     "data": {
      "image/png": "[encoded data removed]",
      "text/plain": [
       "<Figure size 432x288 with 1 Axes>"
      ]
     },
     "metadata": {
      "needs_background": "light"
     },
     "output_type": "display_data"
    }
   ],
   "source": [
    "import matplotlib.pyplot as plt\n",
    "%matplotlib inline\n",
    "\n",
    "plt.plot(range(len(train_loss)), train_loss, label=\"train loss\")\n",
    "plt.plot(range(len(valid_loss)), valid_loss, label=\"valid loss\")\n",
    "plt.hlines(y=loss_loadback, xmin=0, xmax=len(train_loss), colors='r', linestyles='--')\n",
    "plt.legend()\n",
    "plt.title(\"Loss\")\n",
    "plt.show()\n",
    "\n",
    "plt.plot(range(len(train_acc)), train_acc, label=\"train accuracy\")\n",
    "plt.plot(range(len(valid_acc)), valid_acc, label=\"valid accuracy\")\n",
    "plt.hlines(y=acc_loadback, xmin=0, xmax=len(train_loss), colors='r', linestyles='--')\n",
    "plt.legend()\n",
    "plt.title(\"Accuracy\")\n",
    "plt.show()"
   ]
  },
  {
   "cell_type": "code",
   "execution_count": null,
   "metadata": {},
   "outputs": [],
   "source": []
  }
 ],
 "metadata": {
  "kernelspec": {
   "display_name": "Python 3",
   "language": "python",
   "name": "python3"
  },
  "language_info": {
   "codemirror_mode": {
    "name": "ipython",
    "version": 3
   },
   "file_extension": ".py",
   "mimetype": "text/x-python",
   "name": "python",
   "nbconvert_exporter": "python",
   "pygments_lexer": "ipython3",
   "version": "3.7.3"
  }
 },
 "nbformat": 4,
 "nbformat_minor": 2
}
