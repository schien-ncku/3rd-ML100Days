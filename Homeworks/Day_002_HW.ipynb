{
 "cells": [
  {
   "cell_type": "markdown",
   "metadata": {},
   "source": [
    "## [作業目標]\n",
    "了解機器學習適合應用的領域與範疇。"
   ]
  },
  {
   "cell_type": "markdown",
   "metadata": {},
   "source": [
    "## [作業重點]\n",
    "透過瞭解機器學習的運作方式，找出非常適用機器學習應用的領域及其原因"
   ]
  },
  {
   "cell_type": "markdown",
   "metadata": {},
   "source": [
    "## 作業\n",
    "請找出一個你認為機器學習可以發光發熱的領域並闡述原因? "
   ]
  },
  {
   "cell_type": "markdown",
   "metadata": {},
   "source": [
    "機器學習可以發光發著的領域：天文學\n",
    "\n",
    "天文學（astronomy）是一個探索宇宙天體與現象的自然科學（ https://en.wikipedia.org/wiki/Astronomy ），透過天空資料的收集分析，指認天體、現象，說明關聯規則，推測未來變動。天文資料龐大，一是包覆地球的天空範圍龐大，二是天空範圍的資料時時刻刻都在變動，三是資料來自大範圍頻譜的波動。宇宙天體與其現象隱含關聯規則，這是天文學者致力資料紀錄、整理、分析的重點，唯人力與個人生命時間有限，每位天文學者僅能提供小貢獻，而需要眾多學者（含業餘人員）合作。當代的宇宙天體影像觀測與紀錄技術，已經可以自動化地收集資料。\n",
    "\n",
    "機器學習的應用首要有大量的學習訓練資料。天文資料豐富，且天文學現有知識體系完備，足以提供好的監督式學習訓練（supervised learning）；這樣的訓練完成的系統可應用於新天體的指認，提供有如業餘人員的貢獻。對於專業天文學者的輔助，例如黑洞觀測，或可藉由強化學習（reinforcement learning）的機制，訓練指認特定天文模式（eg, blackhold pattern recognition）系統，輔助天文學特定領域知識的發展。"
   ]
  }
 ],
 "metadata": {
  "kernelspec": {
   "display_name": "Python 3",
   "language": "python",
   "name": "python3"
  },
  "language_info": {
   "codemirror_mode": {
    "name": "ipython",
    "version": 3
   },
   "file_extension": ".py",
   "mimetype": "text/x-python",
   "name": "python",
   "nbconvert_exporter": "python",
   "pygments_lexer": "ipython3",
   "version": "3.7.3"
  }
 },
 "nbformat": 4,
 "nbformat_minor": 2
}
