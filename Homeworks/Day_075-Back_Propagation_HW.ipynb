{
 "cells": [
  {
   "cell_type": "markdown",
   "metadata": {},
   "source": [
    "# 作業目標:\n",
    "\n",
    "    通過建立多層的神經網路, 了解權值矩陣更新"
   ]
  },
  {
   "cell_type": "markdown",
   "metadata": {},
   "source": [
    "# 作業重點: \n",
    "\n",
    "3  層神經網路\n",
    "\n",
    "通過增加更多的中間層，以對更多關係的組合進行建模\n",
    "\n",
    "syn1 權值矩陣將隱層的組合輸出映射到最終結果，\n",
    "\n",
    "而在更新 syn1 的同時，還需要更新 syn0 權值矩陣，\n",
    "\n",
    "以從輸入資料中更好地產生這些組合"
   ]
  },
  {
   "cell_type": "code",
   "execution_count": 1,
   "metadata": {},
   "outputs": [],
   "source": [
    "import numpy as np\n",
    " \n",
    "# Sigmoid 函數可以將任何值都映射到一個位於 0 到  1 範圍內的值。通過它，我們可以將實數轉化為概率值\n",
    "def nonlin(x,deriv=False):\n",
    "    if(deriv==True):\n",
    "        return x*(1-x)\n",
    "    return 1/(1+np.exp(-x))\n",
    "\n",
    "X = np.array([  [0,0,1],\n",
    "                [0,1,1],\n",
    "                [1,0,1],\n",
    "                [1,1,1] ])  \n",
    "        \n",
    "# define y for output dataset            \n",
    "y = np.array([[0,0,1,1]]).T"
   ]
  },
  {
   "cell_type": "code",
   "execution_count": 2,
   "metadata": {},
   "outputs": [
    {
     "data": {
      "text/plain": [
       "array([[0],\n",
       "       [0],\n",
       "       [1],\n",
       "       [1]])"
      ]
     },
     "execution_count": 2,
     "metadata": {},
     "output_type": "execute_result"
    }
   ],
   "source": [
    "y"
   ]
  },
  {
   "cell_type": "code",
   "execution_count": 3,
   "metadata": {},
   "outputs": [],
   "source": [
    "\n",
    "# seed random numbers to make calculation\n",
    "# deterministic (just a good practice)\n",
    "np.random.seed(1)\n",
    "#亂數設定產生種子得到的權重初始化集仍是隨機分佈的，\n",
    "#但每次開始訓練時，得到的權重初始集分佈都是完全一致的。\n",
    " \n",
    "# initialize weights randomly with mean 0\n",
    "#syn0 = 2*np.random.random((3,1)) - 1\n",
    "syn0 = 2*np.random.random((3,4)) - 1 # adjusted according to reference answer\n",
    "\n",
    "# define syn1\n",
    "# the shape of syn1 should match the output\n",
    "#syn1 = 2*np.random.random((1,4)) - 1\n",
    "syn1 = 2*np.random.random((4,1)) - 1 # adjusted according to reference answer\n",
    "\n",
    "\n",
    "#iter = 0\n",
    "#該神經網路權重矩陣的初始化操作。\n",
    "#用 “syn0” 來代指 (即“輸入層-第一層隱層”間權重矩陣）\n",
    "#用 “syn1” 來代指 (即“輸入層-第二層隱層”間權重矩陣）\n",
    "\n"
   ]
  },
  {
   "cell_type": "code",
   "execution_count": 4,
   "metadata": {},
   "outputs": [
    {
     "data": {
      "text/plain": [
       "array([[-0.16595599,  0.44064899, -0.99977125, -0.39533485],\n",
       "       [-0.70648822, -0.81532281, -0.62747958, -0.30887855],\n",
       "       [-0.20646505,  0.07763347, -0.16161097,  0.370439  ]])"
      ]
     },
     "execution_count": 4,
     "metadata": {},
     "output_type": "execute_result"
    }
   ],
   "source": [
    "# so the network has 3 nodes in input layer; \n",
    "# 4 nodes in the first hidden layer; \n",
    "# 1 node in the second hidden layer; \n",
    "# 1 node in output layer\n",
    "\n",
    "syn0"
   ]
  },
  {
   "cell_type": "code",
   "execution_count": 5,
   "metadata": {},
   "outputs": [],
   "source": [
    "syn0_history = [syn0]\n",
    "syn1_history = [syn1]"
   ]
  },
  {
   "cell_type": "markdown",
   "metadata": {},
   "source": [
    "神經網路訓練\n",
    "for 迴圈反覆運算式地多次執行訓練代碼，使得我們的網路能更好地擬合訓練集"
   ]
  },
  {
   "cell_type": "code",
   "execution_count": 6,
   "metadata": {},
   "outputs": [
    {
     "name": "stdout",
     "output_type": "stream",
     "text": [
      "L2_Error:0.4685343254580603\n",
      "L1_Error:0.07675981358453121\n",
      "L2_Error:0.007280733653110541\n",
      "L1_Error:0.00019039373702324546\n",
      "L2_Error:0.005002426725395314\n",
      "L1_Error:9.49354698412975e-05\n",
      "L2_Error:0.004026187726586657\n",
      "L1_Error:6.336552828896651e-05\n",
      "L2_Error:0.0034544054615330494\n",
      "L1_Error:4.760906725125124e-05\n",
      "L2_Error:0.0030687616376916284\n",
      "L1_Error:3.8157242532281836e-05\n",
      "L2_Error:0.0027865570196723543\n",
      "L1_Error:3.185362049493971e-05\n",
      "L2_Error:0.0025687239078333096\n",
      "L1_Error:2.7348146916485016e-05\n",
      "L2_Error:0.0023941155055209767\n",
      "L1_Error:2.3966481769503123e-05\n",
      "L2_Error:0.0022501668284784287\n",
      "L1_Error:2.1334176345837424e-05\n",
      "L2_Error:0.0021288852682254137\n",
      "L1_Error:1.9226602687905982e-05\n",
      "L2_Error:0.0020249145146683397\n",
      "L1_Error:1.7500814335893624e-05\n",
      "Output After Training:\n",
      "[[0.70867211 0.16196423 0.87991049 0.61679878]\n",
      " [0.63949508 0.11242379 0.88471674 0.57047777]\n",
      " [0.13455945 0.95169394 0.05443222 0.69503853]\n",
      " [0.10183474 0.92811932 0.0568646  0.65285215]]\n",
      "\n",
      "\n",
      "\n",
      "[[0.00197173]\n",
      " [0.00163392]\n",
      " [0.99804356]\n",
      " [0.99782397]]\n"
     ]
    }
   ],
   "source": [
    "for iter in range(60000):\n",
    "    # forward propagation\n",
    "    l0 = X\n",
    "    l1 = nonlin(np.dot(l0,syn0))\n",
    "    \n",
    "    '''\n",
    "    新增\n",
    "    l2_error 該值說明了神經網路預測時“丟失”的數目。\n",
    "    l2_delta 該值為經確信度加權後的神經網路的誤差，除了確信誤差很小時，它近似等於預測誤差。\n",
    "    '''\n",
    "    #l2 = l1 * syn1.T\n",
    "    l2 = nonlin(np.dot(l1,syn1)) # adjusted according to the reference answer\n",
    "    l2_error = y - l2\n",
    "    l2_delta = l2_error * nonlin(l2,True)\n",
    "\n",
    "    if (iter% 5000) == 0:\n",
    "        print(\"L2_Error:\" + str(np.mean(np.abs(l2_error))))\n",
    "\n",
    "    # how much did we miss?\n",
    "    #l1_error = y - l1\n",
    "    l1_error = np.dot(l2_delta,syn1.T) # adjusted according to the reference answer\n",
    " \n",
    "    # multiply how much we missed by the \n",
    "    # slope of the sigmoid at the values in l1\n",
    "    l1_delta = l1_error * nonlin(l1,True)\n",
    "\n",
    "    if (iter% 5000) == 0:\n",
    "        print(\"L1_Error:\" + str(np.mean(np.abs(l1_error))))\n",
    "\n",
    "    \n",
    "    # update weights\n",
    "    #syn0 += np.dot(l0.T,l1_delta+l2_delta)\n",
    "    syn0 += np.dot(l0.T,l1_delta) # adjusted according to the reference answer\n",
    "    syn0_history.append(syn0)\n",
    "     # syn1 update weights\n",
    "    syn1 += np.dot(l1.T,l2_delta)\n",
    "    syn1_history.append(syn1)\n",
    "    \n",
    "print(\"Output After Training:\")\n",
    "print(l1)\n",
    "print(\"\\n\\n\")\n",
    "print(l2)"
   ]
  },
  {
   "cell_type": "code",
   "execution_count": 7,
   "metadata": {},
   "outputs": [
    {
     "data": {
      "image/png": "[encoded data removed]",
      "text/plain": [
       "<Figure size 432x288 with 1 Axes>"
      ]
     },
     "metadata": {
      "needs_background": "light"
     },
     "output_type": "display_data"
    }
   ],
   "source": [
    "import matplotlib.pyplot as plt\n",
    "%matplotlib inline \n",
    "#適用於 Jupyter Notebook, 宣告直接在cell 內印出執行結果\n",
    "\n",
    "plt.plot(syn0_history[0], ms=1, lw=1.5, color='red')\n",
    "plt.xlabel(r'$L1$', fontsize=16)\n",
    "plt.show()"
   ]
  },
  {
   "cell_type": "code",
   "execution_count": 8,
   "metadata": {},
   "outputs": [
    {
     "data": {
      "image/png": "[encoded data removed]",
      "text/plain": [
       "<Figure size 432x288 with 1 Axes>"
      ]
     },
     "metadata": {
      "needs_background": "light"
     },
     "output_type": "display_data"
    }
   ],
   "source": [
    "plt.plot(syn1_history[0], ms=1, lw=1.5, color='blue')\n",
    "plt.xlabel(r'$L2$', fontsize=16)\n",
    "plt.show()"
   ]
  },
  {
   "cell_type": "code",
   "execution_count": 9,
   "metadata": {},
   "outputs": [
    {
     "data": {
      "text/plain": [
       "array([[-2.75017888,  4.62437497, -4.84641498,  0.34780065],\n",
       "       [-0.31576966, -0.42253318,  0.04629259, -0.19218162],\n",
       "       [ 0.88894524, -1.64368732,  1.99158432,  0.47598287]])"
      ]
     },
     "execution_count": 9,
     "metadata": {},
     "output_type": "execute_result"
    }
   ],
   "source": [
    "syn0_history[0]"
   ]
  },
  {
   "cell_type": "code",
   "execution_count": 10,
   "metadata": {},
   "outputs": [
    {
     "data": {
      "text/plain": [
       "array([[-3.09995502],\n",
       "       [ 6.79244782],\n",
       "       [-6.36903892],\n",
       "       [ 0.76852849]])"
      ]
     },
     "execution_count": 10,
     "metadata": {},
     "output_type": "execute_result"
    }
   ],
   "source": [
    "# weird, i dont see any updates\n",
    "# ok, there are updates after adjustments based on the reference answer\n",
    "syn1_history[0]"
   ]
  },
  {
   "cell_type": "code",
   "execution_count": null,
   "metadata": {},
   "outputs": [],
   "source": []
  }
 ],
 "metadata": {
  "kernelspec": {
   "display_name": "Python 3",
   "language": "python",
   "name": "python3"
  },
  "language_info": {
   "codemirror_mode": {
    "name": "ipython",
    "version": 3
   },
   "file_extension": ".py",
   "mimetype": "text/x-python",
   "name": "python",
   "nbconvert_exporter": "python",
   "pygments_lexer": "ipython3",
   "version": "3.7.3"
  }
 },
 "nbformat": 4,
 "nbformat_minor": 2
}
