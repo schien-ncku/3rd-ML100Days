{
 "cells": [
  {
   "cell_type": "markdown",
   "metadata": {},
   "source": [
    "# 作業\n",
    "* 試著想想看, 非監督學習是否有可能使用評價函數 (Metric) 來鑑別好壞呢?  \n",
    "(Hint : 可以分為 \"有目標值\" 與 \"無目標值\" 兩個方向思考)"
   ]
  },
  {
   "cell_type": "markdown",
   "metadata": {
    "collapsed": true
   },
   "source": [
    "又是一個問題跟內容差異超大的作業\n",
    "\n",
    "影片內容談用\"classification\"的方法進行學習\n",
    "當有已知答案（例如：分辨是否垃圾信、是否糖尿病）時是supervised learning\n",
    "而當沒有已知答案則用來找到資料的結構特性則是unsupervised learning\n",
    "影片中用了cocktail party problem algorithm來說明聲音區分的案例\n",
    "但是\n",
    "影片完全沒有提到有關unsupervised learning的方法\n",
    "所以當然沒有提及所謂“metrics\"的量測\n",
    "\n",
    "用一般知識推演這個問題的答案\n",
    "有兩個取向\n",
    "一是如提示所說\n",
    "有目標值才會有metrics\n",
    "無目標值就無從規劃metrics\n",
    "Unsupervised learning似乎無目標值那就無從規劃metrics\n",
    "另一是\n",
    "Unsupervised learning繼然要進行分群\n",
    "就必須區別群的邊界\n",
    "那麼就必須有某些metrics來進行區別"
   ]
  }
 ],
 "metadata": {
  "kernelspec": {
   "display_name": "Python 3",
   "language": "python",
   "name": "python3"
  },
  "language_info": {
   "codemirror_mode": {
    "name": "ipython",
    "version": 3
   },
   "file_extension": ".py",
   "mimetype": "text/x-python",
   "name": "python",
   "nbconvert_exporter": "python",
   "pygments_lexer": "ipython3",
   "version": "3.7.3"
  }
 },
 "nbformat": 4,
 "nbformat_minor": 1
}
