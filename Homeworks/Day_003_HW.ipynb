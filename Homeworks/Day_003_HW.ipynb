{
 "cells": [
  {
   "cell_type": "markdown",
   "metadata": {},
   "source": [
    "## [作業目標]\n",
    "持續接觸有關機器學習的相關專案與最新技術"
   ]
  },
  {
   "cell_type": "markdown",
   "metadata": {},
   "source": [
    "## [作業重點]\n",
    "透過觀察頂尖公司的機器學習文章，來了解各公司是怎麼應用機器學習在實際的專案上"
   ]
  },
  {
   "cell_type": "markdown",
   "metadata": {},
   "source": [
    "## [作業]\n",
    "今天的作業希望大家能夠看看全球機器學習巨頭們在做的機器學習專案。以 google 為例，下圖是 Google 內部專案使用機器學習的數量，隨著時間進展，現在早已超過 2000 個專案在使用機器學習。"
   ]
  },
  {
   "cell_type": "markdown",
   "metadata": {},
   "source": [
    "![image](https://cdn-images-1.medium.com/max/800/1*U_L8qI8RmYS-MOBrYvXhSA.png)"
   ]
  },
  {
   "cell_type": "markdown",
   "metadata": {},
   "source": [
    "底下幫同學整理幾間知名企業的 blog 或機器學習網站 (自行搜尋也可)，這些網站都會整理最新的機器學習專案或者是技術文章，請挑選一篇文章閱讀並試著回答\n",
    "1. 專案的目標？ (要解決什麼問題）\n",
    "2. 使用的技術是？ (只需知道名稱即可，例如：使用 CNN 卷積神經網路做影像分類)\n",
    "3. 資料來源？ "
   ]
  },
  {
   "cell_type": "markdown",
   "metadata": {},
   "source": [
    "- [Google AI blog](https://ai.googleblog.com/)\n",
    "- [Facebook Research blog](https://research.fb.com/blog/)\n",
    "- [Apple machine learning journal](https://machinelearning.apple.com/)\n",
    "- [機器之心](https://www.jiqizhixin.com/)\n",
    "- [雷鋒網](http://www.leiphone.com/category/ai)"
   ]
  },
  {
   "cell_type": "markdown",
   "metadata": {},
   "source": [
    "Video Understanding Using Temporal Cycle-Consistency Learning by Debidatta Dwibedi\n",
    "https://ai.googleblog.com/2019/08/video-understanding-using-temporal.html\n",
    "\n",
    "1. 專案目標：希望達成一般化的影片影像辨識，快速摘出影片中的活動；在日常生活中有許多活動是相似的，例如：倒茶、倒酒、倒水，但是這一連串的動作，包含舉起裝液體的容器、把液體倒入另一個容器、判斷倒入的量、避免漫溢......，在視覺的機器學習需要許多人力進行標記；倒茶、倒酒、倒水或許不同，但若能快速辨識影片中有倒出液體的動作，有助許多活動的判斷。\n",
    "2. 使用技術：影像辨識一般採用監督式學習及深度學習，但是監督式學習在影片的前置處理非常費力；本專案發展一個自主監督式學習（self-supervised learning）機制，先從影片中學習cycle-consistency（動作循環），再以動作循環為標記，進行後續學習；這個機制稱為Temporal Cycle-Consistency Learning簡稱TCC。\n",
    "3. 資料來源：示範案例取用PennAction (https://dreamdragon.github.io/PennAction/) 公開影片資料。"
   ]
  }
 ],
 "metadata": {
  "kernelspec": {
   "display_name": "Python 3",
   "language": "python",
   "name": "python3"
  },
  "language_info": {
   "codemirror_mode": {
    "name": "ipython",
    "version": 3
   },
   "file_extension": ".py",
   "mimetype": "text/x-python",
   "name": "python",
   "nbconvert_exporter": "python",
   "pygments_lexer": "ipython3",
   "version": "3.7.3"
  }
 },
 "nbformat": 4,
 "nbformat_minor": 2
}
