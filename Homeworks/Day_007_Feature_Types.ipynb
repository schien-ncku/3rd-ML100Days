{
 "cells": [
  {
   "cell_type": "markdown",
   "metadata": {},
   "source": [
    "# 範例 : (Kaggle)房價預測\n",
    "***\n",
    "- 以下用房價預測資料, 觀察特徵的幾種類型\n",
    "- 這份資料有 'int64', 'float64', 'object' 三種欄位, 分別將其以python的list格式紀錄下來"
   ]
  },
  {
   "cell_type": "markdown",
   "metadata": {},
   "source": [
    "# [教學目標]\n",
    "- 以下程式碼將示範 : 如何將欄位名稱, 依照所屬類型分開, 並列出指定類型的部分資料"
   ]
  },
  {
   "cell_type": "markdown",
   "metadata": {},
   "source": [
    "# [範例重點]\n",
    "- 如何觀察目前的 DataFrame 中, 有哪些欄位類型, 以及數量各有多少 (In[3], Out[3])   \n",
    "- 如何將欄位名稱依欄位類型分開 (In[4], Out[4])\n",
    "- 如何只顯示特定類型的欄位資料 (In[5], Out[5])"
   ]
  },
  {
   "cell_type": "code",
   "execution_count": 1,
   "metadata": {},
   "outputs": [
    {
     "data": {
      "text/plain": [
       "(1460, 81)"
      ]
     },
     "execution_count": 1,
     "metadata": {},
     "output_type": "execute_result"
    }
   ],
   "source": [
    "# 載入基本套件\n",
    "import pandas as pd\n",
    "import numpy as np\n",
    "\n",
    "# 讀取訓練與測試資料\n",
    "data_path = 'data/'\n",
    "df_train = pd.read_csv(data_path + 'house_train.csv.gz')\n",
    "df_test = pd.read_csv(data_path + 'house_test.csv.gz')\n",
    "df_train.shape"
   ]
  },
  {
   "cell_type": "code",
   "execution_count": 2,
   "metadata": {},
   "outputs": [
    {
     "data": {
      "text/html": [
       "<div>\n",
       "<style scoped>\n",
       "    .dataframe tbody tr th:only-of-type {\n",
       "        vertical-align: middle;\n",
       "    }\n",
       "\n",
       "    .dataframe tbody tr th {\n",
       "        vertical-align: top;\n",
       "    }\n",
       "\n",
       "    .dataframe thead th {\n",
       "        text-align: right;\n",
       "    }\n",
       "</style>\n",
       "<table border=\"1\" class=\"dataframe\">\n",
       "  <thead>\n",
       "    <tr style=\"text-align: right;\">\n",
       "      <th></th>\n",
       "      <th>MSSubClass</th>\n",
       "      <th>MSZoning</th>\n",
       "      <th>LotFrontage</th>\n",
       "      <th>LotArea</th>\n",
       "      <th>Street</th>\n",
       "      <th>Alley</th>\n",
       "      <th>LotShape</th>\n",
       "      <th>LandContour</th>\n",
       "      <th>Utilities</th>\n",
       "      <th>LotConfig</th>\n",
       "      <th>...</th>\n",
       "      <th>ScreenPorch</th>\n",
       "      <th>PoolArea</th>\n",
       "      <th>PoolQC</th>\n",
       "      <th>Fence</th>\n",
       "      <th>MiscFeature</th>\n",
       "      <th>MiscVal</th>\n",
       "      <th>MoSold</th>\n",
       "      <th>YrSold</th>\n",
       "      <th>SaleType</th>\n",
       "      <th>SaleCondition</th>\n",
       "    </tr>\n",
       "  </thead>\n",
       "  <tbody>\n",
       "    <tr>\n",
       "      <th>0</th>\n",
       "      <td>60</td>\n",
       "      <td>RL</td>\n",
       "      <td>65.0</td>\n",
       "      <td>8450</td>\n",
       "      <td>Pave</td>\n",
       "      <td>NaN</td>\n",
       "      <td>Reg</td>\n",
       "      <td>Lvl</td>\n",
       "      <td>AllPub</td>\n",
       "      <td>Inside</td>\n",
       "      <td>...</td>\n",
       "      <td>0</td>\n",
       "      <td>0</td>\n",
       "      <td>NaN</td>\n",
       "      <td>NaN</td>\n",
       "      <td>NaN</td>\n",
       "      <td>0</td>\n",
       "      <td>2</td>\n",
       "      <td>2008</td>\n",
       "      <td>WD</td>\n",
       "      <td>Normal</td>\n",
       "    </tr>\n",
       "    <tr>\n",
       "      <th>1</th>\n",
       "      <td>20</td>\n",
       "      <td>RL</td>\n",
       "      <td>80.0</td>\n",
       "      <td>9600</td>\n",
       "      <td>Pave</td>\n",
       "      <td>NaN</td>\n",
       "      <td>Reg</td>\n",
       "      <td>Lvl</td>\n",
       "      <td>AllPub</td>\n",
       "      <td>FR2</td>\n",
       "      <td>...</td>\n",
       "      <td>0</td>\n",
       "      <td>0</td>\n",
       "      <td>NaN</td>\n",
       "      <td>NaN</td>\n",
       "      <td>NaN</td>\n",
       "      <td>0</td>\n",
       "      <td>5</td>\n",
       "      <td>2007</td>\n",
       "      <td>WD</td>\n",
       "      <td>Normal</td>\n",
       "    </tr>\n",
       "    <tr>\n",
       "      <th>2</th>\n",
       "      <td>60</td>\n",
       "      <td>RL</td>\n",
       "      <td>68.0</td>\n",
       "      <td>11250</td>\n",
       "      <td>Pave</td>\n",
       "      <td>NaN</td>\n",
       "      <td>IR1</td>\n",
       "      <td>Lvl</td>\n",
       "      <td>AllPub</td>\n",
       "      <td>Inside</td>\n",
       "      <td>...</td>\n",
       "      <td>0</td>\n",
       "      <td>0</td>\n",
       "      <td>NaN</td>\n",
       "      <td>NaN</td>\n",
       "      <td>NaN</td>\n",
       "      <td>0</td>\n",
       "      <td>9</td>\n",
       "      <td>2008</td>\n",
       "      <td>WD</td>\n",
       "      <td>Normal</td>\n",
       "    </tr>\n",
       "    <tr>\n",
       "      <th>3</th>\n",
       "      <td>70</td>\n",
       "      <td>RL</td>\n",
       "      <td>60.0</td>\n",
       "      <td>9550</td>\n",
       "      <td>Pave</td>\n",
       "      <td>NaN</td>\n",
       "      <td>IR1</td>\n",
       "      <td>Lvl</td>\n",
       "      <td>AllPub</td>\n",
       "      <td>Corner</td>\n",
       "      <td>...</td>\n",
       "      <td>0</td>\n",
       "      <td>0</td>\n",
       "      <td>NaN</td>\n",
       "      <td>NaN</td>\n",
       "      <td>NaN</td>\n",
       "      <td>0</td>\n",
       "      <td>2</td>\n",
       "      <td>2006</td>\n",
       "      <td>WD</td>\n",
       "      <td>Abnorml</td>\n",
       "    </tr>\n",
       "    <tr>\n",
       "      <th>4</th>\n",
       "      <td>60</td>\n",
       "      <td>RL</td>\n",
       "      <td>84.0</td>\n",
       "      <td>14260</td>\n",
       "      <td>Pave</td>\n",
       "      <td>NaN</td>\n",
       "      <td>IR1</td>\n",
       "      <td>Lvl</td>\n",
       "      <td>AllPub</td>\n",
       "      <td>FR2</td>\n",
       "      <td>...</td>\n",
       "      <td>0</td>\n",
       "      <td>0</td>\n",
       "      <td>NaN</td>\n",
       "      <td>NaN</td>\n",
       "      <td>NaN</td>\n",
       "      <td>0</td>\n",
       "      <td>12</td>\n",
       "      <td>2008</td>\n",
       "      <td>WD</td>\n",
       "      <td>Normal</td>\n",
       "    </tr>\n",
       "  </tbody>\n",
       "</table>\n",
       "<p>5 rows × 79 columns</p>\n",
       "</div>"
      ],
      "text/plain": [
       "   MSSubClass MSZoning  LotFrontage  LotArea Street Alley LotShape  \\\n",
       "0          60       RL         65.0     8450   Pave   NaN      Reg   \n",
       "1          20       RL         80.0     9600   Pave   NaN      Reg   \n",
       "2          60       RL         68.0    11250   Pave   NaN      IR1   \n",
       "3          70       RL         60.0     9550   Pave   NaN      IR1   \n",
       "4          60       RL         84.0    14260   Pave   NaN      IR1   \n",
       "\n",
       "  LandContour Utilities LotConfig  ... ScreenPorch PoolArea PoolQC Fence  \\\n",
       "0         Lvl    AllPub    Inside  ...           0        0    NaN   NaN   \n",
       "1         Lvl    AllPub       FR2  ...           0        0    NaN   NaN   \n",
       "2         Lvl    AllPub    Inside  ...           0        0    NaN   NaN   \n",
       "3         Lvl    AllPub    Corner  ...           0        0    NaN   NaN   \n",
       "4         Lvl    AllPub       FR2  ...           0        0    NaN   NaN   \n",
       "\n",
       "  MiscFeature MiscVal  MoSold  YrSold  SaleType  SaleCondition  \n",
       "0         NaN       0       2    2008        WD         Normal  \n",
       "1         NaN       0       5    2007        WD         Normal  \n",
       "2         NaN       0       9    2008        WD         Normal  \n",
       "3         NaN       0       2    2006        WD        Abnorml  \n",
       "4         NaN       0      12    2008        WD         Normal  \n",
       "\n",
       "[5 rows x 79 columns]"
      ]
     },
     "execution_count": 2,
     "metadata": {},
     "output_type": "execute_result"
    }
   ],
   "source": [
    "# 訓練資料需要 train_X, train_Y / 預測輸出需要 ids(識別每個預測值), test_X\n",
    "# 在此先抽離出 train_Y 與 ids, 而先將 train_X, test_X 該有的資料合併成 df, 先作特徵工程\n",
    "train_Y = np.log1p(df_train['SalePrice'])\n",
    "ids = df_test['Id']\n",
    "df_train = df_train.drop(['Id', 'SalePrice'] , axis=1)\n",
    "df_test = df_test.drop(['Id'] , axis=1)\n",
    "df = pd.concat([df_train,df_test])\n",
    "df.head()"
   ]
  },
  {
   "cell_type": "code",
   "execution_count": 3,
   "metadata": {},
   "outputs": [
    {
     "data": {
      "text/html": [
       "<div>\n",
       "<style scoped>\n",
       "    .dataframe tbody tr th:only-of-type {\n",
       "        vertical-align: middle;\n",
       "    }\n",
       "\n",
       "    .dataframe tbody tr th {\n",
       "        vertical-align: top;\n",
       "    }\n",
       "\n",
       "    .dataframe thead th {\n",
       "        text-align: right;\n",
       "    }\n",
       "</style>\n",
       "<table border=\"1\" class=\"dataframe\">\n",
       "  <thead>\n",
       "    <tr style=\"text-align: right;\">\n",
       "      <th></th>\n",
       "      <th>Column Type</th>\n",
       "      <th>Count</th>\n",
       "    </tr>\n",
       "  </thead>\n",
       "  <tbody>\n",
       "    <tr>\n",
       "      <th>0</th>\n",
       "      <td>int64</td>\n",
       "      <td>25</td>\n",
       "    </tr>\n",
       "    <tr>\n",
       "      <th>1</th>\n",
       "      <td>float64</td>\n",
       "      <td>11</td>\n",
       "    </tr>\n",
       "    <tr>\n",
       "      <th>2</th>\n",
       "      <td>object</td>\n",
       "      <td>43</td>\n",
       "    </tr>\n",
       "  </tbody>\n",
       "</table>\n",
       "</div>"
      ],
      "text/plain": [
       "  Column Type  Count\n",
       "0       int64     25\n",
       "1     float64     11\n",
       "2      object     43"
      ]
     },
     "execution_count": 3,
     "metadata": {},
     "output_type": "execute_result"
    }
   ],
   "source": [
    "# 秀出資料欄位的類型, 與對應的數量\n",
    "# df.dtypes : 轉成以欄位為 index, 類別(type)為 value 的 DataFrame\n",
    "# .reset_index() : 預設是將原本的 index 轉成一個新的欄位, 如果不須保留 index, 則通常會寫成 .reset_index(drop=True)\n",
    "dtype_df = df.dtypes.reset_index() \n",
    "dtype_df.columns = [\"Count\", \"Column Type\"]\n",
    "dtype_df = dtype_df.groupby(\"Column Type\").aggregate('count').reset_index()\n",
    "dtype_df"
   ]
  },
  {
   "cell_type": "code",
   "execution_count": 4,
   "metadata": {},
   "outputs": [
    {
     "name": "stdout",
     "output_type": "stream",
     "text": [
      "25 Integer Features : ['MSSubClass', 'LotArea', 'OverallQual', 'OverallCond', 'YearBuilt', 'YearRemodAdd', '1stFlrSF', '2ndFlrSF', 'LowQualFinSF', 'GrLivArea', 'FullBath', 'HalfBath', 'BedroomAbvGr', 'KitchenAbvGr', 'TotRmsAbvGrd', 'Fireplaces', 'WoodDeckSF', 'OpenPorchSF', 'EnclosedPorch', '3SsnPorch', 'ScreenPorch', 'PoolArea', 'MiscVal', 'MoSold', 'YrSold']\n",
      "\n",
      "11 Float Features : ['LotFrontage', 'MasVnrArea', 'BsmtFinSF1', 'BsmtFinSF2', 'BsmtUnfSF', 'TotalBsmtSF', 'BsmtFullBath', 'BsmtHalfBath', 'GarageYrBlt', 'GarageCars', 'GarageArea']\n",
      "\n",
      "43 Object Features : ['MSZoning', 'Street', 'Alley', 'LotShape', 'LandContour', 'Utilities', 'LotConfig', 'LandSlope', 'Neighborhood', 'Condition1', 'Condition2', 'BldgType', 'HouseStyle', 'RoofStyle', 'RoofMatl', 'Exterior1st', 'Exterior2nd', 'MasVnrType', 'ExterQual', 'ExterCond', 'Foundation', 'BsmtQual', 'BsmtCond', 'BsmtExposure', 'BsmtFinType1', 'BsmtFinType2', 'Heating', 'HeatingQC', 'CentralAir', 'Electrical', 'KitchenQual', 'Functional', 'FireplaceQu', 'GarageType', 'GarageFinish', 'GarageQual', 'GarageCond', 'PavedDrive', 'PoolQC', 'Fence', 'MiscFeature', 'SaleType', 'SaleCondition']\n"
     ]
    }
   ],
   "source": [
    "# 確定只有 int64, float64, object 三種類型後對欄位名稱執行迴圈, 分別將欄位名稱存於三個 list 中\n",
    "int_features = []\n",
    "float_features = []\n",
    "object_features = []\n",
    "# .dtypes(欄位類型), .columns(欄位名稱) 是 DataFrame 提供的兩個方法, 這裡順便展示一下 for 與 zip 搭配的用法\n",
    "for dtype, feature in zip(df.dtypes, df.columns):\n",
    "    if dtype == 'float64':\n",
    "        float_features.append(feature)\n",
    "    elif dtype == 'int64':\n",
    "        int_features.append(feature)\n",
    "    else:\n",
    "        object_features.append(feature)\n",
    "# 這邊採用的寫法稱為 f-string, 是 Python 3.6.2 以後版本才出現的\n",
    "# 如果無法執行, 則需要更新到這個版本之後, 或自行將程式改寫為 str.format 形式\n",
    "# 改寫方式可以參考 https://blog.louie.lu/2017/08/08/outdate-python-string-format-and-fstring/\n",
    "print(f'{len(int_features)} Integer Features : {int_features}\\n')\n",
    "print(f'{len(float_features)} Float Features : {float_features}\\n')\n",
    "print(f'{len(object_features)} Object Features : {object_features}')"
   ]
  },
  {
   "cell_type": "code",
   "execution_count": 5,
   "metadata": {},
   "outputs": [
    {
     "data": {
      "text/html": [
       "<div>\n",
       "<style scoped>\n",
       "    .dataframe tbody tr th:only-of-type {\n",
       "        vertical-align: middle;\n",
       "    }\n",
       "\n",
       "    .dataframe tbody tr th {\n",
       "        vertical-align: top;\n",
       "    }\n",
       "\n",
       "    .dataframe thead th {\n",
       "        text-align: right;\n",
       "    }\n",
       "</style>\n",
       "<table border=\"1\" class=\"dataframe\">\n",
       "  <thead>\n",
       "    <tr style=\"text-align: right;\">\n",
       "      <th></th>\n",
       "      <th>LotFrontage</th>\n",
       "      <th>MasVnrArea</th>\n",
       "      <th>BsmtFinSF1</th>\n",
       "      <th>BsmtFinSF2</th>\n",
       "      <th>BsmtUnfSF</th>\n",
       "      <th>TotalBsmtSF</th>\n",
       "      <th>BsmtFullBath</th>\n",
       "      <th>BsmtHalfBath</th>\n",
       "      <th>GarageYrBlt</th>\n",
       "      <th>GarageCars</th>\n",
       "      <th>GarageArea</th>\n",
       "    </tr>\n",
       "  </thead>\n",
       "  <tbody>\n",
       "    <tr>\n",
       "      <th>0</th>\n",
       "      <td>65.0</td>\n",
       "      <td>196.0</td>\n",
       "      <td>706.0</td>\n",
       "      <td>0.0</td>\n",
       "      <td>150.0</td>\n",
       "      <td>856.0</td>\n",
       "      <td>1.0</td>\n",
       "      <td>0.0</td>\n",
       "      <td>2003.0</td>\n",
       "      <td>2.0</td>\n",
       "      <td>548.0</td>\n",
       "    </tr>\n",
       "    <tr>\n",
       "      <th>1</th>\n",
       "      <td>80.0</td>\n",
       "      <td>0.0</td>\n",
       "      <td>978.0</td>\n",
       "      <td>0.0</td>\n",
       "      <td>284.0</td>\n",
       "      <td>1262.0</td>\n",
       "      <td>0.0</td>\n",
       "      <td>1.0</td>\n",
       "      <td>1976.0</td>\n",
       "      <td>2.0</td>\n",
       "      <td>460.0</td>\n",
       "    </tr>\n",
       "    <tr>\n",
       "      <th>2</th>\n",
       "      <td>68.0</td>\n",
       "      <td>162.0</td>\n",
       "      <td>486.0</td>\n",
       "      <td>0.0</td>\n",
       "      <td>434.0</td>\n",
       "      <td>920.0</td>\n",
       "      <td>1.0</td>\n",
       "      <td>0.0</td>\n",
       "      <td>2001.0</td>\n",
       "      <td>2.0</td>\n",
       "      <td>608.0</td>\n",
       "    </tr>\n",
       "    <tr>\n",
       "      <th>3</th>\n",
       "      <td>60.0</td>\n",
       "      <td>0.0</td>\n",
       "      <td>216.0</td>\n",
       "      <td>0.0</td>\n",
       "      <td>540.0</td>\n",
       "      <td>756.0</td>\n",
       "      <td>1.0</td>\n",
       "      <td>0.0</td>\n",
       "      <td>1998.0</td>\n",
       "      <td>3.0</td>\n",
       "      <td>642.0</td>\n",
       "    </tr>\n",
       "    <tr>\n",
       "      <th>4</th>\n",
       "      <td>84.0</td>\n",
       "      <td>350.0</td>\n",
       "      <td>655.0</td>\n",
       "      <td>0.0</td>\n",
       "      <td>490.0</td>\n",
       "      <td>1145.0</td>\n",
       "      <td>1.0</td>\n",
       "      <td>0.0</td>\n",
       "      <td>2000.0</td>\n",
       "      <td>3.0</td>\n",
       "      <td>836.0</td>\n",
       "    </tr>\n",
       "  </tbody>\n",
       "</table>\n",
       "</div>"
      ],
      "text/plain": [
       "   LotFrontage  MasVnrArea  BsmtFinSF1  BsmtFinSF2  BsmtUnfSF  TotalBsmtSF  \\\n",
       "0         65.0       196.0       706.0         0.0      150.0        856.0   \n",
       "1         80.0         0.0       978.0         0.0      284.0       1262.0   \n",
       "2         68.0       162.0       486.0         0.0      434.0        920.0   \n",
       "3         60.0         0.0       216.0         0.0      540.0        756.0   \n",
       "4         84.0       350.0       655.0         0.0      490.0       1145.0   \n",
       "\n",
       "   BsmtFullBath  BsmtHalfBath  GarageYrBlt  GarageCars  GarageArea  \n",
       "0           1.0           0.0       2003.0         2.0       548.0  \n",
       "1           0.0           1.0       1976.0         2.0       460.0  \n",
       "2           1.0           0.0       2001.0         2.0       608.0  \n",
       "3           1.0           0.0       1998.0         3.0       642.0  \n",
       "4           1.0           0.0       2000.0         3.0       836.0  "
      ]
     },
     "execution_count": 5,
     "metadata": {},
     "output_type": "execute_result"
    }
   ],
   "source": [
    "#這樣就可以單獨秀出特定類型的欄位集合, 方便做後續的特徵工程處理\n",
    "df[float_features].head()"
   ]
  },
  {
   "cell_type": "markdown",
   "metadata": {
    "collapsed": true
   },
   "source": [
    "# 作業1 \n",
    "* 試著執行作業程式，觀察三種類型的欄位分別進行( 平均 mean / 最大值 Max / 相異值 nunique ) 中的九次操作會有那些問題?  \n",
    "並試著解釋那些發生Error的程式區塊的原因?  \n",
    "\n",
    "# 作業2\n",
    "* 思考一下，試著舉出今天五種類型以外的一種或多種資料類型，你舉出的新類型是否可以歸在三大類中的某些大類?  \n",
    "所以三大類特徵中，哪一大類處理起來應該最複雜?"
   ]
  },
  {
   "cell_type": "code",
   "execution_count": 6,
   "metadata": {},
   "outputs": [
    {
     "data": {
      "text/plain": [
       "MSSubClass          57.137718\n",
       "LotArea          10168.114080\n",
       "OverallQual          6.089072\n",
       "OverallCond          5.564577\n",
       "YearBuilt         1971.312778\n",
       "YearRemodAdd      1984.264474\n",
       "1stFlrSF          1159.581706\n",
       "2ndFlrSF           336.483727\n",
       "LowQualFinSF         4.694416\n",
       "GrLivArea         1500.759849\n",
       "FullBath             1.568003\n",
       "HalfBath             0.380267\n",
       "BedroomAbvGr         2.860226\n",
       "KitchenAbvGr         1.044536\n",
       "TotRmsAbvGrd         6.451524\n",
       "Fireplaces           0.597122\n",
       "WoodDeckSF          93.709832\n",
       "OpenPorchSF         47.486811\n",
       "EnclosedPorch       23.098321\n",
       "3SsnPorch            2.602261\n",
       "ScreenPorch         16.062350\n",
       "PoolArea             2.251799\n",
       "MiscVal             50.825968\n",
       "MoSold               6.213087\n",
       "YrSold            2007.792737\n",
       "dtype: float64"
      ]
     },
     "execution_count": 6,
     "metadata": {},
     "output_type": "execute_result"
    }
   ],
   "source": [
    "df[int_features].mean()"
   ]
  },
  {
   "cell_type": "code",
   "execution_count": 7,
   "metadata": {},
   "outputs": [
    {
     "data": {
      "text/plain": [
       "LotFrontage       69.305795\n",
       "MasVnrArea       102.201312\n",
       "BsmtFinSF1       441.423235\n",
       "BsmtFinSF2        49.582248\n",
       "BsmtUnfSF        560.772104\n",
       "TotalBsmtSF     1051.777587\n",
       "BsmtFullBath       0.429894\n",
       "BsmtHalfBath       0.061364\n",
       "GarageYrBlt     1978.113406\n",
       "GarageCars         1.766621\n",
       "GarageArea       472.874572\n",
       "dtype: float64"
      ]
     },
     "execution_count": 7,
     "metadata": {},
     "output_type": "execute_result"
    }
   ],
   "source": [
    "df[float_features].mean()"
   ]
  },
  {
   "cell_type": "code",
   "execution_count": 8,
   "metadata": {},
   "outputs": [
    {
     "data": {
      "text/plain": [
       "Series([], dtype: float64)"
      ]
     },
     "execution_count": 8,
     "metadata": {},
     "output_type": "execute_result"
    }
   ],
   "source": [
    "df[object_features].mean()"
   ]
  },
  {
   "cell_type": "code",
   "execution_count": 10,
   "metadata": {},
   "outputs": [
    {
     "ename": "TypeError",
     "evalue": "unsupported operand type(s) for +: 'int' and 'str'",
     "output_type": "error",
     "traceback": [
      "\u001b[0;31m---------------------------------------------------------------------------\u001b[0m",
      "\u001b[0;31mTypeError\u001b[0m                                 Traceback (most recent call last)",
      "\u001b[0;32m/miniconda3/lib/python3.7/site-packages/pandas/core/nanops.py\u001b[0m in \u001b[0;36mf\u001b[0;34m(values, axis, skipna, **kwds)\u001b[0m\n\u001b[1;32m    126\u001b[0m                 \u001b[0;32melse\u001b[0m\u001b[0;34m:\u001b[0m\u001b[0;34m\u001b[0m\u001b[0;34m\u001b[0m\u001b[0m\n\u001b[0;32m--> 127\u001b[0;31m                     \u001b[0mresult\u001b[0m \u001b[0;34m=\u001b[0m \u001b[0malt\u001b[0m\u001b[0;34m(\u001b[0m\u001b[0mvalues\u001b[0m\u001b[0;34m,\u001b[0m \u001b[0maxis\u001b[0m\u001b[0;34m=\u001b[0m\u001b[0maxis\u001b[0m\u001b[0;34m,\u001b[0m \u001b[0mskipna\u001b[0m\u001b[0;34m=\u001b[0m\u001b[0mskipna\u001b[0m\u001b[0;34m,\u001b[0m \u001b[0;34m**\u001b[0m\u001b[0mkwds\u001b[0m\u001b[0;34m)\u001b[0m\u001b[0;34m\u001b[0m\u001b[0;34m\u001b[0m\u001b[0m\n\u001b[0m\u001b[1;32m    128\u001b[0m             \u001b[0;32mexcept\u001b[0m \u001b[0mException\u001b[0m\u001b[0;34m:\u001b[0m\u001b[0;34m\u001b[0m\u001b[0;34m\u001b[0m\u001b[0m\n",
      "\u001b[0;32m/miniconda3/lib/python3.7/site-packages/pandas/core/nanops.py\u001b[0m in \u001b[0;36mnanmean\u001b[0;34m(values, axis, skipna, mask)\u001b[0m\n\u001b[1;32m    478\u001b[0m     \u001b[0mcount\u001b[0m \u001b[0;34m=\u001b[0m \u001b[0m_get_counts\u001b[0m\u001b[0;34m(\u001b[0m\u001b[0mmask\u001b[0m\u001b[0;34m,\u001b[0m \u001b[0maxis\u001b[0m\u001b[0;34m,\u001b[0m \u001b[0mdtype\u001b[0m\u001b[0;34m=\u001b[0m\u001b[0mdtype_count\u001b[0m\u001b[0;34m)\u001b[0m\u001b[0;34m\u001b[0m\u001b[0;34m\u001b[0m\u001b[0m\n\u001b[0;32m--> 479\u001b[0;31m     \u001b[0mthe_sum\u001b[0m \u001b[0;34m=\u001b[0m \u001b[0m_ensure_numeric\u001b[0m\u001b[0;34m(\u001b[0m\u001b[0mvalues\u001b[0m\u001b[0;34m.\u001b[0m\u001b[0msum\u001b[0m\u001b[0;34m(\u001b[0m\u001b[0maxis\u001b[0m\u001b[0;34m,\u001b[0m \u001b[0mdtype\u001b[0m\u001b[0;34m=\u001b[0m\u001b[0mdtype_sum\u001b[0m\u001b[0;34m)\u001b[0m\u001b[0;34m)\u001b[0m\u001b[0;34m\u001b[0m\u001b[0;34m\u001b[0m\u001b[0m\n\u001b[0m\u001b[1;32m    480\u001b[0m \u001b[0;34m\u001b[0m\u001b[0m\n",
      "\u001b[0;32m/miniconda3/lib/python3.7/site-packages/numpy/core/_methods.py\u001b[0m in \u001b[0;36m_sum\u001b[0;34m(a, axis, dtype, out, keepdims, initial)\u001b[0m\n\u001b[1;32m     35\u001b[0m          initial=_NoValue):\n\u001b[0;32m---> 36\u001b[0;31m     \u001b[0;32mreturn\u001b[0m \u001b[0mumr_sum\u001b[0m\u001b[0;34m(\u001b[0m\u001b[0ma\u001b[0m\u001b[0;34m,\u001b[0m \u001b[0maxis\u001b[0m\u001b[0;34m,\u001b[0m \u001b[0mdtype\u001b[0m\u001b[0;34m,\u001b[0m \u001b[0mout\u001b[0m\u001b[0;34m,\u001b[0m \u001b[0mkeepdims\u001b[0m\u001b[0;34m,\u001b[0m \u001b[0minitial\u001b[0m\u001b[0;34m)\u001b[0m\u001b[0;34m\u001b[0m\u001b[0;34m\u001b[0m\u001b[0m\n\u001b[0m\u001b[1;32m     37\u001b[0m \u001b[0;34m\u001b[0m\u001b[0m\n",
      "\u001b[0;31mTypeError\u001b[0m: unsupported operand type(s) for +: 'int' and 'str'",
      "\nDuring handling of the above exception, another exception occurred:\n",
      "\u001b[0;31mTypeError\u001b[0m                                 Traceback (most recent call last)",
      "\u001b[0;32m<ipython-input-10-64267d33e028>\u001b[0m in \u001b[0;36m<module>\u001b[0;34m\u001b[0m\n\u001b[0;32m----> 1\u001b[0;31m \u001b[0mdf\u001b[0m\u001b[0;34m[\u001b[0m\u001b[0;34m'Alley'\u001b[0m\u001b[0;34m]\u001b[0m\u001b[0;34m.\u001b[0m\u001b[0mmean\u001b[0m\u001b[0;34m(\u001b[0m\u001b[0;34m)\u001b[0m\u001b[0;34m\u001b[0m\u001b[0;34m\u001b[0m\u001b[0m\n\u001b[0m",
      "\u001b[0;32m/miniconda3/lib/python3.7/site-packages/pandas/core/generic.py\u001b[0m in \u001b[0;36mstat_func\u001b[0;34m(self, axis, skipna, level, numeric_only, **kwargs)\u001b[0m\n\u001b[1;32m  10954\u001b[0m                                       skipna=skipna)\n\u001b[1;32m  10955\u001b[0m         return self._reduce(f, name, axis=axis, skipna=skipna,\n\u001b[0;32m> 10956\u001b[0;31m                             numeric_only=numeric_only)\n\u001b[0m\u001b[1;32m  10957\u001b[0m \u001b[0;34m\u001b[0m\u001b[0m\n\u001b[1;32m  10958\u001b[0m     \u001b[0;32mreturn\u001b[0m \u001b[0mset_function_name\u001b[0m\u001b[0;34m(\u001b[0m\u001b[0mstat_func\u001b[0m\u001b[0;34m,\u001b[0m \u001b[0mname\u001b[0m\u001b[0;34m,\u001b[0m \u001b[0mcls\u001b[0m\u001b[0;34m)\u001b[0m\u001b[0;34m\u001b[0m\u001b[0;34m\u001b[0m\u001b[0m\n",
      "\u001b[0;32m/miniconda3/lib/python3.7/site-packages/pandas/core/series.py\u001b[0m in \u001b[0;36m_reduce\u001b[0;34m(self, op, name, axis, skipna, numeric_only, filter_type, **kwds)\u001b[0m\n\u001b[1;32m   3628\u001b[0m                                           'numeric_only.'.format(name))\n\u001b[1;32m   3629\u001b[0m             \u001b[0;32mwith\u001b[0m \u001b[0mnp\u001b[0m\u001b[0;34m.\u001b[0m\u001b[0merrstate\u001b[0m\u001b[0;34m(\u001b[0m\u001b[0mall\u001b[0m\u001b[0;34m=\u001b[0m\u001b[0;34m'ignore'\u001b[0m\u001b[0;34m)\u001b[0m\u001b[0;34m:\u001b[0m\u001b[0;34m\u001b[0m\u001b[0;34m\u001b[0m\u001b[0m\n\u001b[0;32m-> 3630\u001b[0;31m                 \u001b[0;32mreturn\u001b[0m \u001b[0mop\u001b[0m\u001b[0;34m(\u001b[0m\u001b[0mdelegate\u001b[0m\u001b[0;34m,\u001b[0m \u001b[0mskipna\u001b[0m\u001b[0;34m=\u001b[0m\u001b[0mskipna\u001b[0m\u001b[0;34m,\u001b[0m \u001b[0;34m**\u001b[0m\u001b[0mkwds\u001b[0m\u001b[0;34m)\u001b[0m\u001b[0;34m\u001b[0m\u001b[0;34m\u001b[0m\u001b[0m\n\u001b[0m\u001b[1;32m   3631\u001b[0m \u001b[0;34m\u001b[0m\u001b[0m\n\u001b[1;32m   3632\u001b[0m         \u001b[0;31m# TODO(EA) dispatch to Index\u001b[0m\u001b[0;34m\u001b[0m\u001b[0;34m\u001b[0m\u001b[0;34m\u001b[0m\u001b[0m\n",
      "\u001b[0;32m/miniconda3/lib/python3.7/site-packages/pandas/core/nanops.py\u001b[0m in \u001b[0;36m_f\u001b[0;34m(*args, **kwargs)\u001b[0m\n\u001b[1;32m     74\u001b[0m             \u001b[0;32mtry\u001b[0m\u001b[0;34m:\u001b[0m\u001b[0;34m\u001b[0m\u001b[0;34m\u001b[0m\u001b[0m\n\u001b[1;32m     75\u001b[0m                 \u001b[0;32mwith\u001b[0m \u001b[0mnp\u001b[0m\u001b[0;34m.\u001b[0m\u001b[0merrstate\u001b[0m\u001b[0;34m(\u001b[0m\u001b[0minvalid\u001b[0m\u001b[0;34m=\u001b[0m\u001b[0;34m'ignore'\u001b[0m\u001b[0;34m)\u001b[0m\u001b[0;34m:\u001b[0m\u001b[0;34m\u001b[0m\u001b[0;34m\u001b[0m\u001b[0m\n\u001b[0;32m---> 76\u001b[0;31m                     \u001b[0;32mreturn\u001b[0m \u001b[0mf\u001b[0m\u001b[0;34m(\u001b[0m\u001b[0;34m*\u001b[0m\u001b[0margs\u001b[0m\u001b[0;34m,\u001b[0m \u001b[0;34m**\u001b[0m\u001b[0mkwargs\u001b[0m\u001b[0;34m)\u001b[0m\u001b[0;34m\u001b[0m\u001b[0;34m\u001b[0m\u001b[0m\n\u001b[0m\u001b[1;32m     77\u001b[0m             \u001b[0;32mexcept\u001b[0m \u001b[0mValueError\u001b[0m \u001b[0;32mas\u001b[0m \u001b[0me\u001b[0m\u001b[0;34m:\u001b[0m\u001b[0;34m\u001b[0m\u001b[0;34m\u001b[0m\u001b[0m\n\u001b[1;32m     78\u001b[0m                 \u001b[0;31m# we want to transform an object array\u001b[0m\u001b[0;34m\u001b[0m\u001b[0;34m\u001b[0m\u001b[0;34m\u001b[0m\u001b[0m\n",
      "\u001b[0;32m/miniconda3/lib/python3.7/site-packages/pandas/core/nanops.py\u001b[0m in \u001b[0;36mf\u001b[0;34m(values, axis, skipna, **kwds)\u001b[0m\n\u001b[1;32m    128\u001b[0m             \u001b[0;32mexcept\u001b[0m \u001b[0mException\u001b[0m\u001b[0;34m:\u001b[0m\u001b[0;34m\u001b[0m\u001b[0;34m\u001b[0m\u001b[0m\n\u001b[1;32m    129\u001b[0m                 \u001b[0;32mtry\u001b[0m\u001b[0;34m:\u001b[0m\u001b[0;34m\u001b[0m\u001b[0;34m\u001b[0m\u001b[0m\n\u001b[0;32m--> 130\u001b[0;31m                     \u001b[0mresult\u001b[0m \u001b[0;34m=\u001b[0m \u001b[0malt\u001b[0m\u001b[0;34m(\u001b[0m\u001b[0mvalues\u001b[0m\u001b[0;34m,\u001b[0m \u001b[0maxis\u001b[0m\u001b[0;34m=\u001b[0m\u001b[0maxis\u001b[0m\u001b[0;34m,\u001b[0m \u001b[0mskipna\u001b[0m\u001b[0;34m=\u001b[0m\u001b[0mskipna\u001b[0m\u001b[0;34m,\u001b[0m \u001b[0;34m**\u001b[0m\u001b[0mkwds\u001b[0m\u001b[0;34m)\u001b[0m\u001b[0;34m\u001b[0m\u001b[0;34m\u001b[0m\u001b[0m\n\u001b[0m\u001b[1;32m    131\u001b[0m                 \u001b[0;32mexcept\u001b[0m \u001b[0mValueError\u001b[0m \u001b[0;32mas\u001b[0m \u001b[0me\u001b[0m\u001b[0;34m:\u001b[0m\u001b[0;34m\u001b[0m\u001b[0;34m\u001b[0m\u001b[0m\n\u001b[1;32m    132\u001b[0m                     \u001b[0;31m# we want to transform an object array\u001b[0m\u001b[0;34m\u001b[0m\u001b[0;34m\u001b[0m\u001b[0;34m\u001b[0m\u001b[0m\n",
      "\u001b[0;32m/miniconda3/lib/python3.7/site-packages/pandas/core/nanops.py\u001b[0m in \u001b[0;36mnanmean\u001b[0;34m(values, axis, skipna, mask)\u001b[0m\n\u001b[1;32m    477\u001b[0m         \u001b[0mdtype_count\u001b[0m \u001b[0;34m=\u001b[0m \u001b[0mdtype\u001b[0m\u001b[0;34m\u001b[0m\u001b[0;34m\u001b[0m\u001b[0m\n\u001b[1;32m    478\u001b[0m     \u001b[0mcount\u001b[0m \u001b[0;34m=\u001b[0m \u001b[0m_get_counts\u001b[0m\u001b[0;34m(\u001b[0m\u001b[0mmask\u001b[0m\u001b[0;34m,\u001b[0m \u001b[0maxis\u001b[0m\u001b[0;34m,\u001b[0m \u001b[0mdtype\u001b[0m\u001b[0;34m=\u001b[0m\u001b[0mdtype_count\u001b[0m\u001b[0;34m)\u001b[0m\u001b[0;34m\u001b[0m\u001b[0;34m\u001b[0m\u001b[0m\n\u001b[0;32m--> 479\u001b[0;31m     \u001b[0mthe_sum\u001b[0m \u001b[0;34m=\u001b[0m \u001b[0m_ensure_numeric\u001b[0m\u001b[0;34m(\u001b[0m\u001b[0mvalues\u001b[0m\u001b[0;34m.\u001b[0m\u001b[0msum\u001b[0m\u001b[0;34m(\u001b[0m\u001b[0maxis\u001b[0m\u001b[0;34m,\u001b[0m \u001b[0mdtype\u001b[0m\u001b[0;34m=\u001b[0m\u001b[0mdtype_sum\u001b[0m\u001b[0;34m)\u001b[0m\u001b[0;34m)\u001b[0m\u001b[0;34m\u001b[0m\u001b[0;34m\u001b[0m\u001b[0m\n\u001b[0m\u001b[1;32m    480\u001b[0m \u001b[0;34m\u001b[0m\u001b[0m\n\u001b[1;32m    481\u001b[0m     \u001b[0;32mif\u001b[0m \u001b[0maxis\u001b[0m \u001b[0;32mis\u001b[0m \u001b[0;32mnot\u001b[0m \u001b[0;32mNone\u001b[0m \u001b[0;32mand\u001b[0m \u001b[0mgetattr\u001b[0m\u001b[0;34m(\u001b[0m\u001b[0mthe_sum\u001b[0m\u001b[0;34m,\u001b[0m \u001b[0;34m'ndim'\u001b[0m\u001b[0;34m,\u001b[0m \u001b[0;32mFalse\u001b[0m\u001b[0;34m)\u001b[0m\u001b[0;34m:\u001b[0m\u001b[0;34m\u001b[0m\u001b[0;34m\u001b[0m\u001b[0m\n",
      "\u001b[0;32m/miniconda3/lib/python3.7/site-packages/numpy/core/_methods.py\u001b[0m in \u001b[0;36m_sum\u001b[0;34m(a, axis, dtype, out, keepdims, initial)\u001b[0m\n\u001b[1;32m     34\u001b[0m def _sum(a, axis=None, dtype=None, out=None, keepdims=False,\n\u001b[1;32m     35\u001b[0m          initial=_NoValue):\n\u001b[0;32m---> 36\u001b[0;31m     \u001b[0;32mreturn\u001b[0m \u001b[0mumr_sum\u001b[0m\u001b[0;34m(\u001b[0m\u001b[0ma\u001b[0m\u001b[0;34m,\u001b[0m \u001b[0maxis\u001b[0m\u001b[0;34m,\u001b[0m \u001b[0mdtype\u001b[0m\u001b[0;34m,\u001b[0m \u001b[0mout\u001b[0m\u001b[0;34m,\u001b[0m \u001b[0mkeepdims\u001b[0m\u001b[0;34m,\u001b[0m \u001b[0minitial\u001b[0m\u001b[0;34m)\u001b[0m\u001b[0;34m\u001b[0m\u001b[0;34m\u001b[0m\u001b[0m\n\u001b[0m\u001b[1;32m     37\u001b[0m \u001b[0;34m\u001b[0m\u001b[0m\n\u001b[1;32m     38\u001b[0m def _prod(a, axis=None, dtype=None, out=None, keepdims=False,\n",
      "\u001b[0;31mTypeError\u001b[0m: unsupported operand type(s) for +: 'int' and 'str'"
     ]
    }
   ],
   "source": [
    "df['Alley'].mean()"
   ]
  },
  {
   "cell_type": "markdown",
   "metadata": {},
   "source": [
    "mean() 以數值為參數無法以object（字串）為輸入；當字串無法轉成數值就會錯誤，如果可以轉就OK"
   ]
  },
  {
   "cell_type": "code",
   "execution_count": 11,
   "metadata": {},
   "outputs": [
    {
     "data": {
      "text/plain": [
       "MSSubClass          190\n",
       "LotArea          215245\n",
       "OverallQual          10\n",
       "OverallCond           9\n",
       "YearBuilt          2010\n",
       "YearRemodAdd       2010\n",
       "1stFlrSF           5095\n",
       "2ndFlrSF           2065\n",
       "LowQualFinSF       1064\n",
       "GrLivArea          5642\n",
       "FullBath              4\n",
       "HalfBath              2\n",
       "BedroomAbvGr          8\n",
       "KitchenAbvGr          3\n",
       "TotRmsAbvGrd         15\n",
       "Fireplaces            4\n",
       "WoodDeckSF         1424\n",
       "OpenPorchSF         742\n",
       "EnclosedPorch      1012\n",
       "3SsnPorch           508\n",
       "ScreenPorch         576\n",
       "PoolArea            800\n",
       "MiscVal           17000\n",
       "MoSold               12\n",
       "YrSold             2010\n",
       "dtype: int64"
      ]
     },
     "execution_count": 11,
     "metadata": {},
     "output_type": "execute_result"
    }
   ],
   "source": [
    "df[int_features].max()"
   ]
  },
  {
   "cell_type": "code",
   "execution_count": 12,
   "metadata": {},
   "outputs": [
    {
     "data": {
      "text/plain": [
       "LotFrontage      313.0\n",
       "MasVnrArea      1600.0\n",
       "BsmtFinSF1      5644.0\n",
       "BsmtFinSF2      1526.0\n",
       "BsmtUnfSF       2336.0\n",
       "TotalBsmtSF     6110.0\n",
       "BsmtFullBath       3.0\n",
       "BsmtHalfBath       2.0\n",
       "GarageYrBlt     2207.0\n",
       "GarageCars         5.0\n",
       "GarageArea      1488.0\n",
       "dtype: float64"
      ]
     },
     "execution_count": 12,
     "metadata": {},
     "output_type": "execute_result"
    }
   ],
   "source": [
    "df[float_features].max()"
   ]
  },
  {
   "cell_type": "code",
   "execution_count": 13,
   "metadata": {},
   "outputs": [
    {
     "data": {
      "text/plain": [
       "Series([], dtype: float64)"
      ]
     },
     "execution_count": 13,
     "metadata": {},
     "output_type": "execute_result"
    }
   ],
   "source": [
    "df[object_features].max()"
   ]
  },
  {
   "cell_type": "code",
   "execution_count": 20,
   "metadata": {},
   "outputs": [
    {
     "data": {
      "text/plain": [
       "'Inside'"
      ]
     },
     "execution_count": 20,
     "metadata": {},
     "output_type": "execute_result"
    }
   ],
   "source": [
    "df['LotConfig'].max()"
   ]
  },
  {
   "cell_type": "code",
   "execution_count": 27,
   "metadata": {},
   "outputs": [
    {
     "data": {
      "text/plain": [
       "'Reg'"
      ]
     },
     "execution_count": 27,
     "metadata": {},
     "output_type": "execute_result"
    }
   ],
   "source": [
    "df['LotShape'].max()"
   ]
  },
  {
   "cell_type": "code",
   "execution_count": 24,
   "metadata": {},
   "outputs": [
    {
     "ename": "TypeError",
     "evalue": "Could not convert InsideFR2InsideCornerFR2InsideInsideCornerInsideCornerInsideInsideInsideInsideCornerCornerCulDSacInsideInsideInsideCornerInsideInsideInsideInsideCornerCornerInsideCulDSacInsideInsideCulDSacCornerInsideInsideInsideCornerInsideInsideInsideInsideInsideCulDSacCulDSacInsideInsideCulDSacInsideInsideInsideCornerInsideCornerInsideInsideInsideInsideCornerCulDSacInsideInsideInsideInsideInsideInsideInsideInsideInsideCornerCornerInsideCornerCornerInsideCornerInsideInsideInsideInsideCornerCornerFR2InsideInsideInsideCornerInsideCornerCornerInsideInsideInsideInsideCornerInsideCornerInsideInsideCornerInsideInsideInsideInsideCornerCornerInsideInsideInsideCornerInsideInsideInsideInsideCornerInsideCornerInsideCornerCornerInsideCulDSacInsideCornerInsideCulDSacInsideInsideInsideInsideInsideCornerCornerCornerInsideInsideInsideCornerInsideInsideInsideFR2InsideCornerInsideInsideInsideCornerCulDSacInsideInsideCornerInsideCulDSacInsideCornerCornerInsideCornerCornerCornerCulDSacInsideCornerInsideCornerInsideInsideInsideInsideCornerInsideCornerInsideInsideInsideCornerCornerInsideCulDSacInsideInsideInsideInsideInsideInsideInsideCulDSacInsideInsideInsideInsideCulDSacInsideInsideInsideFR2InsideCornerCornerInsideCornerInsideCornerInsideInsideCornerCulDSacInsideInsideInsideInsideCornerInsideCulDSacFR2InsideInsideInsideCornerInsideInsideInsideInsideFR2InsideInsideInsideInsideFR2InsideInsideInsideInsideCornerInsideInsideFR2CulDSacInsideInsideInsideInsideCornerCornerInsideInsideInsideInsideInsideCulDSacInsideInsideInsideInsideInsideInsideInsideInsideInsideInsideCornerInsideCornerCornerInsideInsideFR2InsideInsideCornerInsideCulDSacCulDSacInsideCornerInsideInsideCornerInsideInsideInsideInsideInsideInsideInsideInsideInsideCornerInsideInsideInsideInsideInsideCornerInsideCulDSacInsideInsideInsideInsideCornerInsideCornerCornerInsideInsideInsideInsideInsideInsideInsideInsideInsideInsideInsideInsideCornerInsideInsideInsideCornerInsideInsideInsideCornerInsideCulDSacInsideInsideCornerInsideInsideInsideFR3InsideCornerCornerInsideCornerInsideInsideInsideInsideInsideInsideInsideCulDSacInsideInsideInsideInsideInsideInsideInsideInsideInsideInsideInsideInsideCulDSacCulDSacInsideCornerInsideFR2InsideInsideCornerInsideCornerInsideInsideInsideInsideInsideInsideCulDSacCornerCornerInsideInsideInsideInsideCornerCornerInsideFR2InsideCulDSacInsideInsideCulDSacInsideCornerInsideInsideInsideInsideCornerInsideInsideInsideInsideCornerInsideCornerInsideInsideCornerInsideInsideInsideInsideInsideCulDSacInsideInsideInsideInsideInsideInsideFR2InsideInsideInsideInsideInsideInsideInsideCornerInsideInsideInsideCornerInsideCulDSacInsideInsideInsideCornerInsideInsideInsideInsideInsideCornerCornerCornerInsideInsideInsideInsideCornerInsideInsideInsideInsideCulDSacInsideCornerInsideInsideInsideInsideInsideInsideInsideInsideInsideCornerCornerInsideInsideInsideInsideCornerInsideInsideInsideInsideFR2InsideCornerFR2CornerInsideInsideInsideCornerInsideInsideInsideCornerInsideInsideInsideInsideInsideInsideInsideInsideInsideCornerInsideInsideInsideInsideInsideInsideCornerInsideInsideCornerCornerInsideInsideCornerInsideCulDSacInsideInsideCornerCornerInsideInsideInsideInsideInsideInsideCulDSacInsideFR3InsideInsideInsideInsideCulDSacFR2InsideInsideInsideFR2InsideInsideInsideCornerInsideInsideInsideInsideInsideInsideInsideInsideInsideInsideInsideInsideFR2InsideInsideInsideInsideInsideCulDSacCornerInsideInsideInsideCornerInsideInsideCornerInsideFR2InsideInsideInsideCornerInsideCulDSacInsideInsideInsideInsideInsideInsideInsideInsideInsideInsideCornerInsideInsideInsideInsideInsideInsideInsideInsideInsideInsideInsideInsideInsideInsideCornerInsideInsideInsideInsideFR2InsideInsideInsideInsideInsideCornerInsideInsideInsideInsideInsideInsideInsideCornerInsideInsideInsideCornerCornerInsideInsideCornerInsideInsideInsideInsideInsideInsideInsideInsideInsideInsideInsideCornerInsideInsideInsideInsideInsideInsideInsideInsideInsideInsideInsideInsideInsideCornerCulDSacCulDSacCornerInsideCulDSacCornerInsideInsideCornerInsideFR2InsideInsideInsideInsideInsideInsideInsideInsideInsideInsideInsideInsideCornerCulDSacCulDSacInsideFR2InsideCornerInsideCornerInsideCornerCornerInsideInsideInsideInsideInsideInsideInsideInsideInsideInsideInsideCulDSacInsideInsideInsideInsideInsideInsideInsideCulDSacInsideInsideInsideInsideInsideCulDSacInsideInsideInsideInsideInsideCornerInsideCornerInsideInsideCornerInsideCornerCornerInsideInsideCulDSacInsideInsideInsideInsideInsideInsideInsideInsideInsideCornerInsideInsideCornerInsideInsideInsideInsideInsideInsideCulDSacInsideInsideInsideFR2InsideInsideCulDSacInsideInsideInsideInsideCulDSacCulDSacInsideInsideInsideCornerFR2InsideInsideInsideInsideInsideInsideInsideCornerInsideInsideInsideInsideCornerInsideInsideCornerCulDSacInsideCornerInsideInsideInsideInsideCornerInsideInsideInsideInsideInsideFR2InsideInsideInsideCornerInsideInsideInsideInsideInsideCulDSacCornerCulDSacInsideInsideCulDSacInsideCornerInsideInsideInsideInsideInsideCulDSacInsideCornerInsideCulDSacInsideInsideInsideInsideInsideInsideInsideInsideInsideInsideCornerInsideCulDSacInsideCulDSacInsideFR2InsideInsideInsideCornerInsideCornerInsideInsideInsideCornerCornerInsideCornerInsideInsideInsideInsideCornerCornerInsideInsideInsideCornerInsideInsideInsideInsideInsideInsideCulDSacInsideCulDSacCornerInsideInsideCulDSacCornerInsideInsideInsideCornerInsideInsideInsideInsideInsideInsideInsideInsideInsideInsideInsideInsideCulDSacInsideInsideCornerInsideInsideInsideCornerCulDSacInsideInsideInsideInsideInsideInsideCornerCornerInsideInsideInsideInsideInsideCornerInsideInsideInsideCornerInsideInsideCornerFR2InsideInsideInsideInsideInsideInsideInsideFR2InsideInsideCulDSacCornerInsideInsideInsideInsideInsideCornerInsideInsideCulDSacInsideInsideInsideInsideFR2InsideCornerCornerCornerCornerInsideInsideInsideInsideInsideInsideInsideInsideCornerCornerFR2InsideInsideInsideCornerCornerCornerInsideCornerInsideInsideCornerInsideInsideInsideInsideCornerInsideInsideFR2InsideInsideInsideInsideInsideCornerCornerInsideCornerInsideInsideInsideInsideCulDSacInsideInsideInsideInsideInsideInsideInsideInsideCulDSacFR2InsideInsideInsideInsideInsideCornerCornerInsideInsideInsideInsideInsideCornerCornerInsideInsideCulDSacInsideInsideInsideInsideCornerInsideInsideInsideInsideCulDSacInsideInsideInsideInsideInsideCornerCornerInsideCornerInsideInsideFR2InsideCornerInsideInsideInsideInsideCulDSacInsideInsideInsideInsideInsideInsideInsideInsideCornerInsideInsideInsideCornerInsideInsideInsideCornerInsideInsideCornerInsideInsideInsideInsideInsideCornerInsideInsideCornerInsideInsideInsideInsideInsideInsideInsideInsideInsideCornerInsideCornerCornerCulDSacInsideInsideInsideInsideCornerInsideInsideInsideInsideFR2InsideInsideInsideInsideCornerInsideInsideInsideInsideCornerInsideInsideInsideInsideInsideInsideInsideCornerInsideInsideInsideInsideCornerCulDSacInsideInsideInsideInsideInsideInsideInsideInsideInsideInsideInsideCornerInsideCornerInsideInsideFR2InsideInsideCulDSacInsideInsideFR2InsideCornerInsideCornerCulDSacInsideInsideInsideInsideInsideInsideCulDSacInsideFR2CornerCornerInsideCornerInsideInsideInsideCornerCornerInsideInsideInsideInsideInsideFR2CornerInsideInsideCornerInsideInsideInsideCornerCornerInsideInsideCulDSacInsideInsideInsideCulDSacInsideInsideInsideCulDSacInsideInsideInsideInsideInsideInsideInsideInsideInsideInsideInsideInsideCulDSacCornerCornerInsideInsideInsideFR2InsideInsideInsideInsideFR2InsideInsideInsideInsideInsideInsideCornerInsideInsideInsideInsideInsideCornerCornerInsideInsideInsideInsideCornerCornerInsideFR2CulDSacInsideInsideInsideInsideFR3InsideInsideInsideInsideInsideInsideCulDSacCornerCornerCornerCulDSacCulDSacInsideInsideInsideCulDSacInsideCornerInsideInsideInsideInsideInsideInsideCornerInsideCornerInsideInsideInsideInsideInsideCornerInsideCulDSacInsideInsideInsideInsideCornerInsideInsideInsideInsideInsideInsideInsideCornerInsideInsideInsideCornerCulDSacInsideInsideCornerInsideInsideInsideInsideInsideInsideCornerInsideInsideInsideInsideCornerInsideInsideInsideCornerCornerCornerInsideInsideInsideInsideCornerInsideCulDSacCornerInsideInsideInsideInsideInsideCulDSacInsideInsideCornerCulDSacInsideFR3InsideInsideFR2InsideInsideInsideInsideInsideInsideFR2CornerInsideCornerInsideInsideInsideInsideInsideInsideInsideInsideCornerCornerInsideInsideInsideInsideInsideCulDSacInsideInsideInsideInsideInsideInsideInsideInsideInsideInsideInsideCornerInsideInsideCulDSacCornerInsideCornerCornerInsideCulDSacInsideInsideInsideCornerInsideInsideInsideInsideInsideInsideCornerInsideInsideCulDSacInsideInsideInsideInsideCornerCornerInsideInsideInsideInsideInsideInsideFR2FR2InsideInsideInsideInsideInsideInsideFR2InsideCulDSacInsideInsideInsideFR2InsideInsideInsideInsideInsideInsideInsideInsideInsideInsideCornerInsideInsideInsideCornerInsideInsideInsideCornerFR2InsideInsideFR2FR2InsideCornerInsideInsideInsideCornerInsideCornerInsideInsideInsideCulDSacInsideInsideCornerInsideCornerCulDSacInsideInsideCulDSacInsideInsideInsideInsideCornerFR2InsideInsideInsideInsideInsideInsideInsideInsideCornerInsideInsideInsideInsideCornerInsideCornerInsideInsideInsideInsideInsideInsideCornerInsideCornerInsideCornerInsideCornerInsideInsideCornerInsideInsideInsideCornerInsideInsideInsideCornerCornerInsideInsideInsideCornerInsideInsideInsideInsideInsideInsideInsideInsideInsideInsideInsideInsideCornerInsideInsideInsideInsideInsideInsideCornerCulDSacInsideInsideInsideInsideInsideCulDSacInsideCulDSacInsideInsideCornerInsideFR2InsideInsideInsideInsideInsideCornerCulDSacInsideInsideInsideInsideCornerInsideInsideInsideInsideFR2InsideInsideInsideInsideCornerCornerInsideInsideInsideCornerInsideInsideInsideInsideInsideInsideInsideInsideInsideInsideInsideInsideInsideInsideInsideInsideInsideInsideCornerInsideInsideCulDSacCornerCornerInsideInsideInsideInsideInsideInsideInsideInsideInsideInsideInsideCornerCulDSacInsideCornerInsideInsideInsideFR2InsideInsideFR2FR2InsideInsideInsideInsideInsideInsideInsideInsideInsideInsideFR3CulDSacInsideInsideCornerCornerCornerInsideInsideInsideInsideInsideInsideCornerInsideInsideCornerInsideInsideInsideInsideInsideInsideInsideInsideInsideCornerInsideInsideInsideCulDSacInsideInsideCulDSacInsideInsideInsideInsideInsideInsideCornerInsideInsideInsideInsideInsideCornerInsideInsideInsideCornerInsideInsideCornerInsideInsideInsideInsideInsideCulDSacInsideInsideInsideCulDSacInsideInsideCornerInsideInsideInsideInsideInsideInsideInsideInsideInsideInsideFR2InsideInsideFR2CulDSacInsideInsideInsideInsideInsideInsideInsideInsideInsideInsideCornerCornerInsideInsideCornerCornerInsideInsideCornerInsideInsideInsideInsideInsideInsideCornerInsideCulDSacCornerCornerInsideInsideCornerInsideInsideInsideCornerInsideInsideCornerInsideInsideCornerCornerInsideInsideInsideCornerInsideInsideInsideCornerInsideInsideCornerCornerInsideInsideInsideInsideInsideCornerInsideCornerInsideInsideCornerCornerInsideInsideCornerInsideInsideInsideInsideCornerInsideInsideCornerInsideInsideInsideInsideInsideInsideInsideCornerCornerCornerInsideInsideInsideInsideInsideInsideInsideCulDSacInsideInsideInsideCornerCulDSacInsideInsideInsideInsideInsideInsideCornerFR2InsideInsideInsideInsideInsideInsideInsideInsideInsideInsideInsideInsideCornerInsideInsideCulDSacInsideInsideInsideInsideInsideCulDSacInsideCornerInsideInsideCornerFR3InsideInsideInsideCornerInsideInsideInsideInsideInsideInsideInsideCornerInsideInsideInsideInsideInsideCornerInsideInsideInsideCornerInsideInsideInsideInsideInsideInsideInsideInsideInsideInsideInsideInsideInsideCornerCornerCulDSacCornerCornerInsideInsideInsideInsideInsideInsideInsideInsideInsideInsideInsideCornerInsideCornerInsideCornerFR3InsideCornerCulDSacFR2InsideInsideInsideInsideCulDSacInsideCornerInsideInsideCornerInsideFR3FR2FR2InsideInsideInsideInsideFR2InsideInsideInsideInsideInsideInsideInsideInsideInsideInsideCornerInsideCornerInsideCornerInsideInsideInsideInsideInsideInsideInsideInsideInsideInsideInsideInsideInsideFR2InsideInsideFR2InsideCulDSacCulDSacInsideInsideInsideInsideCornerInsideInsideInsideInsideFR2InsideCornerInsideInsideCulDSacInsideCornerInsideInsideInsideInsideInsideCornerInsideInsideCornerInsideInsideInsideInsideInsideInsideInsideInsideCornerInsideInsideInsideCulDSacCulDSacInsideInsideInsideInsideCulDSacInsideInsideInsideInsideInsideInsideCornerCornerInsideInsideInsideInsideInsideInsideInsideInsideInsideInsideCornerInsideInsideInsideInsideInsideCornerCornerInsideCornerCornerInsideInsideInsideInsideInsideCornerInsideCornerInsideInsideInsideInsideInsideInsideCornerInsideInsideInsideCornerInsideInsideInsideInsideCornerCornerInsideInsideCornerCornerInsideCornerInsideInsideInsideInsideInsideCornerInsideInsideCornerInsideInsideInsideInsideInsideFR2FR3InsideInsideInsideInsideInsideInsideInsideInsideInsideInsideInsideCornerInsideInsideInsideInsideCornerInsideInsideCulDSacCornerCulDSacInsideInsideInsideCornerCornerInsideCulDSacInsideInsideInsideInsideCornerCornerInsideCulDSacCornerInsideInsideInsideInsideCornerCulDSacInsideInsideCornerInsideInsideInsideInsideCulDSacInsideCulDSacCulDSacCulDSacInsideInsideCornerInsideCornerInsideInsideInsideInsideCulDSacInsideInsideCornerInsideInsideInsideInsideInsideInsideInsideCornerInsideInsideInsideCornerCornerInsideInsideCornerInsideInsideCulDSacCulDSacInsideInsideInsideInsideInsideInsideInsideCornerCornerInsideInsideInsideInsideInsideInsideInsideInsideInsideCornerInsideCornerInsideCornerInsideInsideInsideInsideCornerFR2FR2CornerInsideInsideInsideInsideCornerInsideInsideInsideCornerInsideInsideInsideCulDSacInsideInsideInsideCornerCulDSacInsideInsideInsideInsideCulDSacFR2InsideInsideInsideInsideInsideInsideInsideFR2InsideInsideCulDSacInsideInsideInsideFR2InsideFR2InsideInsideInsideInsideFR2InsideCornerInsideInsideInsideInsideCulDSacCulDSacCornerInsideCornerInsideInsideInsideInsideInsideCornerInsideInsideInsideInsideInsideInsideInsideInsideInsideInsideInsideInsideCornerInsideInsideInsideInsideInsideInsideCornerInsideCornerInsideInsideInsideInsideInsideInsideInsideInsideInsideInsideInsideInsideInsideInsideFR2InsideInsideInsideInsideInsideInsideInsideCornerInsideCornerCornerInsideInsideInsideInsideInsideCornerInsideInsideCornerInsideCulDSacCulDSacFR2InsideInsideInsideInsideInsideInsideInsideInsideInsideFR2InsideInsideInsideInsideInsideCornerCornerInsideInsideCornerInsideInsideInsideInsideCulDSacCulDSacInsideInsideInsideInsideInsideCornerInsideInsideInsideInsideInsideCornerInsideInsideInsideInsideCornerInsideInsideInsideInsideInsideInsideInsideInsideInsideCornerInsideCornerInsideInsideInsideInsideInsideCornerInsideInsideInsideInsideInsideInsideInsideInsideInsideCornerInsideInsideInsideInsideCornerInsideInsideCornerInsideInsideInsideInsideInsideInsideInsideCornerInsideInsideInsideInsideInsideInsideInsideInsideInsideInsideInsideInsideInsideInsideCornerInsideInsideCornerInsideInsideInsideCornerInsideCornerInsideInsideInsideInsideInsideFR3InsideInsideCornerInsideInsideInsideInsideCornerInsideCornerCornerInsideInsideCornerInsideInsideCulDSacInsideInsideInsideInsideInsideInsideInsideInsideInsideInsideInsideInsideInsideInsideInsideCulDSacInsideInsideInsideCulDSacCulDSacInsideInsideInsideInsideInsideCulDSacCulDSacCornerInsideInsideInsideInsideInsideInsideInsideCornerCulDSacInsideFR2InsideInsideInsideInsideInsideInsideInsideInsideCulDSacInsideInsideInsideInsideCornerInsideCornerInsideInsideInsideInsideInsideInsideInsideInsideInsideInsideInsideInsideCulDSacCulDSacInsideInsideInsideCornerCulDSacCornerInsideInsideInsideCornerInsideCornerInsideInsideCulDSacInsideCulDSacCulDSacInsideCornerInsideInsideInsideInsideCulDSacInsideInsideInsideInsideInsideInsideFR3InsideInsideInsideInsideInsideCornerInsideCornerInsideInsideCornerInsideInsideInsideInsideCornerCulDSacCornerInsideInsideInsideCulDSacCulDSacInsideInsideInsideCulDSacCulDSacCulDSacCulDSacCornerInsideInsideFR3InsideInsideInsideInsideInsideInsideFR2InsideInsideInsideInsideInsideInsideInsideFR2InsideInsideCornerCornerCornerCornerInsideCornerInsideInsideInsideCornerCornerInsideInsideInsideInsideInsideInsideCornerInsideInsideInsideInsideInsideInsideInsideFR3InsideCornerInsideInsideInsideInsideInsideInsideCulDSacCornerInsideCornerInsideInsideCornerInsideInsideInsideInsideInsideInsideInsideInsideInsideInsideInsideCulDSacInsideInsideCulDSacInsideInsideCornerInsideInsideInsideInsideFR2CornerInsideCornerInsideCornerInsideInsideInsideInsideInsideInsideCulDSacInsideInsideInsideInsideInsideCornerInsideInsideInsideInsideInsideCornerCornerCornerCornerInsideInsideInsideCornerInsideInsideInsideInsideInsideInsideInsideInsideInsideInsideCornerInsideInsideInsideInsideInsideCornerInsideInsideCornerCornerInsideCornerInsideInsideCornerInsideCornerInsideInsideInsideInsideInsideInsideInsideInsideInsideInsideInsideInsideInsideCornerInsideInsideCornerInsideInsideInsideInsideInsideInsideFR3InsideCornerInsideCornerFR2InsideInsideInsideInsideCornerCornerInsideCulDSacInsideInsideInsideInsideInsideCornerInsideCornerInsideCornerInsideInsideInsideInsideInsideInsideInsideInsideInsideCornerInsideCornerInsideInsideInsideCornerInsideCulDSacInsideCornerInsideCulDSacInsideInsideCulDSacCornerInsideInsideFR2CornerCornerInsideInsideInsideInsideFR2InsideCulDSacInsideInsideInsideCornerInsideInsideInsideCornerFR2InsideInsideInsideInsideInsideCornerInsideCornerInsideInsideCornerInsideInsideInsideInsideInsideInsideInsideInsideInsideInsideInsideInsideInsideInsideInsideInsideInsideInsideCornerCornerInsideInsideCornerInsideInsideInsideInsideInsideCornerInsideInsideInsideInsideInsideInsideInsideInsideInsideInside to numeric",
     "output_type": "error",
     "traceback": [
      "\u001b[0;31m---------------------------------------------------------------------------\u001b[0m",
      "\u001b[0;31mValueError\u001b[0m                                Traceback (most recent call last)",
      "\u001b[0;32m/miniconda3/lib/python3.7/site-packages/pandas/core/nanops.py\u001b[0m in \u001b[0;36m_ensure_numeric\u001b[0;34m(x)\u001b[0m\n\u001b[1;32m   1163\u001b[0m         \u001b[0;32mtry\u001b[0m\u001b[0;34m:\u001b[0m\u001b[0;34m\u001b[0m\u001b[0;34m\u001b[0m\u001b[0m\n\u001b[0;32m-> 1164\u001b[0;31m             \u001b[0mx\u001b[0m \u001b[0;34m=\u001b[0m \u001b[0mfloat\u001b[0m\u001b[0;34m(\u001b[0m\u001b[0mx\u001b[0m\u001b[0;34m)\u001b[0m\u001b[0;34m\u001b[0m\u001b[0;34m\u001b[0m\u001b[0m\n\u001b[0m\u001b[1;32m   1165\u001b[0m         \u001b[0;32mexcept\u001b[0m \u001b[0mException\u001b[0m\u001b[0;34m:\u001b[0m\u001b[0;34m\u001b[0m\u001b[0;34m\u001b[0m\u001b[0m\n",
      "\u001b[0;31mValueError\u001b[0m: could not convert string to float: 'InsideFR2InsideCornerFR2InsideInsideCornerInsideCornerInsideInsideInsideInsideCornerCornerCulDSacInsideInsideInsideCornerInsideInsideInsideInsideCornerCornerInsideCulDSacInsideInsideCulDSacCornerInsideInsideInsideCornerInsideInsideInsideInsideInsideCulDSacCulDSacInsideInsideCulDSacInsideInsideInsideCornerInsideCornerInsideInsideInsideInsideCornerCulDSacInsideInsideInsideInsideInsideInsideInsideInsideInsideCornerCornerInsideCornerCornerInsideCornerInsideInsideInsideInsideCornerCornerFR2InsideInsideInsideCornerInsideCornerCornerInsideInsideInsideInsideCornerInsideCornerInsideInsideCornerInsideInsideInsideInsideCornerCornerInsideInsideInsideCornerInsideInsideInsideInsideCornerInsideCornerInsideCornerCornerInsideCulDSacInsideCornerInsideCulDSacInsideInsideInsideInsideInsideCornerCornerCornerInsideInsideInsideCornerInsideInsideInsideFR2InsideCornerInsideInsideInsideCornerCulDSacInsideInsideCornerInsideCulDSacInsideCornerCornerInsideCornerCornerCornerCulDSacInsideCornerInsideCornerInsideInsideInsideInsideCornerInsideCornerInsideInsideInsideCornerCornerInsideCulDSacInsideInsideInsideInsideInsideInsideInsideCulDSacInsideInsideInsideInsideCulDSacInsideInsideInsideFR2InsideCornerCornerInsideCornerInsideCornerInsideInsideCornerCulDSacInsideInsideInsideInsideCornerInsideCulDSacFR2InsideInsideInsideCornerInsideInsideInsideInsideFR2InsideInsideInsideInsideFR2InsideInsideInsideInsideCornerInsideInsideFR2CulDSacInsideInsideInsideInsideCornerCornerInsideInsideInsideInsideInsideCulDSacInsideInsideInsideInsideInsideInsideInsideInsideInsideInsideCornerInsideCornerCornerInsideInsideFR2InsideInsideCornerInsideCulDSacCulDSacInsideCornerInsideInsideCornerInsideInsideInsideInsideInsideInsideInsideInsideInsideCornerInsideInsideInsideInsideInsideCornerInsideCulDSacInsideInsideInsideInsideCornerInsideCornerCornerInsideInsideInsideInsideInsideInsideInsideInsideInsideInsideInsideInsideCornerInsideInsideInsideCornerInsideInsideInsideCornerInsideCulDSacInsideInsideCornerInsideInsideInsideFR3InsideCornerCornerInsideCornerInsideInsideInsideInsideInsideInsideInsideCulDSacInsideInsideInsideInsideInsideInsideInsideInsideInsideInsideInsideInsideCulDSacCulDSacInsideCornerInsideFR2InsideInsideCornerInsideCornerInsideInsideInsideInsideInsideInsideCulDSacCornerCornerInsideInsideInsideInsideCornerCornerInsideFR2InsideCulDSacInsideInsideCulDSacInsideCornerInsideInsideInsideInsideCornerInsideInsideInsideInsideCornerInsideCornerInsideInsideCornerInsideInsideInsideInsideInsideCulDSacInsideInsideInsideInsideInsideInsideFR2InsideInsideInsideInsideInsideInsideInsideCornerInsideInsideInsideCornerInsideCulDSacInsideInsideInsideCornerInsideInsideInsideInsideInsideCornerCornerCornerInsideInsideInsideInsideCornerInsideInsideInsideInsideCulDSacInsideCornerInsideInsideInsideInsideInsideInsideInsideInsideInsideCornerCornerInsideInsideInsideInsideCornerInsideInsideInsideInsideFR2InsideCornerFR2CornerInsideInsideInsideCornerInsideInsideInsideCornerInsideInsideInsideInsideInsideInsideInsideInsideInsideCornerInsideInsideInsideInsideInsideInsideCornerInsideInsideCornerCornerInsideInsideCornerInsideCulDSacInsideInsideCornerCornerInsideInsideInsideInsideInsideInsideCulDSacInsideFR3InsideInsideInsideInsideCulDSacFR2InsideInsideInsideFR2InsideInsideInsideCornerInsideInsideInsideInsideInsideInsideInsideInsideInsideInsideInsideInsideFR2InsideInsideInsideInsideInsideCulDSacCornerInsideInsideInsideCornerInsideInsideCornerInsideFR2InsideInsideInsideCornerInsideCulDSacInsideInsideInsideInsideInsideInsideInsideInsideInsideInsideCornerInsideInsideInsideInsideInsideInsideInsideInsideInsideInsideInsideInsideInsideInsideCornerInsideInsideInsideInsideFR2InsideInsideInsideInsideInsideCornerInsideInsideInsideInsideInsideInsideInsideCornerInsideInsideInsideCornerCornerInsideInsideCornerInsideInsideInsideInsideInsideInsideInsideInsideInsideInsideInsideCornerInsideInsideInsideInsideInsideInsideInsideInsideInsideInsideInsideInsideInsideCornerCulDSacCulDSacCornerInsideCulDSacCornerInsideInsideCornerInsideFR2InsideInsideInsideInsideInsideInsideInsideInsideInsideInsideInsideInsideCornerCulDSacCulDSacInsideFR2InsideCornerInsideCornerInsideCornerCornerInsideInsideInsideInsideInsideInsideInsideInsideInsideInsideInsideCulDSacInsideInsideInsideInsideInsideInsideInsideCulDSacInsideInsideInsideInsideInsideCulDSacInsideInsideInsideInsideInsideCornerInsideCornerInsideInsideCornerInsideCornerCornerInsideInsideCulDSacInsideInsideInsideInsideInsideInsideInsideInsideInsideCornerInsideInsideCornerInsideInsideInsideInsideInsideInsideCulDSacInsideInsideInsideFR2InsideInsideCulDSacInsideInsideInsideInsideCulDSacCulDSacInsideInsideInsideCornerFR2InsideInsideInsideInsideInsideInsideInsideCornerInsideInsideInsideInsideCornerInsideInsideCornerCulDSacInsideCornerInsideInsideInsideInsideCornerInsideInsideInsideInsideInsideFR2InsideInsideInsideCornerInsideInsideInsideInsideInsideCulDSacCornerCulDSacInsideInsideCulDSacInsideCornerInsideInsideInsideInsideInsideCulDSacInsideCornerInsideCulDSacInsideInsideInsideInsideInsideInsideInsideInsideInsideInsideCornerInsideCulDSacInsideCulDSacInsideFR2InsideInsideInsideCornerInsideCornerInsideInsideInsideCornerCornerInsideCornerInsideInsideInsideInsideCornerCornerInsideInsideInsideCornerInsideInsideInsideInsideInsideInsideCulDSacInsideCulDSacCornerInsideInsideCulDSacCornerInsideInsideInsideCornerInsideInsideInsideInsideInsideInsideInsideInsideInsideInsideInsideInsideCulDSacInsideInsideCornerInsideInsideInsideCornerCulDSacInsideInsideInsideInsideInsideInsideCornerCornerInsideInsideInsideInsideInsideCornerInsideInsideInsideCornerInsideInsideCornerFR2InsideInsideInsideInsideInsideInsideInsideFR2InsideInsideCulDSacCornerInsideInsideInsideInsideInsideCornerInsideInsideCulDSacInsideInsideInsideInsideFR2InsideCornerCornerCornerCornerInsideInsideInsideInsideInsideInsideInsideInsideCornerCornerFR2InsideInsideInsideCornerCornerCornerInsideCornerInsideInsideCornerInsideInsideInsideInsideCornerInsideInsideFR2InsideInsideInsideInsideInsideCornerCornerInsideCornerInsideInsideInsideInsideCulDSacInsideInsideInsideInsideInsideInsideInsideInsideCulDSacFR2InsideInsideInsideInsideInsideCornerCornerInsideInsideInsideInsideInsideCornerCornerInsideInsideCulDSacInsideInsideInsideInsideCornerInsideInsideInsideInsideCulDSacInsideInsideInsideInsideInsideCornerCornerInsideCornerInsideInsideFR2InsideCornerInsideInsideInsideInsideCulDSacInsideInsideInsideInsideInsideInsideInsideInsideCornerInsideInsideInsideCornerInsideInsideInsideCornerInsideInsideCornerInsideInsideInsideInsideInsideCornerInsideInsideCornerInsideInsideInsideInsideInsideInsideInsideInsideInsideCornerInsideCornerCornerCulDSacInsideInsideInsideInsideCornerInsideInsideInsideInsideFR2InsideInsideInsideInsideCornerInsideInsideInsideInsideCornerInsideInsideInsideInsideInsideInsideInsideCornerInsideInsideInsideInsideCornerCulDSacInsideInsideInsideInsideInsideInsideInsideInsideInsideInsideInsideCornerInsideCornerInsideInsideFR2InsideInsideCulDSacInsideInsideFR2InsideCornerInsideCornerCulDSacInsideInsideInsideInsideInsideInsideCulDSacInsideFR2CornerCornerInsideCornerInsideInsideInsideCornerCornerInsideInsideInsideInsideInsideFR2CornerInsideInsideCornerInsideInsideInsideCornerCornerInsideInsideCulDSacInsideInsideInsideCulDSacInsideInsideInsideCulDSacInsideInsideInsideInsideInsideInsideInsideInsideInsideInsideInsideInsideCulDSacCornerCornerInsideInsideInsideFR2InsideInsideInsideInsideFR2InsideInsideInsideInsideInsideInsideCornerInsideInsideInsideInsideInsideCornerCornerInsideInsideInsideInsideCornerCornerInsideFR2CulDSacInsideInsideInsideInsideFR3InsideInsideInsideInsideInsideInsideCulDSacCornerCornerCornerCulDSacCulDSacInsideInsideInsideCulDSacInsideCornerInsideInsideInsideInsideInsideInsideCornerInsideCornerInsideInsideInsideInsideInsideCornerInsideCulDSacInsideInsideInsideInsideCornerInsideInsideInsideInsideInsideInsideInsideCornerInsideInsideInsideCornerCulDSacInsideInsideCornerInsideInsideInsideInsideInsideInsideCornerInsideInsideInsideInsideCornerInsideInsideInsideCornerCornerCornerInsideInsideInsideInsideCornerInsideCulDSacCornerInsideInsideInsideInsideInsideCulDSacInsideInsideCornerCulDSacInsideFR3InsideInsideFR2InsideInsideInsideInsideInsideInsideFR2CornerInsideCornerInsideInsideInsideInsideInsideInsideInsideInsideCornerCornerInsideInsideInsideInsideInsideCulDSacInsideInsideInsideInsideInsideInsideInsideInsideInsideInsideInsideCornerInsideInsideCulDSacCornerInsideCornerCornerInsideCulDSacInsideInsideInsideCornerInsideInsideInsideInsideInsideInsideCornerInsideInsideCulDSacInsideInsideInsideInsideCornerCornerInsideInsideInsideInsideInsideInsideFR2FR2InsideInsideInsideInsideInsideInsideFR2InsideCulDSacInsideInsideInsideFR2InsideInsideInsideInsideInsideInsideInsideInsideInsideInsideCornerInsideInsideInsideCornerInsideInsideInsideCornerFR2InsideInsideFR2FR2InsideCornerInsideInsideInsideCornerInsideCornerInsideInsideInsideCulDSacInsideInsideCornerInsideCornerCulDSacInsideInsideCulDSacInsideInsideInsideInsideCornerFR2InsideInsideInsideInsideInsideInsideInsideInsideCornerInsideInsideInsideInsideCornerInsideCornerInsideInsideInsideInsideInsideInsideCornerInsideCornerInsideCornerInsideCornerInsideInsideCornerInsideInsideInsideCornerInsideInsideInsideCornerCornerInsideInsideInsideCornerInsideInsideInsideInsideInsideInsideInsideInsideInsideInsideInsideInsideCornerInsideInsideInsideInsideInsideInsideCornerCulDSacInsideInsideInsideInsideInsideCulDSacInsideCulDSacInsideInsideCornerInsideFR2InsideInsideInsideInsideInsideCornerCulDSacInsideInsideInsideInsideCornerInsideInsideInsideInsideFR2InsideInsideInsideInsideCornerCornerInsideInsideInsideCornerInsideInsideInsideInsideInsideInsideInsideInsideInsideInsideInsideInsideInsideInsideInsideInsideInsideInsideCornerInsideInsideCulDSacCornerCornerInsideInsideInsideInsideInsideInsideInsideInsideInsideInsideInsideCornerCulDSacInsideCornerInsideInsideInsideFR2InsideInsideFR2FR2InsideInsideInsideInsideInsideInsideInsideInsideInsideInsideFR3CulDSacInsideInsideCornerCornerCornerInsideInsideInsideInsideInsideInsideCornerInsideInsideCornerInsideInsideInsideInsideInsideInsideInsideInsideInsideCornerInsideInsideInsideCulDSacInsideInsideCulDSacInsideInsideInsideInsideInsideInsideCornerInsideInsideInsideInsideInsideCornerInsideInsideInsideCornerInsideInsideCornerInsideInsideInsideInsideInsideCulDSacInsideInsideInsideCulDSacInsideInsideCornerInsideInsideInsideInsideInsideInsideInsideInsideInsideInsideFR2InsideInsideFR2CulDSacInsideInsideInsideInsideInsideInsideInsideInsideInsideInsideCornerCornerInsideInsideCornerCornerInsideInsideCornerInsideInsideInsideInsideInsideInsideCornerInsideCulDSacCornerCornerInsideInsideCornerInsideInsideInsideCornerInsideInsideCornerInsideInsideCornerCornerInsideInsideInsideCornerInsideInsideInsideCornerInsideInsideCornerCornerInsideInsideInsideInsideInsideCornerInsideCornerInsideInsideCornerCornerInsideInsideCornerInsideInsideInsideInsideCornerInsideInsideCornerInsideInsideInsideInsideInsideInsideInsideCornerCornerCornerInsideInsideInsideInsideInsideInsideInsideCulDSacInsideInsideInsideCornerCulDSacInsideInsideInsideInsideInsideInsideCornerFR2InsideInsideInsideInsideInsideInsideInsideInsideInsideInsideInsideInsideCornerInsideInsideCulDSacInsideInsideInsideInsideInsideCulDSacInsideCornerInsideInsideCornerFR3InsideInsideInsideCornerInsideInsideInsideInsideInsideInsideInsideCornerInsideInsideInsideInsideInsideCornerInsideInsideInsideCornerInsideInsideInsideInsideInsideInsideInsideInsideInsideInsideInsideInsideInsideCornerCornerCulDSacCornerCornerInsideInsideInsideInsideInsideInsideInsideInsideInsideInsideInsideCornerInsideCornerInsideCornerFR3InsideCornerCulDSacFR2InsideInsideInsideInsideCulDSacInsideCornerInsideInsideCornerInsideFR3FR2FR2InsideInsideInsideInsideFR2InsideInsideInsideInsideInsideInsideInsideInsideInsideInsideCornerInsideCornerInsideCornerInsideInsideInsideInsideInsideInsideInsideInsideInsideInsideInsideInsideInsideFR2InsideInsideFR2InsideCulDSacCulDSacInsideInsideInsideInsideCornerInsideInsideInsideInsideFR2InsideCornerInsideInsideCulDSacInsideCornerInsideInsideInsideInsideInsideCornerInsideInsideCornerInsideInsideInsideInsideInsideInsideInsideInsideCornerInsideInsideInsideCulDSacCulDSacInsideInsideInsideInsideCulDSacInsideInsideInsideInsideInsideInsideCornerCornerInsideInsideInsideInsideInsideInsideInsideInsideInsideInsideCornerInsideInsideInsideInsideInsideCornerCornerInsideCornerCornerInsideInsideInsideInsideInsideCornerInsideCornerInsideInsideInsideInsideInsideInsideCornerInsideInsideInsideCornerInsideInsideInsideInsideCornerCornerInsideInsideCornerCornerInsideCornerInsideInsideInsideInsideInsideCornerInsideInsideCornerInsideInsideInsideInsideInsideFR2FR3InsideInsideInsideInsideInsideInsideInsideInsideInsideInsideInsideCornerInsideInsideInsideInsideCornerInsideInsideCulDSacCornerCulDSacInsideInsideInsideCornerCornerInsideCulDSacInsideInsideInsideInsideCornerCornerInsideCulDSacCornerInsideInsideInsideInsideCornerCulDSacInsideInsideCornerInsideInsideInsideInsideCulDSacInsideCulDSacCulDSacCulDSacInsideInsideCornerInsideCornerInsideInsideInsideInsideCulDSacInsideInsideCornerInsideInsideInsideInsideInsideInsideInsideCornerInsideInsideInsideCornerCornerInsideInsideCornerInsideInsideCulDSacCulDSacInsideInsideInsideInsideInsideInsideInsideCornerCornerInsideInsideInsideInsideInsideInsideInsideInsideInsideCornerInsideCornerInsideCornerInsideInsideInsideInsideCornerFR2FR2CornerInsideInsideInsideInsideCornerInsideInsideInsideCornerInsideInsideInsideCulDSacInsideInsideInsideCornerCulDSacInsideInsideInsideInsideCulDSacFR2InsideInsideInsideInsideInsideInsideInsideFR2InsideInsideCulDSacInsideInsideInsideFR2InsideFR2InsideInsideInsideInsideFR2InsideCornerInsideInsideInsideInsideCulDSacCulDSacCornerInsideCornerInsideInsideInsideInsideInsideCornerInsideInsideInsideInsideInsideInsideInsideInsideInsideInsideInsideInsideCornerInsideInsideInsideInsideInsideInsideCornerInsideCornerInsideInsideInsideInsideInsideInsideInsideInsideInsideInsideInsideInsideInsideInsideFR2InsideInsideInsideInsideInsideInsideInsideCornerInsideCornerCornerInsideInsideInsideInsideInsideCornerInsideInsideCornerInsideCulDSacCulDSacFR2InsideInsideInsideInsideInsideInsideInsideInsideInsideFR2InsideInsideInsideInsideInsideCornerCornerInsideInsideCornerInsideInsideInsideInsideCulDSacCulDSacInsideInsideInsideInsideInsideCornerInsideInsideInsideInsideInsideCornerInsideInsideInsideInsideCornerInsideInsideInsideInsideInsideInsideInsideInsideInsideCornerInsideCornerInsideInsideInsideInsideInsideCornerInsideInsideInsideInsideInsideInsideInsideInsideInsideCornerInsideInsideInsideInsideCornerInsideInsideCornerInsideInsideInsideInsideInsideInsideInsideCornerInsideInsideInsideInsideInsideInsideInsideInsideInsideInsideInsideInsideInsideInsideCornerInsideInsideCornerInsideInsideInsideCornerInsideCornerInsideInsideInsideInsideInsideFR3InsideInsideCornerInsideInsideInsideInsideCornerInsideCornerCornerInsideInsideCornerInsideInsideCulDSacInsideInsideInsideInsideInsideInsideInsideInsideInsideInsideInsideInsideInsideInsideInsideCulDSacInsideInsideInsideCulDSacCulDSacInsideInsideInsideInsideInsideCulDSacCulDSacCornerInsideInsideInsideInsideInsideInsideInsideCornerCulDSacInsideFR2InsideInsideInsideInsideInsideInsideInsideInsideCulDSacInsideInsideInsideInsideCornerInsideCornerInsideInsideInsideInsideInsideInsideInsideInsideInsideInsideInsideInsideCulDSacCulDSacInsideInsideInsideCornerCulDSacCornerInsideInsideInsideCornerInsideCornerInsideInsideCulDSacInsideCulDSacCulDSacInsideCornerInsideInsideInsideInsideCulDSacInsideInsideInsideInsideInsideInsideFR3InsideInsideInsideInsideInsideCornerInsideCornerInsideInsideCornerInsideInsideInsideInsideCornerCulDSacCornerInsideInsideInsideCulDSacCulDSacInsideInsideInsideCulDSacCulDSacCulDSacCulDSacCornerInsideInsideFR3InsideInsideInsideInsideInsideInsideFR2InsideInsideInsideInsideInsideInsideInsideFR2InsideInsideCornerCornerCornerCornerInsideCornerInsideInsideInsideCornerCornerInsideInsideInsideInsideInsideInsideCornerInsideInsideInsideInsideInsideInsideInsideFR3InsideCornerInsideInsideInsideInsideInsideInsideCulDSacCornerInsideCornerInsideInsideCornerInsideInsideInsideInsideInsideInsideInsideInsideInsideInsideInsideCulDSacInsideInsideCulDSacInsideInsideCornerInsideInsideInsideInsideFR2CornerInsideCornerInsideCornerInsideInsideInsideInsideInsideInsideCulDSacInsideInsideInsideInsideInsideCornerInsideInsideInsideInsideInsideCornerCornerCornerCornerInsideInsideInsideCornerInsideInsideInsideInsideInsideInsideInsideInsideInsideInsideCornerInsideInsideInsideInsideInsideCornerInsideInsideCornerCornerInsideCornerInsideInsideCornerInsideCornerInsideInsideInsideInsideInsideInsideInsideInsideInsideInsideInsideInsideInsideCornerInsideInsideCornerInsideInsideInsideInsideInsideInsideFR3InsideCornerInsideCornerFR2InsideInsideInsideInsideCornerCornerInsideCulDSacInsideInsideInsideInsideInsideCornerInsideCornerInsideCornerInsideInsideInsideInsideInsideInsideInsideInsideInsideCornerInsideCornerInsideInsideInsideCornerInsideCulDSacInsideCornerInsideCulDSacInsideInsideCulDSacCornerInsideInsideFR2CornerCornerInsideInsideInsideInsideFR2InsideCulDSacInsideInsideInsideCornerInsideInsideInsideCornerFR2InsideInsideInsideInsideInsideCornerInsideCornerInsideInsideCornerInsideInsideInsideInsideInsideInsideInsideInsideInsideInsideInsideInsideInsideInsideInsideInsideInsideInsideCornerCornerInsideInsideCornerInsideInsideInsideInsideInsideCornerInsideInsideInsideInsideInsideInsideInsideInsideInsideInside'",
      "\nDuring handling of the above exception, another exception occurred:\n",
      "\u001b[0;31mValueError\u001b[0m                                Traceback (most recent call last)",
      "\u001b[0;32m/miniconda3/lib/python3.7/site-packages/pandas/core/nanops.py\u001b[0m in \u001b[0;36m_ensure_numeric\u001b[0;34m(x)\u001b[0m\n\u001b[1;32m   1166\u001b[0m             \u001b[0;32mtry\u001b[0m\u001b[0;34m:\u001b[0m\u001b[0;34m\u001b[0m\u001b[0;34m\u001b[0m\u001b[0m\n\u001b[0;32m-> 1167\u001b[0;31m                 \u001b[0mx\u001b[0m \u001b[0;34m=\u001b[0m \u001b[0mcomplex\u001b[0m\u001b[0;34m(\u001b[0m\u001b[0mx\u001b[0m\u001b[0;34m)\u001b[0m\u001b[0;34m\u001b[0m\u001b[0;34m\u001b[0m\u001b[0m\n\u001b[0m\u001b[1;32m   1168\u001b[0m             \u001b[0;32mexcept\u001b[0m \u001b[0mException\u001b[0m\u001b[0;34m:\u001b[0m\u001b[0;34m\u001b[0m\u001b[0;34m\u001b[0m\u001b[0m\n",
      "\u001b[0;31mValueError\u001b[0m: complex() arg is a malformed string",
      "\nDuring handling of the above exception, another exception occurred:\n",
      "\u001b[0;31mTypeError\u001b[0m                                 Traceback (most recent call last)",
      "\u001b[0;32m/miniconda3/lib/python3.7/site-packages/pandas/core/nanops.py\u001b[0m in \u001b[0;36mf\u001b[0;34m(values, axis, skipna, **kwds)\u001b[0m\n\u001b[1;32m    126\u001b[0m                 \u001b[0;32melse\u001b[0m\u001b[0;34m:\u001b[0m\u001b[0;34m\u001b[0m\u001b[0;34m\u001b[0m\u001b[0m\n\u001b[0;32m--> 127\u001b[0;31m                     \u001b[0mresult\u001b[0m \u001b[0;34m=\u001b[0m \u001b[0malt\u001b[0m\u001b[0;34m(\u001b[0m\u001b[0mvalues\u001b[0m\u001b[0;34m,\u001b[0m \u001b[0maxis\u001b[0m\u001b[0;34m=\u001b[0m\u001b[0maxis\u001b[0m\u001b[0;34m,\u001b[0m \u001b[0mskipna\u001b[0m\u001b[0;34m=\u001b[0m\u001b[0mskipna\u001b[0m\u001b[0;34m,\u001b[0m \u001b[0;34m**\u001b[0m\u001b[0mkwds\u001b[0m\u001b[0;34m)\u001b[0m\u001b[0;34m\u001b[0m\u001b[0;34m\u001b[0m\u001b[0m\n\u001b[0m\u001b[1;32m    128\u001b[0m             \u001b[0;32mexcept\u001b[0m \u001b[0mException\u001b[0m\u001b[0;34m:\u001b[0m\u001b[0;34m\u001b[0m\u001b[0;34m\u001b[0m\u001b[0m\n",
      "\u001b[0;32m/miniconda3/lib/python3.7/site-packages/pandas/core/nanops.py\u001b[0m in \u001b[0;36mnanmean\u001b[0;34m(values, axis, skipna, mask)\u001b[0m\n\u001b[1;32m    478\u001b[0m     \u001b[0mcount\u001b[0m \u001b[0;34m=\u001b[0m \u001b[0m_get_counts\u001b[0m\u001b[0;34m(\u001b[0m\u001b[0mmask\u001b[0m\u001b[0;34m,\u001b[0m \u001b[0maxis\u001b[0m\u001b[0;34m,\u001b[0m \u001b[0mdtype\u001b[0m\u001b[0;34m=\u001b[0m\u001b[0mdtype_count\u001b[0m\u001b[0;34m)\u001b[0m\u001b[0;34m\u001b[0m\u001b[0;34m\u001b[0m\u001b[0m\n\u001b[0;32m--> 479\u001b[0;31m     \u001b[0mthe_sum\u001b[0m \u001b[0;34m=\u001b[0m \u001b[0m_ensure_numeric\u001b[0m\u001b[0;34m(\u001b[0m\u001b[0mvalues\u001b[0m\u001b[0;34m.\u001b[0m\u001b[0msum\u001b[0m\u001b[0;34m(\u001b[0m\u001b[0maxis\u001b[0m\u001b[0;34m,\u001b[0m \u001b[0mdtype\u001b[0m\u001b[0;34m=\u001b[0m\u001b[0mdtype_sum\u001b[0m\u001b[0;34m)\u001b[0m\u001b[0;34m)\u001b[0m\u001b[0;34m\u001b[0m\u001b[0;34m\u001b[0m\u001b[0m\n\u001b[0m\u001b[1;32m    480\u001b[0m \u001b[0;34m\u001b[0m\u001b[0m\n",
      "\u001b[0;32m/miniconda3/lib/python3.7/site-packages/pandas/core/nanops.py\u001b[0m in \u001b[0;36m_ensure_numeric\u001b[0;34m(x)\u001b[0m\n\u001b[1;32m   1169\u001b[0m                 raise TypeError('Could not convert {value!s} to numeric'\n\u001b[0;32m-> 1170\u001b[0;31m                                 .format(value=x))\n\u001b[0m\u001b[1;32m   1171\u001b[0m     \u001b[0;32mreturn\u001b[0m \u001b[0mx\u001b[0m\u001b[0;34m\u001b[0m\u001b[0;34m\u001b[0m\u001b[0m\n",
      "\u001b[0;31mTypeError\u001b[0m: Could not convert InsideFR2InsideCornerFR2InsideInsideCornerInsideCornerInsideInsideInsideInsideCornerCornerCulDSacInsideInsideInsideCornerInsideInsideInsideInsideCornerCornerInsideCulDSacInsideInsideCulDSacCornerInsideInsideInsideCornerInsideInsideInsideInsideInsideCulDSacCulDSacInsideInsideCulDSacInsideInsideInsideCornerInsideCornerInsideInsideInsideInsideCornerCulDSacInsideInsideInsideInsideInsideInsideInsideInsideInsideCornerCornerInsideCornerCornerInsideCornerInsideInsideInsideInsideCornerCornerFR2InsideInsideInsideCornerInsideCornerCornerInsideInsideInsideInsideCornerInsideCornerInsideInsideCornerInsideInsideInsideInsideCornerCornerInsideInsideInsideCornerInsideInsideInsideInsideCornerInsideCornerInsideCornerCornerInsideCulDSacInsideCornerInsideCulDSacInsideInsideInsideInsideInsideCornerCornerCornerInsideInsideInsideCornerInsideInsideInsideFR2InsideCornerInsideInsideInsideCornerCulDSacInsideInsideCornerInsideCulDSacInsideCornerCornerInsideCornerCornerCornerCulDSacInsideCornerInsideCornerInsideInsideInsideInsideCornerInsideCornerInsideInsideInsideCornerCornerInsideCulDSacInsideInsideInsideInsideInsideInsideInsideCulDSacInsideInsideInsideInsideCulDSacInsideInsideInsideFR2InsideCornerCornerInsideCornerInsideCornerInsideInsideCornerCulDSacInsideInsideInsideInsideCornerInsideCulDSacFR2InsideInsideInsideCornerInsideInsideInsideInsideFR2InsideInsideInsideInsideFR2InsideInsideInsideInsideCornerInsideInsideFR2CulDSacInsideInsideInsideInsideCornerCornerInsideInsideInsideInsideInsideCulDSacInsideInsideInsideInsideInsideInsideInsideInsideInsideInsideCornerInsideCornerCornerInsideInsideFR2InsideInsideCornerInsideCulDSacCulDSacInsideCornerInsideInsideCornerInsideInsideInsideInsideInsideInsideInsideInsideInsideCornerInsideInsideInsideInsideInsideCornerInsideCulDSacInsideInsideInsideInsideCornerInsideCornerCornerInsideInsideInsideInsideInsideInsideInsideInsideInsideInsideInsideInsideCornerInsideInsideInsideCornerInsideInsideInsideCornerInsideCulDSacInsideInsideCornerInsideInsideInsideFR3InsideCornerCornerInsideCornerInsideInsideInsideInsideInsideInsideInsideCulDSacInsideInsideInsideInsideInsideInsideInsideInsideInsideInsideInsideInsideCulDSacCulDSacInsideCornerInsideFR2InsideInsideCornerInsideCornerInsideInsideInsideInsideInsideInsideCulDSacCornerCornerInsideInsideInsideInsideCornerCornerInsideFR2InsideCulDSacInsideInsideCulDSacInsideCornerInsideInsideInsideInsideCornerInsideInsideInsideInsideCornerInsideCornerInsideInsideCornerInsideInsideInsideInsideInsideCulDSacInsideInsideInsideInsideInsideInsideFR2InsideInsideInsideInsideInsideInsideInsideCornerInsideInsideInsideCornerInsideCulDSacInsideInsideInsideCornerInsideInsideInsideInsideInsideCornerCornerCornerInsideInsideInsideInsideCornerInsideInsideInsideInsideCulDSacInsideCornerInsideInsideInsideInsideInsideInsideInsideInsideInsideCornerCornerInsideInsideInsideInsideCornerInsideInsideInsideInsideFR2InsideCornerFR2CornerInsideInsideInsideCornerInsideInsideInsideCornerInsideInsideInsideInsideInsideInsideInsideInsideInsideCornerInsideInsideInsideInsideInsideInsideCornerInsideInsideCornerCornerInsideInsideCornerInsideCulDSacInsideInsideCornerCornerInsideInsideInsideInsideInsideInsideCulDSacInsideFR3InsideInsideInsideInsideCulDSacFR2InsideInsideInsideFR2InsideInsideInsideCornerInsideInsideInsideInsideInsideInsideInsideInsideInsideInsideInsideInsideFR2InsideInsideInsideInsideInsideCulDSacCornerInsideInsideInsideCornerInsideInsideCornerInsideFR2InsideInsideInsideCornerInsideCulDSacInsideInsideInsideInsideInsideInsideInsideInsideInsideInsideCornerInsideInsideInsideInsideInsideInsideInsideInsideInsideInsideInsideInsideInsideInsideCornerInsideInsideInsideInsideFR2InsideInsideInsideInsideInsideCornerInsideInsideInsideInsideInsideInsideInsideCornerInsideInsideInsideCornerCornerInsideInsideCornerInsideInsideInsideInsideInsideInsideInsideInsideInsideInsideInsideCornerInsideInsideInsideInsideInsideInsideInsideInsideInsideInsideInsideInsideInsideCornerCulDSacCulDSacCornerInsideCulDSacCornerInsideInsideCornerInsideFR2InsideInsideInsideInsideInsideInsideInsideInsideInsideInsideInsideInsideCornerCulDSacCulDSacInsideFR2InsideCornerInsideCornerInsideCornerCornerInsideInsideInsideInsideInsideInsideInsideInsideInsideInsideInsideCulDSacInsideInsideInsideInsideInsideInsideInsideCulDSacInsideInsideInsideInsideInsideCulDSacInsideInsideInsideInsideInsideCornerInsideCornerInsideInsideCornerInsideCornerCornerInsideInsideCulDSacInsideInsideInsideInsideInsideInsideInsideInsideInsideCornerInsideInsideCornerInsideInsideInsideInsideInsideInsideCulDSacInsideInsideInsideFR2InsideInsideCulDSacInsideInsideInsideInsideCulDSacCulDSacInsideInsideInsideCornerFR2InsideInsideInsideInsideInsideInsideInsideCornerInsideInsideInsideInsideCornerInsideInsideCornerCulDSacInsideCornerInsideInsideInsideInsideCornerInsideInsideInsideInsideInsideFR2InsideInsideInsideCornerInsideInsideInsideInsideInsideCulDSacCornerCulDSacInsideInsideCulDSacInsideCornerInsideInsideInsideInsideInsideCulDSacInsideCornerInsideCulDSacInsideInsideInsideInsideInsideInsideInsideInsideInsideInsideCornerInsideCulDSacInsideCulDSacInsideFR2InsideInsideInsideCornerInsideCornerInsideInsideInsideCornerCornerInsideCornerInsideInsideInsideInsideCornerCornerInsideInsideInsideCornerInsideInsideInsideInsideInsideInsideCulDSacInsideCulDSacCornerInsideInsideCulDSacCornerInsideInsideInsideCornerInsideInsideInsideInsideInsideInsideInsideInsideInsideInsideInsideInsideCulDSacInsideInsideCornerInsideInsideInsideCornerCulDSacInsideInsideInsideInsideInsideInsideCornerCornerInsideInsideInsideInsideInsideCornerInsideInsideInsideCornerInsideInsideCornerFR2InsideInsideInsideInsideInsideInsideInsideFR2InsideInsideCulDSacCornerInsideInsideInsideInsideInsideCornerInsideInsideCulDSacInsideInsideInsideInsideFR2InsideCornerCornerCornerCornerInsideInsideInsideInsideInsideInsideInsideInsideCornerCornerFR2InsideInsideInsideCornerCornerCornerInsideCornerInsideInsideCornerInsideInsideInsideInsideCornerInsideInsideFR2InsideInsideInsideInsideInsideCornerCornerInsideCornerInsideInsideInsideInsideCulDSacInsideInsideInsideInsideInsideInsideInsideInsideCulDSacFR2InsideInsideInsideInsideInsideCornerCornerInsideInsideInsideInsideInsideCornerCornerInsideInsideCulDSacInsideInsideInsideInsideCornerInsideInsideInsideInsideCulDSacInsideInsideInsideInsideInsideCornerCornerInsideCornerInsideInsideFR2InsideCornerInsideInsideInsideInsideCulDSacInsideInsideInsideInsideInsideInsideInsideInsideCornerInsideInsideInsideCornerInsideInsideInsideCornerInsideInsideCornerInsideInsideInsideInsideInsideCornerInsideInsideCornerInsideInsideInsideInsideInsideInsideInsideInsideInsideCornerInsideCornerCornerCulDSacInsideInsideInsideInsideCornerInsideInsideInsideInsideFR2InsideInsideInsideInsideCornerInsideInsideInsideInsideCornerInsideInsideInsideInsideInsideInsideInsideCornerInsideInsideInsideInsideCornerCulDSacInsideInsideInsideInsideInsideInsideInsideInsideInsideInsideInsideCornerInsideCornerInsideInsideFR2InsideInsideCulDSacInsideInsideFR2InsideCornerInsideCornerCulDSacInsideInsideInsideInsideInsideInsideCulDSacInsideFR2CornerCornerInsideCornerInsideInsideInsideCornerCornerInsideInsideInsideInsideInsideFR2CornerInsideInsideCornerInsideInsideInsideCornerCornerInsideInsideCulDSacInsideInsideInsideCulDSacInsideInsideInsideCulDSacInsideInsideInsideInsideInsideInsideInsideInsideInsideInsideInsideInsideCulDSacCornerCornerInsideInsideInsideFR2InsideInsideInsideInsideFR2InsideInsideInsideInsideInsideInsideCornerInsideInsideInsideInsideInsideCornerCornerInsideInsideInsideInsideCornerCornerInsideFR2CulDSacInsideInsideInsideInsideFR3InsideInsideInsideInsideInsideInsideCulDSacCornerCornerCornerCulDSacCulDSacInsideInsideInsideCulDSacInsideCornerInsideInsideInsideInsideInsideInsideCornerInsideCornerInsideInsideInsideInsideInsideCornerInsideCulDSacInsideInsideInsideInsideCornerInsideInsideInsideInsideInsideInsideInsideCornerInsideInsideInsideCornerCulDSacInsideInsideCornerInsideInsideInsideInsideInsideInsideCornerInsideInsideInsideInsideCornerInsideInsideInsideCornerCornerCornerInsideInsideInsideInsideCornerInsideCulDSacCornerInsideInsideInsideInsideInsideCulDSacInsideInsideCornerCulDSacInsideFR3InsideInsideFR2InsideInsideInsideInsideInsideInsideFR2CornerInsideCornerInsideInsideInsideInsideInsideInsideInsideInsideCornerCornerInsideInsideInsideInsideInsideCulDSacInsideInsideInsideInsideInsideInsideInsideInsideInsideInsideInsideCornerInsideInsideCulDSacCornerInsideCornerCornerInsideCulDSacInsideInsideInsideCornerInsideInsideInsideInsideInsideInsideCornerInsideInsideCulDSacInsideInsideInsideInsideCornerCornerInsideInsideInsideInsideInsideInsideFR2FR2InsideInsideInsideInsideInsideInsideFR2InsideCulDSacInsideInsideInsideFR2InsideInsideInsideInsideInsideInsideInsideInsideInsideInsideCornerInsideInsideInsideCornerInsideInsideInsideCornerFR2InsideInsideFR2FR2InsideCornerInsideInsideInsideCornerInsideCornerInsideInsideInsideCulDSacInsideInsideCornerInsideCornerCulDSacInsideInsideCulDSacInsideInsideInsideInsideCornerFR2InsideInsideInsideInsideInsideInsideInsideInsideCornerInsideInsideInsideInsideCornerInsideCornerInsideInsideInsideInsideInsideInsideCornerInsideCornerInsideCornerInsideCornerInsideInsideCornerInsideInsideInsideCornerInsideInsideInsideCornerCornerInsideInsideInsideCornerInsideInsideInsideInsideInsideInsideInsideInsideInsideInsideInsideInsideCornerInsideInsideInsideInsideInsideInsideCornerCulDSacInsideInsideInsideInsideInsideCulDSacInsideCulDSacInsideInsideCornerInsideFR2InsideInsideInsideInsideInsideCornerCulDSacInsideInsideInsideInsideCornerInsideInsideInsideInsideFR2InsideInsideInsideInsideCornerCornerInsideInsideInsideCornerInsideInsideInsideInsideInsideInsideInsideInsideInsideInsideInsideInsideInsideInsideInsideInsideInsideInsideCornerInsideInsideCulDSacCornerCornerInsideInsideInsideInsideInsideInsideInsideInsideInsideInsideInsideCornerCulDSacInsideCornerInsideInsideInsideFR2InsideInsideFR2FR2InsideInsideInsideInsideInsideInsideInsideInsideInsideInsideFR3CulDSacInsideInsideCornerCornerCornerInsideInsideInsideInsideInsideInsideCornerInsideInsideCornerInsideInsideInsideInsideInsideInsideInsideInsideInsideCornerInsideInsideInsideCulDSacInsideInsideCulDSacInsideInsideInsideInsideInsideInsideCornerInsideInsideInsideInsideInsideCornerInsideInsideInsideCornerInsideInsideCornerInsideInsideInsideInsideInsideCulDSacInsideInsideInsideCulDSacInsideInsideCornerInsideInsideInsideInsideInsideInsideInsideInsideInsideInsideFR2InsideInsideFR2CulDSacInsideInsideInsideInsideInsideInsideInsideInsideInsideInsideCornerCornerInsideInsideCornerCornerInsideInsideCornerInsideInsideInsideInsideInsideInsideCornerInsideCulDSacCornerCornerInsideInsideCornerInsideInsideInsideCornerInsideInsideCornerInsideInsideCornerCornerInsideInsideInsideCornerInsideInsideInsideCornerInsideInsideCornerCornerInsideInsideInsideInsideInsideCornerInsideCornerInsideInsideCornerCornerInsideInsideCornerInsideInsideInsideInsideCornerInsideInsideCornerInsideInsideInsideInsideInsideInsideInsideCornerCornerCornerInsideInsideInsideInsideInsideInsideInsideCulDSacInsideInsideInsideCornerCulDSacInsideInsideInsideInsideInsideInsideCornerFR2InsideInsideInsideInsideInsideInsideInsideInsideInsideInsideInsideInsideCornerInsideInsideCulDSacInsideInsideInsideInsideInsideCulDSacInsideCornerInsideInsideCornerFR3InsideInsideInsideCornerInsideInsideInsideInsideInsideInsideInsideCornerInsideInsideInsideInsideInsideCornerInsideInsideInsideCornerInsideInsideInsideInsideInsideInsideInsideInsideInsideInsideInsideInsideInsideCornerCornerCulDSacCornerCornerInsideInsideInsideInsideInsideInsideInsideInsideInsideInsideInsideCornerInsideCornerInsideCornerFR3InsideCornerCulDSacFR2InsideInsideInsideInsideCulDSacInsideCornerInsideInsideCornerInsideFR3FR2FR2InsideInsideInsideInsideFR2InsideInsideInsideInsideInsideInsideInsideInsideInsideInsideCornerInsideCornerInsideCornerInsideInsideInsideInsideInsideInsideInsideInsideInsideInsideInsideInsideInsideFR2InsideInsideFR2InsideCulDSacCulDSacInsideInsideInsideInsideCornerInsideInsideInsideInsideFR2InsideCornerInsideInsideCulDSacInsideCornerInsideInsideInsideInsideInsideCornerInsideInsideCornerInsideInsideInsideInsideInsideInsideInsideInsideCornerInsideInsideInsideCulDSacCulDSacInsideInsideInsideInsideCulDSacInsideInsideInsideInsideInsideInsideCornerCornerInsideInsideInsideInsideInsideInsideInsideInsideInsideInsideCornerInsideInsideInsideInsideInsideCornerCornerInsideCornerCornerInsideInsideInsideInsideInsideCornerInsideCornerInsideInsideInsideInsideInsideInsideCornerInsideInsideInsideCornerInsideInsideInsideInsideCornerCornerInsideInsideCornerCornerInsideCornerInsideInsideInsideInsideInsideCornerInsideInsideCornerInsideInsideInsideInsideInsideFR2FR3InsideInsideInsideInsideInsideInsideInsideInsideInsideInsideInsideCornerInsideInsideInsideInsideCornerInsideInsideCulDSacCornerCulDSacInsideInsideInsideCornerCornerInsideCulDSacInsideInsideInsideInsideCornerCornerInsideCulDSacCornerInsideInsideInsideInsideCornerCulDSacInsideInsideCornerInsideInsideInsideInsideCulDSacInsideCulDSacCulDSacCulDSacInsideInsideCornerInsideCornerInsideInsideInsideInsideCulDSacInsideInsideCornerInsideInsideInsideInsideInsideInsideInsideCornerInsideInsideInsideCornerCornerInsideInsideCornerInsideInsideCulDSacCulDSacInsideInsideInsideInsideInsideInsideInsideCornerCornerInsideInsideInsideInsideInsideInsideInsideInsideInsideCornerInsideCornerInsideCornerInsideInsideInsideInsideCornerFR2FR2CornerInsideInsideInsideInsideCornerInsideInsideInsideCornerInsideInsideInsideCulDSacInsideInsideInsideCornerCulDSacInsideInsideInsideInsideCulDSacFR2InsideInsideInsideInsideInsideInsideInsideFR2InsideInsideCulDSacInsideInsideInsideFR2InsideFR2InsideInsideInsideInsideFR2InsideCornerInsideInsideInsideInsideCulDSacCulDSacCornerInsideCornerInsideInsideInsideInsideInsideCornerInsideInsideInsideInsideInsideInsideInsideInsideInsideInsideInsideInsideCornerInsideInsideInsideInsideInsideInsideCornerInsideCornerInsideInsideInsideInsideInsideInsideInsideInsideInsideInsideInsideInsideInsideInsideFR2InsideInsideInsideInsideInsideInsideInsideCornerInsideCornerCornerInsideInsideInsideInsideInsideCornerInsideInsideCornerInsideCulDSacCulDSacFR2InsideInsideInsideInsideInsideInsideInsideInsideInsideFR2InsideInsideInsideInsideInsideCornerCornerInsideInsideCornerInsideInsideInsideInsideCulDSacCulDSacInsideInsideInsideInsideInsideCornerInsideInsideInsideInsideInsideCornerInsideInsideInsideInsideCornerInsideInsideInsideInsideInsideInsideInsideInsideInsideCornerInsideCornerInsideInsideInsideInsideInsideCornerInsideInsideInsideInsideInsideInsideInsideInsideInsideCornerInsideInsideInsideInsideCornerInsideInsideCornerInsideInsideInsideInsideInsideInsideInsideCornerInsideInsideInsideInsideInsideInsideInsideInsideInsideInsideInsideInsideInsideInsideCornerInsideInsideCornerInsideInsideInsideCornerInsideCornerInsideInsideInsideInsideInsideFR3InsideInsideCornerInsideInsideInsideInsideCornerInsideCornerCornerInsideInsideCornerInsideInsideCulDSacInsideInsideInsideInsideInsideInsideInsideInsideInsideInsideInsideInsideInsideInsideInsideCulDSacInsideInsideInsideCulDSacCulDSacInsideInsideInsideInsideInsideCulDSacCulDSacCornerInsideInsideInsideInsideInsideInsideInsideCornerCulDSacInsideFR2InsideInsideInsideInsideInsideInsideInsideInsideCulDSacInsideInsideInsideInsideCornerInsideCornerInsideInsideInsideInsideInsideInsideInsideInsideInsideInsideInsideInsideCulDSacCulDSacInsideInsideInsideCornerCulDSacCornerInsideInsideInsideCornerInsideCornerInsideInsideCulDSacInsideCulDSacCulDSacInsideCornerInsideInsideInsideInsideCulDSacInsideInsideInsideInsideInsideInsideFR3InsideInsideInsideInsideInsideCornerInsideCornerInsideInsideCornerInsideInsideInsideInsideCornerCulDSacCornerInsideInsideInsideCulDSacCulDSacInsideInsideInsideCulDSacCulDSacCulDSacCulDSacCornerInsideInsideFR3InsideInsideInsideInsideInsideInsideFR2InsideInsideInsideInsideInsideInsideInsideFR2InsideInsideCornerCornerCornerCornerInsideCornerInsideInsideInsideCornerCornerInsideInsideInsideInsideInsideInsideCornerInsideInsideInsideInsideInsideInsideInsideFR3InsideCornerInsideInsideInsideInsideInsideInsideCulDSacCornerInsideCornerInsideInsideCornerInsideInsideInsideInsideInsideInsideInsideInsideInsideInsideInsideCulDSacInsideInsideCulDSacInsideInsideCornerInsideInsideInsideInsideFR2CornerInsideCornerInsideCornerInsideInsideInsideInsideInsideInsideCulDSacInsideInsideInsideInsideInsideCornerInsideInsideInsideInsideInsideCornerCornerCornerCornerInsideInsideInsideCornerInsideInsideInsideInsideInsideInsideInsideInsideInsideInsideCornerInsideInsideInsideInsideInsideCornerInsideInsideCornerCornerInsideCornerInsideInsideCornerInsideCornerInsideInsideInsideInsideInsideInsideInsideInsideInsideInsideInsideInsideInsideCornerInsideInsideCornerInsideInsideInsideInsideInsideInsideFR3InsideCornerInsideCornerFR2InsideInsideInsideInsideCornerCornerInsideCulDSacInsideInsideInsideInsideInsideCornerInsideCornerInsideCornerInsideInsideInsideInsideInsideInsideInsideInsideInsideCornerInsideCornerInsideInsideInsideCornerInsideCulDSacInsideCornerInsideCulDSacInsideInsideCulDSacCornerInsideInsideFR2CornerCornerInsideInsideInsideInsideFR2InsideCulDSacInsideInsideInsideCornerInsideInsideInsideCornerFR2InsideInsideInsideInsideInsideCornerInsideCornerInsideInsideCornerInsideInsideInsideInsideInsideInsideInsideInsideInsideInsideInsideInsideInsideInsideInsideInsideInsideInsideCornerCornerInsideInsideCornerInsideInsideInsideInsideInsideCornerInsideInsideInsideInsideInsideInsideInsideInsideInsideInside to numeric",
      "\nDuring handling of the above exception, another exception occurred:\n",
      "\u001b[0;31mValueError\u001b[0m                                Traceback (most recent call last)",
      "\u001b[0;32m/miniconda3/lib/python3.7/site-packages/pandas/core/nanops.py\u001b[0m in \u001b[0;36m_ensure_numeric\u001b[0;34m(x)\u001b[0m\n\u001b[1;32m   1163\u001b[0m         \u001b[0;32mtry\u001b[0m\u001b[0;34m:\u001b[0m\u001b[0;34m\u001b[0m\u001b[0;34m\u001b[0m\u001b[0m\n\u001b[0;32m-> 1164\u001b[0;31m             \u001b[0mx\u001b[0m \u001b[0;34m=\u001b[0m \u001b[0mfloat\u001b[0m\u001b[0;34m(\u001b[0m\u001b[0mx\u001b[0m\u001b[0;34m)\u001b[0m\u001b[0;34m\u001b[0m\u001b[0;34m\u001b[0m\u001b[0m\n\u001b[0m\u001b[1;32m   1165\u001b[0m         \u001b[0;32mexcept\u001b[0m \u001b[0mException\u001b[0m\u001b[0;34m:\u001b[0m\u001b[0;34m\u001b[0m\u001b[0;34m\u001b[0m\u001b[0m\n",
      "\u001b[0;31mValueError\u001b[0m: could not convert string to float: 'InsideFR2InsideCornerFR2InsideInsideCornerInsideCornerInsideInsideInsideInsideCornerCornerCulDSacInsideInsideInsideCornerInsideInsideInsideInsideCornerCornerInsideCulDSacInsideInsideCulDSacCornerInsideInsideInsideCornerInsideInsideInsideInsideInsideCulDSacCulDSacInsideInsideCulDSacInsideInsideInsideCornerInsideCornerInsideInsideInsideInsideCornerCulDSacInsideInsideInsideInsideInsideInsideInsideInsideInsideCornerCornerInsideCornerCornerInsideCornerInsideInsideInsideInsideCornerCornerFR2InsideInsideInsideCornerInsideCornerCornerInsideInsideInsideInsideCornerInsideCornerInsideInsideCornerInsideInsideInsideInsideCornerCornerInsideInsideInsideCornerInsideInsideInsideInsideCornerInsideCornerInsideCornerCornerInsideCulDSacInsideCornerInsideCulDSacInsideInsideInsideInsideInsideCornerCornerCornerInsideInsideInsideCornerInsideInsideInsideFR2InsideCornerInsideInsideInsideCornerCulDSacInsideInsideCornerInsideCulDSacInsideCornerCornerInsideCornerCornerCornerCulDSacInsideCornerInsideCornerInsideInsideInsideInsideCornerInsideCornerInsideInsideInsideCornerCornerInsideCulDSacInsideInsideInsideInsideInsideInsideInsideCulDSacInsideInsideInsideInsideCulDSacInsideInsideInsideFR2InsideCornerCornerInsideCornerInsideCornerInsideInsideCornerCulDSacInsideInsideInsideInsideCornerInsideCulDSacFR2InsideInsideInsideCornerInsideInsideInsideInsideFR2InsideInsideInsideInsideFR2InsideInsideInsideInsideCornerInsideInsideFR2CulDSacInsideInsideInsideInsideCornerCornerInsideInsideInsideInsideInsideCulDSacInsideInsideInsideInsideInsideInsideInsideInsideInsideInsideCornerInsideCornerCornerInsideInsideFR2InsideInsideCornerInsideCulDSacCulDSacInsideCornerInsideInsideCornerInsideInsideInsideInsideInsideInsideInsideInsideInsideCornerInsideInsideInsideInsideInsideCornerInsideCulDSacInsideInsideInsideInsideCornerInsideCornerCornerInsideInsideInsideInsideInsideInsideInsideInsideInsideInsideInsideInsideCornerInsideInsideInsideCornerInsideInsideInsideCornerInsideCulDSacInsideInsideCornerInsideInsideInsideFR3InsideCornerCornerInsideCornerInsideInsideInsideInsideInsideInsideInsideCulDSacInsideInsideInsideInsideInsideInsideInsideInsideInsideInsideInsideInsideCulDSacCulDSacInsideCornerInsideFR2InsideInsideCornerInsideCornerInsideInsideInsideInsideInsideInsideCulDSacCornerCornerInsideInsideInsideInsideCornerCornerInsideFR2InsideCulDSacInsideInsideCulDSacInsideCornerInsideInsideInsideInsideCornerInsideInsideInsideInsideCornerInsideCornerInsideInsideCornerInsideInsideInsideInsideInsideCulDSacInsideInsideInsideInsideInsideInsideFR2InsideInsideInsideInsideInsideInsideInsideCornerInsideInsideInsideCornerInsideCulDSacInsideInsideInsideCornerInsideInsideInsideInsideInsideCornerCornerCornerInsideInsideInsideInsideCornerInsideInsideInsideInsideCulDSacInsideCornerInsideInsideInsideInsideInsideInsideInsideInsideInsideCornerCornerInsideInsideInsideInsideCornerInsideInsideInsideInsideFR2InsideCornerFR2CornerInsideInsideInsideCornerInsideInsideInsideCornerInsideInsideInsideInsideInsideInsideInsideInsideInsideCornerInsideInsideInsideInsideInsideInsideCornerInsideInsideCornerCornerInsideInsideCornerInsideCulDSacInsideInsideCornerCornerInsideInsideInsideInsideInsideInsideCulDSacInsideFR3InsideInsideInsideInsideCulDSacFR2InsideInsideInsideFR2InsideInsideInsideCornerInsideInsideInsideInsideInsideInsideInsideInsideInsideInsideInsideInsideFR2InsideInsideInsideInsideInsideCulDSacCornerInsideInsideInsideCornerInsideInsideCornerInsideFR2InsideInsideInsideCornerInsideCulDSacInsideInsideInsideInsideInsideInsideInsideInsideInsideInsideCornerInsideInsideInsideInsideInsideInsideInsideInsideInsideInsideInsideInsideInsideInsideCornerInsideInsideInsideInsideFR2InsideInsideInsideInsideInsideCornerInsideInsideInsideInsideInsideInsideInsideCornerInsideInsideInsideCornerCornerInsideInsideCornerInsideInsideInsideInsideInsideInsideInsideInsideInsideInsideInsideCornerInsideInsideInsideInsideInsideInsideInsideInsideInsideInsideInsideInsideInsideCornerCulDSacCulDSacCornerInsideCulDSacCornerInsideInsideCornerInsideFR2InsideInsideInsideInsideInsideInsideInsideInsideInsideInsideInsideInsideCornerCulDSacCulDSacInsideFR2InsideCornerInsideCornerInsideCornerCornerInsideInsideInsideInsideInsideInsideInsideInsideInsideInsideInsideCulDSacInsideInsideInsideInsideInsideInsideInsideCulDSacInsideInsideInsideInsideInsideCulDSacInsideInsideInsideInsideInsideCornerInsideCornerInsideInsideCornerInsideCornerCornerInsideInsideCulDSacInsideInsideInsideInsideInsideInsideInsideInsideInsideCornerInsideInsideCornerInsideInsideInsideInsideInsideInsideCulDSacInsideInsideInsideFR2InsideInsideCulDSacInsideInsideInsideInsideCulDSacCulDSacInsideInsideInsideCornerFR2InsideInsideInsideInsideInsideInsideInsideCornerInsideInsideInsideInsideCornerInsideInsideCornerCulDSacInsideCornerInsideInsideInsideInsideCornerInsideInsideInsideInsideInsideFR2InsideInsideInsideCornerInsideInsideInsideInsideInsideCulDSacCornerCulDSacInsideInsideCulDSacInsideCornerInsideInsideInsideInsideInsideCulDSacInsideCornerInsideCulDSacInsideInsideInsideInsideInsideInsideInsideInsideInsideInsideCornerInsideCulDSacInsideCulDSacInsideFR2InsideInsideInsideCornerInsideCornerInsideInsideInsideCornerCornerInsideCornerInsideInsideInsideInsideCornerCornerInsideInsideInsideCornerInsideInsideInsideInsideInsideInsideCulDSacInsideCulDSacCornerInsideInsideCulDSacCornerInsideInsideInsideCornerInsideInsideInsideInsideInsideInsideInsideInsideInsideInsideInsideInsideCulDSacInsideInsideCornerInsideInsideInsideCornerCulDSacInsideInsideInsideInsideInsideInsideCornerCornerInsideInsideInsideInsideInsideCornerInsideInsideInsideCornerInsideInsideCornerFR2InsideInsideInsideInsideInsideInsideInsideFR2InsideInsideCulDSacCornerInsideInsideInsideInsideInsideCornerInsideInsideCulDSacInsideInsideInsideInsideFR2InsideCornerCornerCornerCornerInsideInsideInsideInsideInsideInsideInsideInsideCornerCornerFR2InsideInsideInsideCornerCornerCornerInsideCornerInsideInsideCornerInsideInsideInsideInsideCornerInsideInsideFR2InsideInsideInsideInsideInsideCornerCornerInsideCornerInsideInsideInsideInsideCulDSacInsideInsideInsideInsideInsideInsideInsideInsideCulDSacFR2InsideInsideInsideInsideInsideCornerCornerInsideInsideInsideInsideInsideCornerCornerInsideInsideCulDSacInsideInsideInsideInsideCornerInsideInsideInsideInsideCulDSacInsideInsideInsideInsideInsideCornerCornerInsideCornerInsideInsideFR2InsideCornerInsideInsideInsideInsideCulDSacInsideInsideInsideInsideInsideInsideInsideInsideCornerInsideInsideInsideCornerInsideInsideInsideCornerInsideInsideCornerInsideInsideInsideInsideInsideCornerInsideInsideCornerInsideInsideInsideInsideInsideInsideInsideInsideInsideCornerInsideCornerCornerCulDSacInsideInsideInsideInsideCornerInsideInsideInsideInsideFR2InsideInsideInsideInsideCornerInsideInsideInsideInsideCornerInsideInsideInsideInsideInsideInsideInsideCornerInsideInsideInsideInsideCornerCulDSacInsideInsideInsideInsideInsideInsideInsideInsideInsideInsideInsideCornerInsideCornerInsideInsideFR2InsideInsideCulDSacInsideInsideFR2InsideCornerInsideCornerCulDSacInsideInsideInsideInsideInsideInsideCulDSacInsideFR2CornerCornerInsideCornerInsideInsideInsideCornerCornerInsideInsideInsideInsideInsideFR2CornerInsideInsideCornerInsideInsideInsideCornerCornerInsideInsideCulDSacInsideInsideInsideCulDSacInsideInsideInsideCulDSacInsideInsideInsideInsideInsideInsideInsideInsideInsideInsideInsideInsideCulDSacCornerCornerInsideInsideInsideFR2InsideInsideInsideInsideFR2InsideInsideInsideInsideInsideInsideCornerInsideInsideInsideInsideInsideCornerCornerInsideInsideInsideInsideCornerCornerInsideFR2CulDSacInsideInsideInsideInsideFR3InsideInsideInsideInsideInsideInsideCulDSacCornerCornerCornerCulDSacCulDSacInsideInsideInsideCulDSacInsideCornerInsideInsideInsideInsideInsideInsideCornerInsideCornerInsideInsideInsideInsideInsideCornerInsideCulDSacInsideInsideInsideInsideCornerInsideInsideInsideInsideInsideInsideInsideCornerInsideInsideInsideCornerCulDSacInsideInsideCornerInsideInsideInsideInsideInsideInsideCornerInsideInsideInsideInsideCornerInsideInsideInsideCornerCornerCornerInsideInsideInsideInsideCornerInsideCulDSacCornerInsideInsideInsideInsideInsideCulDSacInsideInsideCornerCulDSacInsideFR3InsideInsideFR2InsideInsideInsideInsideInsideInsideFR2CornerInsideCornerInsideInsideInsideInsideInsideInsideInsideInsideCornerCornerInsideInsideInsideInsideInsideCulDSacInsideInsideInsideInsideInsideInsideInsideInsideInsideInsideInsideCornerInsideInsideCulDSacCornerInsideCornerCornerInsideCulDSacInsideInsideInsideCornerInsideInsideInsideInsideInsideInsideCornerInsideInsideCulDSacInsideInsideInsideInsideCornerCornerInsideInsideInsideInsideInsideInsideFR2FR2InsideInsideInsideInsideInsideInsideFR2InsideCulDSacInsideInsideInsideFR2InsideInsideInsideInsideInsideInsideInsideInsideInsideInsideCornerInsideInsideInsideCornerInsideInsideInsideCornerFR2InsideInsideFR2FR2InsideCornerInsideInsideInsideCornerInsideCornerInsideInsideInsideCulDSacInsideInsideCornerInsideCornerCulDSacInsideInsideCulDSacInsideInsideInsideInsideCornerFR2InsideInsideInsideInsideInsideInsideInsideInsideCornerInsideInsideInsideInsideCornerInsideCornerInsideInsideInsideInsideInsideInsideCornerInsideCornerInsideCornerInsideCornerInsideInsideCornerInsideInsideInsideCornerInsideInsideInsideCornerCornerInsideInsideInsideCornerInsideInsideInsideInsideInsideInsideInsideInsideInsideInsideInsideInsideCornerInsideInsideInsideInsideInsideInsideCornerCulDSacInsideInsideInsideInsideInsideCulDSacInsideCulDSacInsideInsideCornerInsideFR2InsideInsideInsideInsideInsideCornerCulDSacInsideInsideInsideInsideCornerInsideInsideInsideInsideFR2InsideInsideInsideInsideCornerCornerInsideInsideInsideCornerInsideInsideInsideInsideInsideInsideInsideInsideInsideInsideInsideInsideInsideInsideInsideInsideInsideInsideCornerInsideInsideCulDSacCornerCornerInsideInsideInsideInsideInsideInsideInsideInsideInsideInsideInsideCornerCulDSacInsideCornerInsideInsideInsideFR2InsideInsideFR2FR2InsideInsideInsideInsideInsideInsideInsideInsideInsideInsideFR3CulDSacInsideInsideCornerCornerCornerInsideInsideInsideInsideInsideInsideCornerInsideInsideCornerInsideInsideInsideInsideInsideInsideInsideInsideInsideCornerInsideInsideInsideCulDSacInsideInsideCulDSacInsideInsideInsideInsideInsideInsideCornerInsideInsideInsideInsideInsideCornerInsideInsideInsideCornerInsideInsideCornerInsideInsideInsideInsideInsideCulDSacInsideInsideInsideCulDSacInsideInsideCornerInsideInsideInsideInsideInsideInsideInsideInsideInsideInsideFR2InsideInsideFR2CulDSacInsideInsideInsideInsideInsideInsideInsideInsideInsideInsideCornerCornerInsideInsideCornerCornerInsideInsideCornerInsideInsideInsideInsideInsideInsideCornerInsideCulDSacCornerCornerInsideInsideCornerInsideInsideInsideCornerInsideInsideCornerInsideInsideCornerCornerInsideInsideInsideCornerInsideInsideInsideCornerInsideInsideCornerCornerInsideInsideInsideInsideInsideCornerInsideCornerInsideInsideCornerCornerInsideInsideCornerInsideInsideInsideInsideCornerInsideInsideCornerInsideInsideInsideInsideInsideInsideInsideCornerCornerCornerInsideInsideInsideInsideInsideInsideInsideCulDSacInsideInsideInsideCornerCulDSacInsideInsideInsideInsideInsideInsideCornerFR2InsideInsideInsideInsideInsideInsideInsideInsideInsideInsideInsideInsideCornerInsideInsideCulDSacInsideInsideInsideInsideInsideCulDSacInsideCornerInsideInsideCornerFR3InsideInsideInsideCornerInsideInsideInsideInsideInsideInsideInsideCornerInsideInsideInsideInsideInsideCornerInsideInsideInsideCornerInsideInsideInsideInsideInsideInsideInsideInsideInsideInsideInsideInsideInsideCornerCornerCulDSacCornerCornerInsideInsideInsideInsideInsideInsideInsideInsideInsideInsideInsideCornerInsideCornerInsideCornerFR3InsideCornerCulDSacFR2InsideInsideInsideInsideCulDSacInsideCornerInsideInsideCornerInsideFR3FR2FR2InsideInsideInsideInsideFR2InsideInsideInsideInsideInsideInsideInsideInsideInsideInsideCornerInsideCornerInsideCornerInsideInsideInsideInsideInsideInsideInsideInsideInsideInsideInsideInsideInsideFR2InsideInsideFR2InsideCulDSacCulDSacInsideInsideInsideInsideCornerInsideInsideInsideInsideFR2InsideCornerInsideInsideCulDSacInsideCornerInsideInsideInsideInsideInsideCornerInsideInsideCornerInsideInsideInsideInsideInsideInsideInsideInsideCornerInsideInsideInsideCulDSacCulDSacInsideInsideInsideInsideCulDSacInsideInsideInsideInsideInsideInsideCornerCornerInsideInsideInsideInsideInsideInsideInsideInsideInsideInsideCornerInsideInsideInsideInsideInsideCornerCornerInsideCornerCornerInsideInsideInsideInsideInsideCornerInsideCornerInsideInsideInsideInsideInsideInsideCornerInsideInsideInsideCornerInsideInsideInsideInsideCornerCornerInsideInsideCornerCornerInsideCornerInsideInsideInsideInsideInsideCornerInsideInsideCornerInsideInsideInsideInsideInsideFR2FR3InsideInsideInsideInsideInsideInsideInsideInsideInsideInsideInsideCornerInsideInsideInsideInsideCornerInsideInsideCulDSacCornerCulDSacInsideInsideInsideCornerCornerInsideCulDSacInsideInsideInsideInsideCornerCornerInsideCulDSacCornerInsideInsideInsideInsideCornerCulDSacInsideInsideCornerInsideInsideInsideInsideCulDSacInsideCulDSacCulDSacCulDSacInsideInsideCornerInsideCornerInsideInsideInsideInsideCulDSacInsideInsideCornerInsideInsideInsideInsideInsideInsideInsideCornerInsideInsideInsideCornerCornerInsideInsideCornerInsideInsideCulDSacCulDSacInsideInsideInsideInsideInsideInsideInsideCornerCornerInsideInsideInsideInsideInsideInsideInsideInsideInsideCornerInsideCornerInsideCornerInsideInsideInsideInsideCornerFR2FR2CornerInsideInsideInsideInsideCornerInsideInsideInsideCornerInsideInsideInsideCulDSacInsideInsideInsideCornerCulDSacInsideInsideInsideInsideCulDSacFR2InsideInsideInsideInsideInsideInsideInsideFR2InsideInsideCulDSacInsideInsideInsideFR2InsideFR2InsideInsideInsideInsideFR2InsideCornerInsideInsideInsideInsideCulDSacCulDSacCornerInsideCornerInsideInsideInsideInsideInsideCornerInsideInsideInsideInsideInsideInsideInsideInsideInsideInsideInsideInsideCornerInsideInsideInsideInsideInsideInsideCornerInsideCornerInsideInsideInsideInsideInsideInsideInsideInsideInsideInsideInsideInsideInsideInsideFR2InsideInsideInsideInsideInsideInsideInsideCornerInsideCornerCornerInsideInsideInsideInsideInsideCornerInsideInsideCornerInsideCulDSacCulDSacFR2InsideInsideInsideInsideInsideInsideInsideInsideInsideFR2InsideInsideInsideInsideInsideCornerCornerInsideInsideCornerInsideInsideInsideInsideCulDSacCulDSacInsideInsideInsideInsideInsideCornerInsideInsideInsideInsideInsideCornerInsideInsideInsideInsideCornerInsideInsideInsideInsideInsideInsideInsideInsideInsideCornerInsideCornerInsideInsideInsideInsideInsideCornerInsideInsideInsideInsideInsideInsideInsideInsideInsideCornerInsideInsideInsideInsideCornerInsideInsideCornerInsideInsideInsideInsideInsideInsideInsideCornerInsideInsideInsideInsideInsideInsideInsideInsideInsideInsideInsideInsideInsideInsideCornerInsideInsideCornerInsideInsideInsideCornerInsideCornerInsideInsideInsideInsideInsideFR3InsideInsideCornerInsideInsideInsideInsideCornerInsideCornerCornerInsideInsideCornerInsideInsideCulDSacInsideInsideInsideInsideInsideInsideInsideInsideInsideInsideInsideInsideInsideInsideInsideCulDSacInsideInsideInsideCulDSacCulDSacInsideInsideInsideInsideInsideCulDSacCulDSacCornerInsideInsideInsideInsideInsideInsideInsideCornerCulDSacInsideFR2InsideInsideInsideInsideInsideInsideInsideInsideCulDSacInsideInsideInsideInsideCornerInsideCornerInsideInsideInsideInsideInsideInsideInsideInsideInsideInsideInsideInsideCulDSacCulDSacInsideInsideInsideCornerCulDSacCornerInsideInsideInsideCornerInsideCornerInsideInsideCulDSacInsideCulDSacCulDSacInsideCornerInsideInsideInsideInsideCulDSacInsideInsideInsideInsideInsideInsideFR3InsideInsideInsideInsideInsideCornerInsideCornerInsideInsideCornerInsideInsideInsideInsideCornerCulDSacCornerInsideInsideInsideCulDSacCulDSacInsideInsideInsideCulDSacCulDSacCulDSacCulDSacCornerInsideInsideFR3InsideInsideInsideInsideInsideInsideFR2InsideInsideInsideInsideInsideInsideInsideFR2InsideInsideCornerCornerCornerCornerInsideCornerInsideInsideInsideCornerCornerInsideInsideInsideInsideInsideInsideCornerInsideInsideInsideInsideInsideInsideInsideFR3InsideCornerInsideInsideInsideInsideInsideInsideCulDSacCornerInsideCornerInsideInsideCornerInsideInsideInsideInsideInsideInsideInsideInsideInsideInsideInsideCulDSacInsideInsideCulDSacInsideInsideCornerInsideInsideInsideInsideFR2CornerInsideCornerInsideCornerInsideInsideInsideInsideInsideInsideCulDSacInsideInsideInsideInsideInsideCornerInsideInsideInsideInsideInsideCornerCornerCornerCornerInsideInsideInsideCornerInsideInsideInsideInsideInsideInsideInsideInsideInsideInsideCornerInsideInsideInsideInsideInsideCornerInsideInsideCornerCornerInsideCornerInsideInsideCornerInsideCornerInsideInsideInsideInsideInsideInsideInsideInsideInsideInsideInsideInsideInsideCornerInsideInsideCornerInsideInsideInsideInsideInsideInsideFR3InsideCornerInsideCornerFR2InsideInsideInsideInsideCornerCornerInsideCulDSacInsideInsideInsideInsideInsideCornerInsideCornerInsideCornerInsideInsideInsideInsideInsideInsideInsideInsideInsideCornerInsideCornerInsideInsideInsideCornerInsideCulDSacInsideCornerInsideCulDSacInsideInsideCulDSacCornerInsideInsideFR2CornerCornerInsideInsideInsideInsideFR2InsideCulDSacInsideInsideInsideCornerInsideInsideInsideCornerFR2InsideInsideInsideInsideInsideCornerInsideCornerInsideInsideCornerInsideInsideInsideInsideInsideInsideInsideInsideInsideInsideInsideInsideInsideInsideInsideInsideInsideInsideCornerCornerInsideInsideCornerInsideInsideInsideInsideInsideCornerInsideInsideInsideInsideInsideInsideInsideInsideInsideInside'",
      "\nDuring handling of the above exception, another exception occurred:\n",
      "\u001b[0;31mValueError\u001b[0m                                Traceback (most recent call last)",
      "\u001b[0;32m/miniconda3/lib/python3.7/site-packages/pandas/core/nanops.py\u001b[0m in \u001b[0;36m_ensure_numeric\u001b[0;34m(x)\u001b[0m\n\u001b[1;32m   1166\u001b[0m             \u001b[0;32mtry\u001b[0m\u001b[0;34m:\u001b[0m\u001b[0;34m\u001b[0m\u001b[0;34m\u001b[0m\u001b[0m\n\u001b[0;32m-> 1167\u001b[0;31m                 \u001b[0mx\u001b[0m \u001b[0;34m=\u001b[0m \u001b[0mcomplex\u001b[0m\u001b[0;34m(\u001b[0m\u001b[0mx\u001b[0m\u001b[0;34m)\u001b[0m\u001b[0;34m\u001b[0m\u001b[0;34m\u001b[0m\u001b[0m\n\u001b[0m\u001b[1;32m   1168\u001b[0m             \u001b[0;32mexcept\u001b[0m \u001b[0mException\u001b[0m\u001b[0;34m:\u001b[0m\u001b[0;34m\u001b[0m\u001b[0;34m\u001b[0m\u001b[0m\n",
      "\u001b[0;31mValueError\u001b[0m: complex() arg is a malformed string",
      "\nDuring handling of the above exception, another exception occurred:\n",
      "\u001b[0;31mTypeError\u001b[0m                                 Traceback (most recent call last)",
      "\u001b[0;32m<ipython-input-24-74b68928cc18>\u001b[0m in \u001b[0;36m<module>\u001b[0;34m\u001b[0m\n\u001b[0;32m----> 1\u001b[0;31m \u001b[0mdf\u001b[0m\u001b[0;34m[\u001b[0m\u001b[0;34m'LotConfig'\u001b[0m\u001b[0;34m]\u001b[0m\u001b[0;34m.\u001b[0m\u001b[0mmean\u001b[0m\u001b[0;34m(\u001b[0m\u001b[0;34m)\u001b[0m\u001b[0;34m\u001b[0m\u001b[0;34m\u001b[0m\u001b[0m\n\u001b[0m",
      "\u001b[0;32m/miniconda3/lib/python3.7/site-packages/pandas/core/generic.py\u001b[0m in \u001b[0;36mstat_func\u001b[0;34m(self, axis, skipna, level, numeric_only, **kwargs)\u001b[0m\n\u001b[1;32m  10954\u001b[0m                                       skipna=skipna)\n\u001b[1;32m  10955\u001b[0m         return self._reduce(f, name, axis=axis, skipna=skipna,\n\u001b[0;32m> 10956\u001b[0;31m                             numeric_only=numeric_only)\n\u001b[0m\u001b[1;32m  10957\u001b[0m \u001b[0;34m\u001b[0m\u001b[0m\n\u001b[1;32m  10958\u001b[0m     \u001b[0;32mreturn\u001b[0m \u001b[0mset_function_name\u001b[0m\u001b[0;34m(\u001b[0m\u001b[0mstat_func\u001b[0m\u001b[0;34m,\u001b[0m \u001b[0mname\u001b[0m\u001b[0;34m,\u001b[0m \u001b[0mcls\u001b[0m\u001b[0;34m)\u001b[0m\u001b[0;34m\u001b[0m\u001b[0;34m\u001b[0m\u001b[0m\n",
      "\u001b[0;32m/miniconda3/lib/python3.7/site-packages/pandas/core/series.py\u001b[0m in \u001b[0;36m_reduce\u001b[0;34m(self, op, name, axis, skipna, numeric_only, filter_type, **kwds)\u001b[0m\n\u001b[1;32m   3628\u001b[0m                                           'numeric_only.'.format(name))\n\u001b[1;32m   3629\u001b[0m             \u001b[0;32mwith\u001b[0m \u001b[0mnp\u001b[0m\u001b[0;34m.\u001b[0m\u001b[0merrstate\u001b[0m\u001b[0;34m(\u001b[0m\u001b[0mall\u001b[0m\u001b[0;34m=\u001b[0m\u001b[0;34m'ignore'\u001b[0m\u001b[0;34m)\u001b[0m\u001b[0;34m:\u001b[0m\u001b[0;34m\u001b[0m\u001b[0;34m\u001b[0m\u001b[0m\n\u001b[0;32m-> 3630\u001b[0;31m                 \u001b[0;32mreturn\u001b[0m \u001b[0mop\u001b[0m\u001b[0;34m(\u001b[0m\u001b[0mdelegate\u001b[0m\u001b[0;34m,\u001b[0m \u001b[0mskipna\u001b[0m\u001b[0;34m=\u001b[0m\u001b[0mskipna\u001b[0m\u001b[0;34m,\u001b[0m \u001b[0;34m**\u001b[0m\u001b[0mkwds\u001b[0m\u001b[0;34m)\u001b[0m\u001b[0;34m\u001b[0m\u001b[0;34m\u001b[0m\u001b[0m\n\u001b[0m\u001b[1;32m   3631\u001b[0m \u001b[0;34m\u001b[0m\u001b[0m\n\u001b[1;32m   3632\u001b[0m         \u001b[0;31m# TODO(EA) dispatch to Index\u001b[0m\u001b[0;34m\u001b[0m\u001b[0;34m\u001b[0m\u001b[0;34m\u001b[0m\u001b[0m\n",
      "\u001b[0;32m/miniconda3/lib/python3.7/site-packages/pandas/core/nanops.py\u001b[0m in \u001b[0;36m_f\u001b[0;34m(*args, **kwargs)\u001b[0m\n\u001b[1;32m     74\u001b[0m             \u001b[0;32mtry\u001b[0m\u001b[0;34m:\u001b[0m\u001b[0;34m\u001b[0m\u001b[0;34m\u001b[0m\u001b[0m\n\u001b[1;32m     75\u001b[0m                 \u001b[0;32mwith\u001b[0m \u001b[0mnp\u001b[0m\u001b[0;34m.\u001b[0m\u001b[0merrstate\u001b[0m\u001b[0;34m(\u001b[0m\u001b[0minvalid\u001b[0m\u001b[0;34m=\u001b[0m\u001b[0;34m'ignore'\u001b[0m\u001b[0;34m)\u001b[0m\u001b[0;34m:\u001b[0m\u001b[0;34m\u001b[0m\u001b[0;34m\u001b[0m\u001b[0m\n\u001b[0;32m---> 76\u001b[0;31m                     \u001b[0;32mreturn\u001b[0m \u001b[0mf\u001b[0m\u001b[0;34m(\u001b[0m\u001b[0;34m*\u001b[0m\u001b[0margs\u001b[0m\u001b[0;34m,\u001b[0m \u001b[0;34m**\u001b[0m\u001b[0mkwargs\u001b[0m\u001b[0;34m)\u001b[0m\u001b[0;34m\u001b[0m\u001b[0;34m\u001b[0m\u001b[0m\n\u001b[0m\u001b[1;32m     77\u001b[0m             \u001b[0;32mexcept\u001b[0m \u001b[0mValueError\u001b[0m \u001b[0;32mas\u001b[0m \u001b[0me\u001b[0m\u001b[0;34m:\u001b[0m\u001b[0;34m\u001b[0m\u001b[0;34m\u001b[0m\u001b[0m\n\u001b[1;32m     78\u001b[0m                 \u001b[0;31m# we want to transform an object array\u001b[0m\u001b[0;34m\u001b[0m\u001b[0;34m\u001b[0m\u001b[0;34m\u001b[0m\u001b[0m\n",
      "\u001b[0;32m/miniconda3/lib/python3.7/site-packages/pandas/core/nanops.py\u001b[0m in \u001b[0;36mf\u001b[0;34m(values, axis, skipna, **kwds)\u001b[0m\n\u001b[1;32m    128\u001b[0m             \u001b[0;32mexcept\u001b[0m \u001b[0mException\u001b[0m\u001b[0;34m:\u001b[0m\u001b[0;34m\u001b[0m\u001b[0;34m\u001b[0m\u001b[0m\n\u001b[1;32m    129\u001b[0m                 \u001b[0;32mtry\u001b[0m\u001b[0;34m:\u001b[0m\u001b[0;34m\u001b[0m\u001b[0;34m\u001b[0m\u001b[0m\n\u001b[0;32m--> 130\u001b[0;31m                     \u001b[0mresult\u001b[0m \u001b[0;34m=\u001b[0m \u001b[0malt\u001b[0m\u001b[0;34m(\u001b[0m\u001b[0mvalues\u001b[0m\u001b[0;34m,\u001b[0m \u001b[0maxis\u001b[0m\u001b[0;34m=\u001b[0m\u001b[0maxis\u001b[0m\u001b[0;34m,\u001b[0m \u001b[0mskipna\u001b[0m\u001b[0;34m=\u001b[0m\u001b[0mskipna\u001b[0m\u001b[0;34m,\u001b[0m \u001b[0;34m**\u001b[0m\u001b[0mkwds\u001b[0m\u001b[0;34m)\u001b[0m\u001b[0;34m\u001b[0m\u001b[0;34m\u001b[0m\u001b[0m\n\u001b[0m\u001b[1;32m    131\u001b[0m                 \u001b[0;32mexcept\u001b[0m \u001b[0mValueError\u001b[0m \u001b[0;32mas\u001b[0m \u001b[0me\u001b[0m\u001b[0;34m:\u001b[0m\u001b[0;34m\u001b[0m\u001b[0;34m\u001b[0m\u001b[0m\n\u001b[1;32m    132\u001b[0m                     \u001b[0;31m# we want to transform an object array\u001b[0m\u001b[0;34m\u001b[0m\u001b[0;34m\u001b[0m\u001b[0;34m\u001b[0m\u001b[0m\n",
      "\u001b[0;32m/miniconda3/lib/python3.7/site-packages/pandas/core/nanops.py\u001b[0m in \u001b[0;36mnanmean\u001b[0;34m(values, axis, skipna, mask)\u001b[0m\n\u001b[1;32m    477\u001b[0m         \u001b[0mdtype_count\u001b[0m \u001b[0;34m=\u001b[0m \u001b[0mdtype\u001b[0m\u001b[0;34m\u001b[0m\u001b[0;34m\u001b[0m\u001b[0m\n\u001b[1;32m    478\u001b[0m     \u001b[0mcount\u001b[0m \u001b[0;34m=\u001b[0m \u001b[0m_get_counts\u001b[0m\u001b[0;34m(\u001b[0m\u001b[0mmask\u001b[0m\u001b[0;34m,\u001b[0m \u001b[0maxis\u001b[0m\u001b[0;34m,\u001b[0m \u001b[0mdtype\u001b[0m\u001b[0;34m=\u001b[0m\u001b[0mdtype_count\u001b[0m\u001b[0;34m)\u001b[0m\u001b[0;34m\u001b[0m\u001b[0;34m\u001b[0m\u001b[0m\n\u001b[0;32m--> 479\u001b[0;31m     \u001b[0mthe_sum\u001b[0m \u001b[0;34m=\u001b[0m \u001b[0m_ensure_numeric\u001b[0m\u001b[0;34m(\u001b[0m\u001b[0mvalues\u001b[0m\u001b[0;34m.\u001b[0m\u001b[0msum\u001b[0m\u001b[0;34m(\u001b[0m\u001b[0maxis\u001b[0m\u001b[0;34m,\u001b[0m \u001b[0mdtype\u001b[0m\u001b[0;34m=\u001b[0m\u001b[0mdtype_sum\u001b[0m\u001b[0;34m)\u001b[0m\u001b[0;34m)\u001b[0m\u001b[0;34m\u001b[0m\u001b[0;34m\u001b[0m\u001b[0m\n\u001b[0m\u001b[1;32m    480\u001b[0m \u001b[0;34m\u001b[0m\u001b[0m\n\u001b[1;32m    481\u001b[0m     \u001b[0;32mif\u001b[0m \u001b[0maxis\u001b[0m \u001b[0;32mis\u001b[0m \u001b[0;32mnot\u001b[0m \u001b[0;32mNone\u001b[0m \u001b[0;32mand\u001b[0m \u001b[0mgetattr\u001b[0m\u001b[0;34m(\u001b[0m\u001b[0mthe_sum\u001b[0m\u001b[0;34m,\u001b[0m \u001b[0;34m'ndim'\u001b[0m\u001b[0;34m,\u001b[0m \u001b[0;32mFalse\u001b[0m\u001b[0;34m)\u001b[0m\u001b[0;34m:\u001b[0m\u001b[0;34m\u001b[0m\u001b[0;34m\u001b[0m\u001b[0m\n",
      "\u001b[0;32m/miniconda3/lib/python3.7/site-packages/pandas/core/nanops.py\u001b[0m in \u001b[0;36m_ensure_numeric\u001b[0;34m(x)\u001b[0m\n\u001b[1;32m   1168\u001b[0m             \u001b[0;32mexcept\u001b[0m \u001b[0mException\u001b[0m\u001b[0;34m:\u001b[0m\u001b[0;34m\u001b[0m\u001b[0;34m\u001b[0m\u001b[0m\n\u001b[1;32m   1169\u001b[0m                 raise TypeError('Could not convert {value!s} to numeric'\n\u001b[0;32m-> 1170\u001b[0;31m                                 .format(value=x))\n\u001b[0m\u001b[1;32m   1171\u001b[0m     \u001b[0;32mreturn\u001b[0m \u001b[0mx\u001b[0m\u001b[0;34m\u001b[0m\u001b[0;34m\u001b[0m\u001b[0m\n\u001b[1;32m   1172\u001b[0m \u001b[0;34m\u001b[0m\u001b[0m\n",
      "\u001b[0;31mTypeError\u001b[0m: Could not convert InsideFR2InsideCornerFR2InsideInsideCornerInsideCornerInsideInsideInsideInsideCornerCornerCulDSacInsideInsideInsideCornerInsideInsideInsideInsideCornerCornerInsideCulDSacInsideInsideCulDSacCornerInsideInsideInsideCornerInsideInsideInsideInsideInsideCulDSacCulDSacInsideInsideCulDSacInsideInsideInsideCornerInsideCornerInsideInsideInsideInsideCornerCulDSacInsideInsideInsideInsideInsideInsideInsideInsideInsideCornerCornerInsideCornerCornerInsideCornerInsideInsideInsideInsideCornerCornerFR2InsideInsideInsideCornerInsideCornerCornerInsideInsideInsideInsideCornerInsideCornerInsideInsideCornerInsideInsideInsideInsideCornerCornerInsideInsideInsideCornerInsideInsideInsideInsideCornerInsideCornerInsideCornerCornerInsideCulDSacInsideCornerInsideCulDSacInsideInsideInsideInsideInsideCornerCornerCornerInsideInsideInsideCornerInsideInsideInsideFR2InsideCornerInsideInsideInsideCornerCulDSacInsideInsideCornerInsideCulDSacInsideCornerCornerInsideCornerCornerCornerCulDSacInsideCornerInsideCornerInsideInsideInsideInsideCornerInsideCornerInsideInsideInsideCornerCornerInsideCulDSacInsideInsideInsideInsideInsideInsideInsideCulDSacInsideInsideInsideInsideCulDSacInsideInsideInsideFR2InsideCornerCornerInsideCornerInsideCornerInsideInsideCornerCulDSacInsideInsideInsideInsideCornerInsideCulDSacFR2InsideInsideInsideCornerInsideInsideInsideInsideFR2InsideInsideInsideInsideFR2InsideInsideInsideInsideCornerInsideInsideFR2CulDSacInsideInsideInsideInsideCornerCornerInsideInsideInsideInsideInsideCulDSacInsideInsideInsideInsideInsideInsideInsideInsideInsideInsideCornerInsideCornerCornerInsideInsideFR2InsideInsideCornerInsideCulDSacCulDSacInsideCornerInsideInsideCornerInsideInsideInsideInsideInsideInsideInsideInsideInsideCornerInsideInsideInsideInsideInsideCornerInsideCulDSacInsideInsideInsideInsideCornerInsideCornerCornerInsideInsideInsideInsideInsideInsideInsideInsideInsideInsideInsideInsideCornerInsideInsideInsideCornerInsideInsideInsideCornerInsideCulDSacInsideInsideCornerInsideInsideInsideFR3InsideCornerCornerInsideCornerInsideInsideInsideInsideInsideInsideInsideCulDSacInsideInsideInsideInsideInsideInsideInsideInsideInsideInsideInsideInsideCulDSacCulDSacInsideCornerInsideFR2InsideInsideCornerInsideCornerInsideInsideInsideInsideInsideInsideCulDSacCornerCornerInsideInsideInsideInsideCornerCornerInsideFR2InsideCulDSacInsideInsideCulDSacInsideCornerInsideInsideInsideInsideCornerInsideInsideInsideInsideCornerInsideCornerInsideInsideCornerInsideInsideInsideInsideInsideCulDSacInsideInsideInsideInsideInsideInsideFR2InsideInsideInsideInsideInsideInsideInsideCornerInsideInsideInsideCornerInsideCulDSacInsideInsideInsideCornerInsideInsideInsideInsideInsideCornerCornerCornerInsideInsideInsideInsideCornerInsideInsideInsideInsideCulDSacInsideCornerInsideInsideInsideInsideInsideInsideInsideInsideInsideCornerCornerInsideInsideInsideInsideCornerInsideInsideInsideInsideFR2InsideCornerFR2CornerInsideInsideInsideCornerInsideInsideInsideCornerInsideInsideInsideInsideInsideInsideInsideInsideInsideCornerInsideInsideInsideInsideInsideInsideCornerInsideInsideCornerCornerInsideInsideCornerInsideCulDSacInsideInsideCornerCornerInsideInsideInsideInsideInsideInsideCulDSacInsideFR3InsideInsideInsideInsideCulDSacFR2InsideInsideInsideFR2InsideInsideInsideCornerInsideInsideInsideInsideInsideInsideInsideInsideInsideInsideInsideInsideFR2InsideInsideInsideInsideInsideCulDSacCornerInsideInsideInsideCornerInsideInsideCornerInsideFR2InsideInsideInsideCornerInsideCulDSacInsideInsideInsideInsideInsideInsideInsideInsideInsideInsideCornerInsideInsideInsideInsideInsideInsideInsideInsideInsideInsideInsideInsideInsideInsideCornerInsideInsideInsideInsideFR2InsideInsideInsideInsideInsideCornerInsideInsideInsideInsideInsideInsideInsideCornerInsideInsideInsideCornerCornerInsideInsideCornerInsideInsideInsideInsideInsideInsideInsideInsideInsideInsideInsideCornerInsideInsideInsideInsideInsideInsideInsideInsideInsideInsideInsideInsideInsideCornerCulDSacCulDSacCornerInsideCulDSacCornerInsideInsideCornerInsideFR2InsideInsideInsideInsideInsideInsideInsideInsideInsideInsideInsideInsideCornerCulDSacCulDSacInsideFR2InsideCornerInsideCornerInsideCornerCornerInsideInsideInsideInsideInsideInsideInsideInsideInsideInsideInsideCulDSacInsideInsideInsideInsideInsideInsideInsideCulDSacInsideInsideInsideInsideInsideCulDSacInsideInsideInsideInsideInsideCornerInsideCornerInsideInsideCornerInsideCornerCornerInsideInsideCulDSacInsideInsideInsideInsideInsideInsideInsideInsideInsideCornerInsideInsideCornerInsideInsideInsideInsideInsideInsideCulDSacInsideInsideInsideFR2InsideInsideCulDSacInsideInsideInsideInsideCulDSacCulDSacInsideInsideInsideCornerFR2InsideInsideInsideInsideInsideInsideInsideCornerInsideInsideInsideInsideCornerInsideInsideCornerCulDSacInsideCornerInsideInsideInsideInsideCornerInsideInsideInsideInsideInsideFR2InsideInsideInsideCornerInsideInsideInsideInsideInsideCulDSacCornerCulDSacInsideInsideCulDSacInsideCornerInsideInsideInsideInsideInsideCulDSacInsideCornerInsideCulDSacInsideInsideInsideInsideInsideInsideInsideInsideInsideInsideCornerInsideCulDSacInsideCulDSacInsideFR2InsideInsideInsideCornerInsideCornerInsideInsideInsideCornerCornerInsideCornerInsideInsideInsideInsideCornerCornerInsideInsideInsideCornerInsideInsideInsideInsideInsideInsideCulDSacInsideCulDSacCornerInsideInsideCulDSacCornerInsideInsideInsideCornerInsideInsideInsideInsideInsideInsideInsideInsideInsideInsideInsideInsideCulDSacInsideInsideCornerInsideInsideInsideCornerCulDSacInsideInsideInsideInsideInsideInsideCornerCornerInsideInsideInsideInsideInsideCornerInsideInsideInsideCornerInsideInsideCornerFR2InsideInsideInsideInsideInsideInsideInsideFR2InsideInsideCulDSacCornerInsideInsideInsideInsideInsideCornerInsideInsideCulDSacInsideInsideInsideInsideFR2InsideCornerCornerCornerCornerInsideInsideInsideInsideInsideInsideInsideInsideCornerCornerFR2InsideInsideInsideCornerCornerCornerInsideCornerInsideInsideCornerInsideInsideInsideInsideCornerInsideInsideFR2InsideInsideInsideInsideInsideCornerCornerInsideCornerInsideInsideInsideInsideCulDSacInsideInsideInsideInsideInsideInsideInsideInsideCulDSacFR2InsideInsideInsideInsideInsideCornerCornerInsideInsideInsideInsideInsideCornerCornerInsideInsideCulDSacInsideInsideInsideInsideCornerInsideInsideInsideInsideCulDSacInsideInsideInsideInsideInsideCornerCornerInsideCornerInsideInsideFR2InsideCornerInsideInsideInsideInsideCulDSacInsideInsideInsideInsideInsideInsideInsideInsideCornerInsideInsideInsideCornerInsideInsideInsideCornerInsideInsideCornerInsideInsideInsideInsideInsideCornerInsideInsideCornerInsideInsideInsideInsideInsideInsideInsideInsideInsideCornerInsideCornerCornerCulDSacInsideInsideInsideInsideCornerInsideInsideInsideInsideFR2InsideInsideInsideInsideCornerInsideInsideInsideInsideCornerInsideInsideInsideInsideInsideInsideInsideCornerInsideInsideInsideInsideCornerCulDSacInsideInsideInsideInsideInsideInsideInsideInsideInsideInsideInsideCornerInsideCornerInsideInsideFR2InsideInsideCulDSacInsideInsideFR2InsideCornerInsideCornerCulDSacInsideInsideInsideInsideInsideInsideCulDSacInsideFR2CornerCornerInsideCornerInsideInsideInsideCornerCornerInsideInsideInsideInsideInsideFR2CornerInsideInsideCornerInsideInsideInsideCornerCornerInsideInsideCulDSacInsideInsideInsideCulDSacInsideInsideInsideCulDSacInsideInsideInsideInsideInsideInsideInsideInsideInsideInsideInsideInsideCulDSacCornerCornerInsideInsideInsideFR2InsideInsideInsideInsideFR2InsideInsideInsideInsideInsideInsideCornerInsideInsideInsideInsideInsideCornerCornerInsideInsideInsideInsideCornerCornerInsideFR2CulDSacInsideInsideInsideInsideFR3InsideInsideInsideInsideInsideInsideCulDSacCornerCornerCornerCulDSacCulDSacInsideInsideInsideCulDSacInsideCornerInsideInsideInsideInsideInsideInsideCornerInsideCornerInsideInsideInsideInsideInsideCornerInsideCulDSacInsideInsideInsideInsideCornerInsideInsideInsideInsideInsideInsideInsideCornerInsideInsideInsideCornerCulDSacInsideInsideCornerInsideInsideInsideInsideInsideInsideCornerInsideInsideInsideInsideCornerInsideInsideInsideCornerCornerCornerInsideInsideInsideInsideCornerInsideCulDSacCornerInsideInsideInsideInsideInsideCulDSacInsideInsideCornerCulDSacInsideFR3InsideInsideFR2InsideInsideInsideInsideInsideInsideFR2CornerInsideCornerInsideInsideInsideInsideInsideInsideInsideInsideCornerCornerInsideInsideInsideInsideInsideCulDSacInsideInsideInsideInsideInsideInsideInsideInsideInsideInsideInsideCornerInsideInsideCulDSacCornerInsideCornerCornerInsideCulDSacInsideInsideInsideCornerInsideInsideInsideInsideInsideInsideCornerInsideInsideCulDSacInsideInsideInsideInsideCornerCornerInsideInsideInsideInsideInsideInsideFR2FR2InsideInsideInsideInsideInsideInsideFR2InsideCulDSacInsideInsideInsideFR2InsideInsideInsideInsideInsideInsideInsideInsideInsideInsideCornerInsideInsideInsideCornerInsideInsideInsideCornerFR2InsideInsideFR2FR2InsideCornerInsideInsideInsideCornerInsideCornerInsideInsideInsideCulDSacInsideInsideCornerInsideCornerCulDSacInsideInsideCulDSacInsideInsideInsideInsideCornerFR2InsideInsideInsideInsideInsideInsideInsideInsideCornerInsideInsideInsideInsideCornerInsideCornerInsideInsideInsideInsideInsideInsideCornerInsideCornerInsideCornerInsideCornerInsideInsideCornerInsideInsideInsideCornerInsideInsideInsideCornerCornerInsideInsideInsideCornerInsideInsideInsideInsideInsideInsideInsideInsideInsideInsideInsideInsideCornerInsideInsideInsideInsideInsideInsideCornerCulDSacInsideInsideInsideInsideInsideCulDSacInsideCulDSacInsideInsideCornerInsideFR2InsideInsideInsideInsideInsideCornerCulDSacInsideInsideInsideInsideCornerInsideInsideInsideInsideFR2InsideInsideInsideInsideCornerCornerInsideInsideInsideCornerInsideInsideInsideInsideInsideInsideInsideInsideInsideInsideInsideInsideInsideInsideInsideInsideInsideInsideCornerInsideInsideCulDSacCornerCornerInsideInsideInsideInsideInsideInsideInsideInsideInsideInsideInsideCornerCulDSacInsideCornerInsideInsideInsideFR2InsideInsideFR2FR2InsideInsideInsideInsideInsideInsideInsideInsideInsideInsideFR3CulDSacInsideInsideCornerCornerCornerInsideInsideInsideInsideInsideInsideCornerInsideInsideCornerInsideInsideInsideInsideInsideInsideInsideInsideInsideCornerInsideInsideInsideCulDSacInsideInsideCulDSacInsideInsideInsideInsideInsideInsideCornerInsideInsideInsideInsideInsideCornerInsideInsideInsideCornerInsideInsideCornerInsideInsideInsideInsideInsideCulDSacInsideInsideInsideCulDSacInsideInsideCornerInsideInsideInsideInsideInsideInsideInsideInsideInsideInsideFR2InsideInsideFR2CulDSacInsideInsideInsideInsideInsideInsideInsideInsideInsideInsideCornerCornerInsideInsideCornerCornerInsideInsideCornerInsideInsideInsideInsideInsideInsideCornerInsideCulDSacCornerCornerInsideInsideCornerInsideInsideInsideCornerInsideInsideCornerInsideInsideCornerCornerInsideInsideInsideCornerInsideInsideInsideCornerInsideInsideCornerCornerInsideInsideInsideInsideInsideCornerInsideCornerInsideInsideCornerCornerInsideInsideCornerInsideInsideInsideInsideCornerInsideInsideCornerInsideInsideInsideInsideInsideInsideInsideCornerCornerCornerInsideInsideInsideInsideInsideInsideInsideCulDSacInsideInsideInsideCornerCulDSacInsideInsideInsideInsideInsideInsideCornerFR2InsideInsideInsideInsideInsideInsideInsideInsideInsideInsideInsideInsideCornerInsideInsideCulDSacInsideInsideInsideInsideInsideCulDSacInsideCornerInsideInsideCornerFR3InsideInsideInsideCornerInsideInsideInsideInsideInsideInsideInsideCornerInsideInsideInsideInsideInsideCornerInsideInsideInsideCornerInsideInsideInsideInsideInsideInsideInsideInsideInsideInsideInsideInsideInsideCornerCornerCulDSacCornerCornerInsideInsideInsideInsideInsideInsideInsideInsideInsideInsideInsideCornerInsideCornerInsideCornerFR3InsideCornerCulDSacFR2InsideInsideInsideInsideCulDSacInsideCornerInsideInsideCornerInsideFR3FR2FR2InsideInsideInsideInsideFR2InsideInsideInsideInsideInsideInsideInsideInsideInsideInsideCornerInsideCornerInsideCornerInsideInsideInsideInsideInsideInsideInsideInsideInsideInsideInsideInsideInsideFR2InsideInsideFR2InsideCulDSacCulDSacInsideInsideInsideInsideCornerInsideInsideInsideInsideFR2InsideCornerInsideInsideCulDSacInsideCornerInsideInsideInsideInsideInsideCornerInsideInsideCornerInsideInsideInsideInsideInsideInsideInsideInsideCornerInsideInsideInsideCulDSacCulDSacInsideInsideInsideInsideCulDSacInsideInsideInsideInsideInsideInsideCornerCornerInsideInsideInsideInsideInsideInsideInsideInsideInsideInsideCornerInsideInsideInsideInsideInsideCornerCornerInsideCornerCornerInsideInsideInsideInsideInsideCornerInsideCornerInsideInsideInsideInsideInsideInsideCornerInsideInsideInsideCornerInsideInsideInsideInsideCornerCornerInsideInsideCornerCornerInsideCornerInsideInsideInsideInsideInsideCornerInsideInsideCornerInsideInsideInsideInsideInsideFR2FR3InsideInsideInsideInsideInsideInsideInsideInsideInsideInsideInsideCornerInsideInsideInsideInsideCornerInsideInsideCulDSacCornerCulDSacInsideInsideInsideCornerCornerInsideCulDSacInsideInsideInsideInsideCornerCornerInsideCulDSacCornerInsideInsideInsideInsideCornerCulDSacInsideInsideCornerInsideInsideInsideInsideCulDSacInsideCulDSacCulDSacCulDSacInsideInsideCornerInsideCornerInsideInsideInsideInsideCulDSacInsideInsideCornerInsideInsideInsideInsideInsideInsideInsideCornerInsideInsideInsideCornerCornerInsideInsideCornerInsideInsideCulDSacCulDSacInsideInsideInsideInsideInsideInsideInsideCornerCornerInsideInsideInsideInsideInsideInsideInsideInsideInsideCornerInsideCornerInsideCornerInsideInsideInsideInsideCornerFR2FR2CornerInsideInsideInsideInsideCornerInsideInsideInsideCornerInsideInsideInsideCulDSacInsideInsideInsideCornerCulDSacInsideInsideInsideInsideCulDSacFR2InsideInsideInsideInsideInsideInsideInsideFR2InsideInsideCulDSacInsideInsideInsideFR2InsideFR2InsideInsideInsideInsideFR2InsideCornerInsideInsideInsideInsideCulDSacCulDSacCornerInsideCornerInsideInsideInsideInsideInsideCornerInsideInsideInsideInsideInsideInsideInsideInsideInsideInsideInsideInsideCornerInsideInsideInsideInsideInsideInsideCornerInsideCornerInsideInsideInsideInsideInsideInsideInsideInsideInsideInsideInsideInsideInsideInsideFR2InsideInsideInsideInsideInsideInsideInsideCornerInsideCornerCornerInsideInsideInsideInsideInsideCornerInsideInsideCornerInsideCulDSacCulDSacFR2InsideInsideInsideInsideInsideInsideInsideInsideInsideFR2InsideInsideInsideInsideInsideCornerCornerInsideInsideCornerInsideInsideInsideInsideCulDSacCulDSacInsideInsideInsideInsideInsideCornerInsideInsideInsideInsideInsideCornerInsideInsideInsideInsideCornerInsideInsideInsideInsideInsideInsideInsideInsideInsideCornerInsideCornerInsideInsideInsideInsideInsideCornerInsideInsideInsideInsideInsideInsideInsideInsideInsideCornerInsideInsideInsideInsideCornerInsideInsideCornerInsideInsideInsideInsideInsideInsideInsideCornerInsideInsideInsideInsideInsideInsideInsideInsideInsideInsideInsideInsideInsideInsideCornerInsideInsideCornerInsideInsideInsideCornerInsideCornerInsideInsideInsideInsideInsideFR3InsideInsideCornerInsideInsideInsideInsideCornerInsideCornerCornerInsideInsideCornerInsideInsideCulDSacInsideInsideInsideInsideInsideInsideInsideInsideInsideInsideInsideInsideInsideInsideInsideCulDSacInsideInsideInsideCulDSacCulDSacInsideInsideInsideInsideInsideCulDSacCulDSacCornerInsideInsideInsideInsideInsideInsideInsideCornerCulDSacInsideFR2InsideInsideInsideInsideInsideInsideInsideInsideCulDSacInsideInsideInsideInsideCornerInsideCornerInsideInsideInsideInsideInsideInsideInsideInsideInsideInsideInsideInsideCulDSacCulDSacInsideInsideInsideCornerCulDSacCornerInsideInsideInsideCornerInsideCornerInsideInsideCulDSacInsideCulDSacCulDSacInsideCornerInsideInsideInsideInsideCulDSacInsideInsideInsideInsideInsideInsideFR3InsideInsideInsideInsideInsideCornerInsideCornerInsideInsideCornerInsideInsideInsideInsideCornerCulDSacCornerInsideInsideInsideCulDSacCulDSacInsideInsideInsideCulDSacCulDSacCulDSacCulDSacCornerInsideInsideFR3InsideInsideInsideInsideInsideInsideFR2InsideInsideInsideInsideInsideInsideInsideFR2InsideInsideCornerCornerCornerCornerInsideCornerInsideInsideInsideCornerCornerInsideInsideInsideInsideInsideInsideCornerInsideInsideInsideInsideInsideInsideInsideFR3InsideCornerInsideInsideInsideInsideInsideInsideCulDSacCornerInsideCornerInsideInsideCornerInsideInsideInsideInsideInsideInsideInsideInsideInsideInsideInsideCulDSacInsideInsideCulDSacInsideInsideCornerInsideInsideInsideInsideFR2CornerInsideCornerInsideCornerInsideInsideInsideInsideInsideInsideCulDSacInsideInsideInsideInsideInsideCornerInsideInsideInsideInsideInsideCornerCornerCornerCornerInsideInsideInsideCornerInsideInsideInsideInsideInsideInsideInsideInsideInsideInsideCornerInsideInsideInsideInsideInsideCornerInsideInsideCornerCornerInsideCornerInsideInsideCornerInsideCornerInsideInsideInsideInsideInsideInsideInsideInsideInsideInsideInsideInsideInsideCornerInsideInsideCornerInsideInsideInsideInsideInsideInsideFR3InsideCornerInsideCornerFR2InsideInsideInsideInsideCornerCornerInsideCulDSacInsideInsideInsideInsideInsideCornerInsideCornerInsideCornerInsideInsideInsideInsideInsideInsideInsideInsideInsideCornerInsideCornerInsideInsideInsideCornerInsideCulDSacInsideCornerInsideCulDSacInsideInsideCulDSacCornerInsideInsideFR2CornerCornerInsideInsideInsideInsideFR2InsideCulDSacInsideInsideInsideCornerInsideInsideInsideCornerFR2InsideInsideInsideInsideInsideCornerInsideCornerInsideInsideCornerInsideInsideInsideInsideInsideInsideInsideInsideInsideInsideInsideInsideInsideInsideInsideInsideInsideInsideCornerCornerInsideInsideCornerInsideInsideInsideInsideInsideCornerInsideInsideInsideInsideInsideInsideInsideInsideInsideInside to numeric"
     ]
    }
   ],
   "source": [
    "df['LotConfig'].mean()"
   ]
  },
  {
   "cell_type": "code",
   "execution_count": 32,
   "metadata": {},
   "outputs": [
    {
     "ename": "TypeError",
     "evalue": "'>=' not supported between instances of 'str' and 'float'",
     "output_type": "error",
     "traceback": [
      "\u001b[0;31m---------------------------------------------------------------------------\u001b[0m",
      "\u001b[0;31mTypeError\u001b[0m                                 Traceback (most recent call last)",
      "\u001b[0;32m/miniconda3/lib/python3.7/site-packages/pandas/core/nanops.py\u001b[0m in \u001b[0;36mf\u001b[0;34m(values, axis, skipna, **kwds)\u001b[0m\n\u001b[1;32m    126\u001b[0m                 \u001b[0;32melse\u001b[0m\u001b[0;34m:\u001b[0m\u001b[0;34m\u001b[0m\u001b[0;34m\u001b[0m\u001b[0m\n\u001b[0;32m--> 127\u001b[0;31m                     \u001b[0mresult\u001b[0m \u001b[0;34m=\u001b[0m \u001b[0malt\u001b[0m\u001b[0;34m(\u001b[0m\u001b[0mvalues\u001b[0m\u001b[0;34m,\u001b[0m \u001b[0maxis\u001b[0m\u001b[0;34m=\u001b[0m\u001b[0maxis\u001b[0m\u001b[0;34m,\u001b[0m \u001b[0mskipna\u001b[0m\u001b[0;34m=\u001b[0m\u001b[0mskipna\u001b[0m\u001b[0;34m,\u001b[0m \u001b[0;34m**\u001b[0m\u001b[0mkwds\u001b[0m\u001b[0;34m)\u001b[0m\u001b[0;34m\u001b[0m\u001b[0;34m\u001b[0m\u001b[0m\n\u001b[0m\u001b[1;32m    128\u001b[0m             \u001b[0;32mexcept\u001b[0m \u001b[0mException\u001b[0m\u001b[0;34m:\u001b[0m\u001b[0;34m\u001b[0m\u001b[0;34m\u001b[0m\u001b[0m\n",
      "\u001b[0;32m/miniconda3/lib/python3.7/site-packages/pandas/core/nanops.py\u001b[0m in \u001b[0;36mreduction\u001b[0;34m(values, axis, skipna, mask)\u001b[0m\n\u001b[1;32m    741\u001b[0m         \u001b[0;32melse\u001b[0m\u001b[0;34m:\u001b[0m\u001b[0;34m\u001b[0m\u001b[0;34m\u001b[0m\u001b[0m\n\u001b[0;32m--> 742\u001b[0;31m             \u001b[0mresult\u001b[0m \u001b[0;34m=\u001b[0m \u001b[0mgetattr\u001b[0m\u001b[0;34m(\u001b[0m\u001b[0mvalues\u001b[0m\u001b[0;34m,\u001b[0m \u001b[0mmeth\u001b[0m\u001b[0;34m)\u001b[0m\u001b[0;34m(\u001b[0m\u001b[0maxis\u001b[0m\u001b[0;34m)\u001b[0m\u001b[0;34m\u001b[0m\u001b[0;34m\u001b[0m\u001b[0m\n\u001b[0m\u001b[1;32m    743\u001b[0m \u001b[0;34m\u001b[0m\u001b[0m\n",
      "\u001b[0;32m/miniconda3/lib/python3.7/site-packages/numpy/core/_methods.py\u001b[0m in \u001b[0;36m_amax\u001b[0;34m(a, axis, out, keepdims, initial)\u001b[0m\n\u001b[1;32m     27\u001b[0m           initial=_NoValue):\n\u001b[0;32m---> 28\u001b[0;31m     \u001b[0;32mreturn\u001b[0m \u001b[0mumr_maximum\u001b[0m\u001b[0;34m(\u001b[0m\u001b[0ma\u001b[0m\u001b[0;34m,\u001b[0m \u001b[0maxis\u001b[0m\u001b[0;34m,\u001b[0m \u001b[0;32mNone\u001b[0m\u001b[0;34m,\u001b[0m \u001b[0mout\u001b[0m\u001b[0;34m,\u001b[0m \u001b[0mkeepdims\u001b[0m\u001b[0;34m,\u001b[0m \u001b[0minitial\u001b[0m\u001b[0;34m)\u001b[0m\u001b[0;34m\u001b[0m\u001b[0;34m\u001b[0m\u001b[0m\n\u001b[0m\u001b[1;32m     29\u001b[0m \u001b[0;34m\u001b[0m\u001b[0m\n",
      "\u001b[0;31mTypeError\u001b[0m: '>=' not supported between instances of 'str' and 'float'",
      "\nDuring handling of the above exception, another exception occurred:\n",
      "\u001b[0;31mTypeError\u001b[0m                                 Traceback (most recent call last)",
      "\u001b[0;32m<ipython-input-32-8873f6aeb684>\u001b[0m in \u001b[0;36m<module>\u001b[0;34m\u001b[0m\n\u001b[0;32m----> 1\u001b[0;31m \u001b[0mdf\u001b[0m\u001b[0;34m[\u001b[0m\u001b[0;34m'MSZoning'\u001b[0m\u001b[0;34m]\u001b[0m\u001b[0;34m.\u001b[0m\u001b[0mmax\u001b[0m\u001b[0;34m(\u001b[0m\u001b[0;34m)\u001b[0m\u001b[0;34m\u001b[0m\u001b[0;34m\u001b[0m\u001b[0m\n\u001b[0m",
      "\u001b[0;32m/miniconda3/lib/python3.7/site-packages/pandas/core/generic.py\u001b[0m in \u001b[0;36mstat_func\u001b[0;34m(self, axis, skipna, level, numeric_only, **kwargs)\u001b[0m\n\u001b[1;32m  10954\u001b[0m                                       skipna=skipna)\n\u001b[1;32m  10955\u001b[0m         return self._reduce(f, name, axis=axis, skipna=skipna,\n\u001b[0;32m> 10956\u001b[0;31m                             numeric_only=numeric_only)\n\u001b[0m\u001b[1;32m  10957\u001b[0m \u001b[0;34m\u001b[0m\u001b[0m\n\u001b[1;32m  10958\u001b[0m     \u001b[0;32mreturn\u001b[0m \u001b[0mset_function_name\u001b[0m\u001b[0;34m(\u001b[0m\u001b[0mstat_func\u001b[0m\u001b[0;34m,\u001b[0m \u001b[0mname\u001b[0m\u001b[0;34m,\u001b[0m \u001b[0mcls\u001b[0m\u001b[0;34m)\u001b[0m\u001b[0;34m\u001b[0m\u001b[0;34m\u001b[0m\u001b[0m\n",
      "\u001b[0;32m/miniconda3/lib/python3.7/site-packages/pandas/core/series.py\u001b[0m in \u001b[0;36m_reduce\u001b[0;34m(self, op, name, axis, skipna, numeric_only, filter_type, **kwds)\u001b[0m\n\u001b[1;32m   3628\u001b[0m                                           'numeric_only.'.format(name))\n\u001b[1;32m   3629\u001b[0m             \u001b[0;32mwith\u001b[0m \u001b[0mnp\u001b[0m\u001b[0;34m.\u001b[0m\u001b[0merrstate\u001b[0m\u001b[0;34m(\u001b[0m\u001b[0mall\u001b[0m\u001b[0;34m=\u001b[0m\u001b[0;34m'ignore'\u001b[0m\u001b[0;34m)\u001b[0m\u001b[0;34m:\u001b[0m\u001b[0;34m\u001b[0m\u001b[0;34m\u001b[0m\u001b[0m\n\u001b[0;32m-> 3630\u001b[0;31m                 \u001b[0;32mreturn\u001b[0m \u001b[0mop\u001b[0m\u001b[0;34m(\u001b[0m\u001b[0mdelegate\u001b[0m\u001b[0;34m,\u001b[0m \u001b[0mskipna\u001b[0m\u001b[0;34m=\u001b[0m\u001b[0mskipna\u001b[0m\u001b[0;34m,\u001b[0m \u001b[0;34m**\u001b[0m\u001b[0mkwds\u001b[0m\u001b[0;34m)\u001b[0m\u001b[0;34m\u001b[0m\u001b[0;34m\u001b[0m\u001b[0m\n\u001b[0m\u001b[1;32m   3631\u001b[0m \u001b[0;34m\u001b[0m\u001b[0m\n\u001b[1;32m   3632\u001b[0m         \u001b[0;31m# TODO(EA) dispatch to Index\u001b[0m\u001b[0;34m\u001b[0m\u001b[0;34m\u001b[0m\u001b[0;34m\u001b[0m\u001b[0m\n",
      "\u001b[0;32m/miniconda3/lib/python3.7/site-packages/pandas/core/nanops.py\u001b[0m in \u001b[0;36mf\u001b[0;34m(values, axis, skipna, **kwds)\u001b[0m\n\u001b[1;32m    128\u001b[0m             \u001b[0;32mexcept\u001b[0m \u001b[0mException\u001b[0m\u001b[0;34m:\u001b[0m\u001b[0;34m\u001b[0m\u001b[0;34m\u001b[0m\u001b[0m\n\u001b[1;32m    129\u001b[0m                 \u001b[0;32mtry\u001b[0m\u001b[0;34m:\u001b[0m\u001b[0;34m\u001b[0m\u001b[0;34m\u001b[0m\u001b[0m\n\u001b[0;32m--> 130\u001b[0;31m                     \u001b[0mresult\u001b[0m \u001b[0;34m=\u001b[0m \u001b[0malt\u001b[0m\u001b[0;34m(\u001b[0m\u001b[0mvalues\u001b[0m\u001b[0;34m,\u001b[0m \u001b[0maxis\u001b[0m\u001b[0;34m=\u001b[0m\u001b[0maxis\u001b[0m\u001b[0;34m,\u001b[0m \u001b[0mskipna\u001b[0m\u001b[0;34m=\u001b[0m\u001b[0mskipna\u001b[0m\u001b[0;34m,\u001b[0m \u001b[0;34m**\u001b[0m\u001b[0mkwds\u001b[0m\u001b[0;34m)\u001b[0m\u001b[0;34m\u001b[0m\u001b[0;34m\u001b[0m\u001b[0m\n\u001b[0m\u001b[1;32m    131\u001b[0m                 \u001b[0;32mexcept\u001b[0m \u001b[0mValueError\u001b[0m \u001b[0;32mas\u001b[0m \u001b[0me\u001b[0m\u001b[0;34m:\u001b[0m\u001b[0;34m\u001b[0m\u001b[0;34m\u001b[0m\u001b[0m\n\u001b[1;32m    132\u001b[0m                     \u001b[0;31m# we want to transform an object array\u001b[0m\u001b[0;34m\u001b[0m\u001b[0;34m\u001b[0m\u001b[0;34m\u001b[0m\u001b[0m\n",
      "\u001b[0;32m/miniconda3/lib/python3.7/site-packages/pandas/core/nanops.py\u001b[0m in \u001b[0;36mreduction\u001b[0;34m(values, axis, skipna, mask)\u001b[0m\n\u001b[1;32m    740\u001b[0m                 \u001b[0mresult\u001b[0m \u001b[0;34m=\u001b[0m \u001b[0mnp\u001b[0m\u001b[0;34m.\u001b[0m\u001b[0mnan\u001b[0m\u001b[0;34m\u001b[0m\u001b[0;34m\u001b[0m\u001b[0m\n\u001b[1;32m    741\u001b[0m         \u001b[0;32melse\u001b[0m\u001b[0;34m:\u001b[0m\u001b[0;34m\u001b[0m\u001b[0;34m\u001b[0m\u001b[0m\n\u001b[0;32m--> 742\u001b[0;31m             \u001b[0mresult\u001b[0m \u001b[0;34m=\u001b[0m \u001b[0mgetattr\u001b[0m\u001b[0;34m(\u001b[0m\u001b[0mvalues\u001b[0m\u001b[0;34m,\u001b[0m \u001b[0mmeth\u001b[0m\u001b[0;34m)\u001b[0m\u001b[0;34m(\u001b[0m\u001b[0maxis\u001b[0m\u001b[0;34m)\u001b[0m\u001b[0;34m\u001b[0m\u001b[0;34m\u001b[0m\u001b[0m\n\u001b[0m\u001b[1;32m    743\u001b[0m \u001b[0;34m\u001b[0m\u001b[0m\n\u001b[1;32m    744\u001b[0m         \u001b[0mresult\u001b[0m \u001b[0;34m=\u001b[0m \u001b[0m_wrap_results\u001b[0m\u001b[0;34m(\u001b[0m\u001b[0mresult\u001b[0m\u001b[0;34m,\u001b[0m \u001b[0mdtype\u001b[0m\u001b[0;34m,\u001b[0m \u001b[0mfill_value\u001b[0m\u001b[0;34m)\u001b[0m\u001b[0;34m\u001b[0m\u001b[0;34m\u001b[0m\u001b[0m\n",
      "\u001b[0;32m/miniconda3/lib/python3.7/site-packages/numpy/core/_methods.py\u001b[0m in \u001b[0;36m_amax\u001b[0;34m(a, axis, out, keepdims, initial)\u001b[0m\n\u001b[1;32m     26\u001b[0m def _amax(a, axis=None, out=None, keepdims=False,\n\u001b[1;32m     27\u001b[0m           initial=_NoValue):\n\u001b[0;32m---> 28\u001b[0;31m     \u001b[0;32mreturn\u001b[0m \u001b[0mumr_maximum\u001b[0m\u001b[0;34m(\u001b[0m\u001b[0ma\u001b[0m\u001b[0;34m,\u001b[0m \u001b[0maxis\u001b[0m\u001b[0;34m,\u001b[0m \u001b[0;32mNone\u001b[0m\u001b[0;34m,\u001b[0m \u001b[0mout\u001b[0m\u001b[0;34m,\u001b[0m \u001b[0mkeepdims\u001b[0m\u001b[0;34m,\u001b[0m \u001b[0minitial\u001b[0m\u001b[0;34m)\u001b[0m\u001b[0;34m\u001b[0m\u001b[0;34m\u001b[0m\u001b[0m\n\u001b[0m\u001b[1;32m     29\u001b[0m \u001b[0;34m\u001b[0m\u001b[0m\n\u001b[1;32m     30\u001b[0m def _amin(a, axis=None, out=None, keepdims=False,\n",
      "\u001b[0;31mTypeError\u001b[0m: '>=' not supported between instances of 'str' and 'float'"
     ]
    }
   ],
   "source": [
    "df['MSZoning'].max()"
   ]
  },
  {
   "cell_type": "code",
   "execution_count": 29,
   "metadata": {},
   "outputs": [
    {
     "name": "stdout",
     "output_type": "stream",
     "text": [
      "5\n",
      "2\n",
      "2\n",
      "4\n",
      "4\n",
      "2\n",
      "5\n",
      "3\n",
      "25\n",
      "9\n",
      "8\n",
      "5\n",
      "8\n",
      "6\n",
      "8\n",
      "15\n",
      "16\n",
      "4\n",
      "4\n",
      "5\n",
      "6\n",
      "4\n",
      "4\n",
      "4\n",
      "6\n",
      "6\n",
      "6\n",
      "5\n",
      "2\n",
      "5\n",
      "4\n",
      "7\n",
      "5\n",
      "6\n",
      "3\n",
      "5\n",
      "5\n",
      "3\n",
      "3\n",
      "4\n",
      "4\n",
      "9\n",
      "6\n"
     ]
    }
   ],
   "source": [
    "for c in object_features:\n",
    "    m = df[c].nunique()\n",
    "    print(m)"
   ]
  },
  {
   "cell_type": "code",
   "execution_count": 30,
   "metadata": {},
   "outputs": [
    {
     "data": {
      "text/plain": [
       "MSZoning          5\n",
       "Street            2\n",
       "Alley             2\n",
       "LotShape          4\n",
       "LandContour       4\n",
       "Utilities         2\n",
       "LotConfig         5\n",
       "LandSlope         3\n",
       "Neighborhood     25\n",
       "Condition1        9\n",
       "Condition2        8\n",
       "BldgType          5\n",
       "HouseStyle        8\n",
       "RoofStyle         6\n",
       "RoofMatl          8\n",
       "Exterior1st      15\n",
       "Exterior2nd      16\n",
       "MasVnrType        4\n",
       "ExterQual         4\n",
       "ExterCond         5\n",
       "Foundation        6\n",
       "BsmtQual          4\n",
       "BsmtCond          4\n",
       "BsmtExposure      4\n",
       "BsmtFinType1      6\n",
       "BsmtFinType2      6\n",
       "Heating           6\n",
       "HeatingQC         5\n",
       "CentralAir        2\n",
       "Electrical        5\n",
       "KitchenQual       4\n",
       "Functional        7\n",
       "FireplaceQu       5\n",
       "GarageType        6\n",
       "GarageFinish      3\n",
       "GarageQual        5\n",
       "GarageCond        5\n",
       "PavedDrive        3\n",
       "PoolQC            3\n",
       "Fence             4\n",
       "MiscFeature       4\n",
       "SaleType          9\n",
       "SaleCondition     6\n",
       "dtype: int64"
      ]
     },
     "execution_count": 30,
     "metadata": {},
     "output_type": "execute_result"
    }
   ],
   "source": [
    "df[object_features].nunique()"
   ]
  },
  {
   "cell_type": "code",
   "execution_count": 33,
   "metadata": {},
   "outputs": [
    {
     "data": {
      "text/plain": [
       "MSSubClass         16\n",
       "LotArea          1951\n",
       "OverallQual        10\n",
       "OverallCond         9\n",
       "YearBuilt         118\n",
       "YearRemodAdd       61\n",
       "1stFlrSF         1083\n",
       "2ndFlrSF          635\n",
       "LowQualFinSF       36\n",
       "GrLivArea        1292\n",
       "FullBath            5\n",
       "HalfBath            3\n",
       "BedroomAbvGr        8\n",
       "KitchenAbvGr        4\n",
       "TotRmsAbvGrd       14\n",
       "Fireplaces          5\n",
       "WoodDeckSF        379\n",
       "OpenPorchSF       252\n",
       "EnclosedPorch     183\n",
       "3SsnPorch          31\n",
       "ScreenPorch       121\n",
       "PoolArea           14\n",
       "MiscVal            38\n",
       "MoSold             12\n",
       "YrSold              5\n",
       "dtype: int64"
      ]
     },
     "execution_count": 33,
     "metadata": {},
     "output_type": "execute_result"
    }
   ],
   "source": [
    "df[int_features].nunique()"
   ]
  },
  {
   "cell_type": "code",
   "execution_count": 34,
   "metadata": {},
   "outputs": [
    {
     "data": {
      "text/plain": [
       "LotFrontage      128\n",
       "MasVnrArea       444\n",
       "BsmtFinSF1       991\n",
       "BsmtFinSF2       272\n",
       "BsmtUnfSF       1135\n",
       "TotalBsmtSF     1058\n",
       "BsmtFullBath       4\n",
       "BsmtHalfBath       3\n",
       "GarageYrBlt      103\n",
       "GarageCars         6\n",
       "GarageArea       603\n",
       "dtype: int64"
      ]
     },
     "execution_count": 34,
     "metadata": {},
     "output_type": "execute_result"
    }
   ],
   "source": [
    "df[float_features].nunique()"
   ]
  },
  {
   "cell_type": "markdown",
   "metadata": {},
   "source": [
    "五種類型：數值、類別、時間、二元、排序\n",
    "其他類資料\n",
    "經緯度：數值，但有循環\n",
    "角度：數值，有循環（或者不循環也可以）\n",
    "顏色：分量組合"
   ]
  }
 ],
 "metadata": {
  "kernelspec": {
   "display_name": "Python 3",
   "language": "python",
   "name": "python3"
  },
  "language_info": {
   "codemirror_mode": {
    "name": "ipython",
    "version": 3
   },
   "file_extension": ".py",
   "mimetype": "text/x-python",
   "name": "python",
   "nbconvert_exporter": "python",
   "pygments_lexer": "ipython3",
   "version": "3.7.3"
  }
 },
 "nbformat": 4,
 "nbformat_minor": 2
}
