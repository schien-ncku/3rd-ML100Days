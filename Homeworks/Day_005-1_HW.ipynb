{
 "cells": [
  {
   "cell_type": "markdown",
   "metadata": {},
   "source": [
    "# [作業目標]\n",
    "- 利用範例的創建方式, 創建一組資料, 並練習如何取出最大值"
   ]
  },
  {
   "cell_type": "markdown",
   "metadata": {},
   "source": [
    "# [作業重點]\n",
    "- 練習創立 DataFrame (In[2])\n",
    "- 如何取出口數最多的國家 (In[3], Out[3])"
   ]
  },
  {
   "cell_type": "markdown",
   "metadata": {},
   "source": [
    "## 練習時間\n",
    "在小量的資料上，我們用眼睛就可以看得出來程式碼是否有跑出我們理想中的結果\n",
    "\n",
    "請嘗試想像一個你需要的資料結構 (裡面的值可以是隨機的)，然後用上述的方法把它變成 pandas DataFrame\n",
    "\n",
    "#### Ex: 想像一個 dataframe 有兩個欄位，一個是國家，一個是人口，求人口數最多的國家\n",
    "\n",
    "### Hints: [隨機產生數值](https://blog.csdn.net/christianashannon/article/details/78867204)"
   ]
  },
  {
   "cell_type": "code",
   "execution_count": 1,
   "metadata": {},
   "outputs": [],
   "source": [
    "import pandas as pd\n",
    "import numpy as np"
   ]
  },
  {
   "cell_type": "markdown",
   "metadata": {
    "collapsed": true
   },
   "source": [
    "data = {'國家': ,\n",
    "        '人口': }\n",
    "data = pd.DataFrame()\n"
   ]
  },
  {
   "cell_type": "code",
   "execution_count": 2,
   "metadata": {},
   "outputs": [
    {
     "name": "stdout",
     "output_type": "stream",
     "text": [
      "    國家          人口\n",
      "0    0  1096022542\n",
      "1    1   606976945\n",
      "2    2  1353123458\n",
      "3    3  1122986063\n",
      "4    4   948845325\n",
      "5    5  1266765781\n",
      "6    6  1148624414\n",
      "7    7   802833427\n",
      "8    8   826434931\n",
      "9    9   568109801\n",
      "10  10  1496747338\n",
      "11  11   231612375\n",
      "12  12   968063762\n",
      "13  13   753647723\n",
      "14  14   820368030\n",
      "15  15  1359725872\n",
      "16  16   480356674\n",
      "17  17   772917710\n",
      "18  18   982886163\n",
      "19  19   931209342\n",
      "20  20   327484829\n",
      "21  21   648263759\n",
      "22  22   964930011\n",
      "23  23   398987382\n",
      "24  24   591461016\n",
      "25  25  1481371222\n",
      "26  26   899592219\n",
      "27  27  1318959451\n",
      "28  28    20445130\n",
      "29  29  1011711132\n",
      "..  ..         ...\n",
      "60  60  1320599468\n",
      "61  61   382225361\n",
      "62  62   804574467\n",
      "63  63  1236018697\n",
      "64  64   156990979\n",
      "65  65   743906195\n",
      "66  66   372878751\n",
      "67  67   325702118\n",
      "68  68  1196559571\n",
      "69  69   477831126\n",
      "70  70   682936015\n",
      "71  71  1072367007\n",
      "72  72  1397678885\n",
      "73  73   496022717\n",
      "74  74   644194021\n",
      "75  75   854814075\n",
      "76  76   622366430\n",
      "77  77   271650865\n",
      "78  78   277268544\n",
      "79  79    40437618\n",
      "80  80   597474413\n",
      "81  81   521892115\n",
      "82  82   934219139\n",
      "83  83   397432531\n",
      "84  84   195363760\n",
      "85  85  1427148819\n",
      "86  86   535424982\n",
      "87  87   769679899\n",
      "88  88  1256573145\n",
      "89  89   898342015\n",
      "\n",
      "[90 rows x 2 columns]\n"
     ]
    }
   ],
   "source": [
    "# number of countries\n",
    "country_count = 90\n",
    "\n",
    "# using numbers to identify countries\n",
    "countries = np.arange(country_count)\n",
    "#print(countries)\n",
    "\n",
    "# create populations between 1,500,000,000 and 10,000,000\n",
    "pop_max = 1500000000\n",
    "pop_min = 10000000\n",
    "populations = np.random.randint(pop_min, high=pop_max, size=country_count)\n",
    "#print(populations)\n",
    "\n",
    "list_labels = ['國家', '人口']\n",
    "list_cols = [countries, populations]\n",
    "zipped = list(zip(list_labels, list_cols))\n",
    "\n",
    "country_population = pd.DataFrame(dict(zipped))\n",
    "print(country_population)"
   ]
  },
  {
   "cell_type": "code",
   "execution_count": 3,
   "metadata": {},
   "outputs": [
    {
     "data": {
      "text/html": [
       "<div>\n",
       "<style scoped>\n",
       "    .dataframe tbody tr th:only-of-type {\n",
       "        vertical-align: middle;\n",
       "    }\n",
       "\n",
       "    .dataframe tbody tr th {\n",
       "        vertical-align: top;\n",
       "    }\n",
       "\n",
       "    .dataframe thead th {\n",
       "        text-align: right;\n",
       "    }\n",
       "</style>\n",
       "<table border=\"1\" class=\"dataframe\">\n",
       "  <thead>\n",
       "    <tr style=\"text-align: right;\">\n",
       "      <th></th>\n",
       "      <th>國家</th>\n",
       "      <th>人口</th>\n",
       "    </tr>\n",
       "  </thead>\n",
       "  <tbody>\n",
       "    <tr>\n",
       "      <th>10</th>\n",
       "      <td>10</td>\n",
       "      <td>1496747338</td>\n",
       "    </tr>\n",
       "  </tbody>\n",
       "</table>\n",
       "</div>"
      ],
      "text/plain": [
       "    國家          人口\n",
       "10  10  1496747338"
      ]
     },
     "execution_count": 3,
     "metadata": {},
     "output_type": "execute_result"
    }
   ],
   "source": [
    "# find max population\n",
    "pop_max = country_population['人口'].max()\n",
    "# find the matching country\n",
    "country_population.loc[country_population['人口']==pop_max]"
   ]
  }
 ],
 "metadata": {
  "kernelspec": {
   "display_name": "Python 3",
   "language": "python",
   "name": "python3"
  },
  "language_info": {
   "codemirror_mode": {
    "name": "ipython",
    "version": 3
   },
   "file_extension": ".py",
   "mimetype": "text/x-python",
   "name": "python",
   "nbconvert_exporter": "python",
   "pygments_lexer": "ipython3",
   "version": "3.7.3"
  }
 },
 "nbformat": 4,
 "nbformat_minor": 2
}
