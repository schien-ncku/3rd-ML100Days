{
 "cells": [
  {
   "cell_type": "markdown",
   "metadata": {},
   "source": [
    "## 練習時間"
   ]
  },
  {
   "cell_type": "markdown",
   "metadata": {},
   "source": [
    "請觀看李宏毅教授以神奇寶貝進化 CP 值預測的範例，解說何謂機器學習與過擬合。並回答以下問題"
   ]
  },
  {
   "cell_type": "markdown",
   "metadata": {},
   "source": [
    "[youtube](https://www.youtube.com/watch?v=fegAeph9UaA)"
   ]
  },
  {
   "cell_type": "markdown",
   "metadata": {},
   "source": [
    "### 1. 模型的泛化能力 (generalization) 是指什麼？\n",
    "\n",
    "Generalization指模型能適用到更大的範圍\n",
    "\n",
    "### 2. 分類問題與回歸問題分別可用的目標函數有哪些？\n",
    "\n",
    "目標函數設定為損失函數結果最小化\n",
    "\n",
    "分類問題的損失函數可採用\n",
    "1. 錯誤預測的機率\n",
    "2. 交叉熵損失函數（Logistic迴歸）\n",
    "3. 交叉熵損失函數（Softmax激活）\n",
    "\n",
    "迴歸問題的損失函數可採用\n",
    "1. 均方誤差函數（MSE）：預測值與目標值差異之平方值總平均\n",
    "2. 平均絕對誤差（MAE）：預測值與目標值之差異絕對值的總平均\n",
    "3. 平滑平均絕對誤差（Huber Loss）：當誤差值趨近0時採用MAE，反之則採用MSE\n",
    "\n"
   ]
  },
  {
   "cell_type": "code",
   "execution_count": null,
   "metadata": {},
   "outputs": [],
   "source": []
  }
 ],
 "metadata": {
  "kernelspec": {
   "display_name": "Python 3",
   "language": "python",
   "name": "python3"
  },
  "language_info": {
   "codemirror_mode": {
    "name": "ipython",
    "version": 3
   },
   "file_extension": ".py",
   "mimetype": "text/x-python",
   "name": "python",
   "nbconvert_exporter": "python",
   "pygments_lexer": "ipython3",
   "version": "3.7.3"
  }
 },
 "nbformat": 4,
 "nbformat_minor": 2
}
